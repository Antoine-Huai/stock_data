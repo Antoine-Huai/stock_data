{
 "cells": [
  {
   "cell_type": "code",
   "execution_count": 1,
   "metadata": {
    "collapsed": true,
    "pycharm": {
     "is_executing": false,
     "name": "#%%\n"
    }
   },
   "outputs": [
    {
     "name": "stdout",
     "text": [
      "login success!\nbaostock login => error_code: 0 error_msg: success\n\n"
     ],
     "output_type": "stream"
    },
    {
     "name": "stderr",
     "text": [
      "/Users/kk/miniconda3/envs/quant/lib/python3.7/site-packages/tushare/util/upass.py:28: FutureWarning:\n\n\n.ix is deprecated. Please use\n.loc for label based indexing or\n.iloc for positional indexing\n\nSee the documentation here:\nhttp://pandas.pydata.org/pandas-docs/stable/user_guide/indexing.html#ix-indexer-is-deprecated\n\n"
     ],
     "output_type": "stream"
    }
   ],
   "source": [
    "import tushare as ts\n",
    "import plotly.graph_objects as go\n",
    "import plotly.io as pio\n",
    "import plotly.express as px\n",
    "import pandas as pd\n",
    "import numpy as np\n",
    "import baostock as bao\n",
    "from baostock.data.resultset import ResultData\n",
    "import baostock.common.contants as bao_consts\n",
    "from pandas import Timestamp\n",
    "from sz.stock_data.toolbox.data_provider import ts_code\n",
    "from datetime import date, datetime, timedelta\n",
    "\n",
    "ts.set_token('f96b1eeee9c8fddd357f2299cdedc1c88b2bb2a30ae1f772cf810dea')\n",
    "ts_api = ts.pro_api()\n",
    "\n",
    "blg = bao.login()\n",
    "print('baostock login => error_code: %s error_msg: %s\\n' %\n",
    "      (blg.error_code, blg.error_msg))\n",
    "\n",
    "\n",
    "from sz.stock_data.stock_data import StockData\n",
    "StockData().setup(data_dir = '/Volumes/USBDATA/stock_data')\n",
    "\n",
    "from sz.stock_data.stocks.stock_daily import StockDaily\n",
    "from sz.stock_data.toolbox.helper import need_update_by_trade_date\n",
    "\n",
    " "
   ]
  },
  {
   "cell_type": "code",
   "execution_count": 2,
   "outputs": [
    {
     "name": "stdout",
     "text": [
      "need update: True\n"
     ],
     "output_type": "stream"
    }
   ],
   "source": [
    "stock = StockDaily(StockData().data_dir, stock_code = '300059.SZ').prepare()\n",
    "\n",
    "print(\"need update: %s\" % need_update_by_trade_date(stock.dataframe, 'date'))"
   ],
   "metadata": {
    "collapsed": false,
    "pycharm": {
     "name": "#%%\n",
     "is_executing": false
    }
   }
  },
  {
   "cell_type": "code",
   "execution_count": 2,
   "outputs": [
    {
     "name": "stdout",
     "text": [
      "000001.SZ\n000002.SZ\n000063.SZ\n000069.SZ\n000100.SZ\n000157.SZ\n000166.SZ\n000333.SZ\n000338.SZ\n000402.SZ\n000408.SZ\n000413.SZ\n000415.SZ\n000423.SZ\n000425.SZ\n000538.SZ\n000553.SZ\n000568.SZ\n000596.SZ\n000625.SZ\n000627.SZ\n000629.SZ\n000630.SZ\n000651.SZ\n000656.SZ\n000661.SZ\n000671.SZ\n000703.SZ\n000709.SZ\n000725.SZ\n000728.SZ\n000768.SZ\n000776.SZ\n000783.SZ\n000786.SZ\n000858.SZ\n000876.SZ\n000895.SZ\n000898.SZ\n000938.SZ\n000961.SZ\n000963.SZ\n001979.SZ\n002001.SZ\n002007.SZ\n002008.SZ\n002010.SZ\n002024.SZ\n002027.SZ\n002032.SZ\n002044.SZ\n002050.SZ\n002065.SZ\n002081.SZ\n002120.SZ\n002142.SZ\n002146.SZ\n002153.SZ\n002179.SZ\n002202.SZ\n002230.SZ\n002236.SZ\n002241.SZ\n002252.SZ\n002271.SZ\n002294.SZ\n002304.SZ\n002310.SZ\n002311.SZ\n002352.SZ\n002410.SZ\n002411.SZ\n002415.SZ\n002422.SZ\n002456.SZ\n002460.SZ\n002466.SZ\n002468.SZ\n002475.SZ\n002493.SZ\n002508.SZ\n002555.SZ\n002558.SZ\n002594.SZ\n002601.SZ\n002602.SZ\n002624.SZ\n002625.SZ\n002673.SZ\n002714.SZ\n002736.SZ\n002739.SZ\n002773.SZ\n002925.SZ\n002938.SZ\n002939.SZ\n002945.SZ\n300003.SZ\n300015.SZ\n300017.SZ\n300024.SZ\n300033.SZ\n300059.SZ\n300070.SZ\n300072.SZ\n300122.SZ\n300124.SZ\n300136.SZ\n300142.SZ\n300144.SZ\n300251.SZ\n300296.SZ\n300408.SZ\n300413.SZ\n300433.SZ\n300498.SZ\n600000.SH\n600004.SH\n600009.SH\n600010.SH\n600011.SH\n600015.SH\n600016.SH\n600018.SH\n600019.SH\n600023.SH\n600025.SH\n600027.SH\n600028.SH\n600029.SH\n600030.SH\n600031.SH\n600036.SH\n600038.SH\n600048.SH\n600050.SH\n600061.SH\n600066.SH\n600068.SH\n600085.SH\n600089.SH\n600100.SH\n600104.SH\n600109.SH\n600111.SH\n600115.SH\n600118.SH\n600153.SH\n600170.SH\n600176.SH\n600177.SH\n600188.SH\n600196.SH\n600208.SH\n600219.SH\n600221.SH\n600233.SH\n600271.SH\n600276.SH\n600297.SH\n600299.SH\n600309.SH\n600332.SH\n600339.SH\n600340.SH\n600346.SH\n600352.SH\n600362.SH\n600369.SH\n600372.SH\n600383.SH\n600390.SH\n600398.SH\n600406.SH\n600415.SH\n600436.SH\n600438.SH\n600482.SH\n600487.SH\n600489.SH\n600498.SH\n600516.SH\n600519.SH\n600522.SH\n600535.SH\n600547.SH\n600566.SH\n600570.SH\n600583.SH\n600585.SH\n600588.SH\n600606.SH\n600637.SH\n600660.SH\n600663.SH\n600674.SH\n600688.SH\n600690.SH\n600703.SH\n600704.SH\n600705.SH\n600733.SH\n600741.SH\n600760.SH\n600795.SH\n600809.SH\n600816.SH\n600837.SH\n600867.SH\n600886.SH\n600887.SH\n600893.SH\n600900.SH\n600919.SH\n600926.SH\n600958.SH\n600977.SH\n600998.SH\n600999.SH\n601006.SH\n601009.SH\n601012.SH\n601018.SH\n601021.SH\n601066.SH\n601088.SH\n601108.SH\n601111.SH\n601117.SH\n601138.SH\n601155.SH\n601162.SH\n601166.SH\n601169.SH\n601186.SH\n601198.SH\n601211.SH\n601212.SH\n601216.SH\n601225.SH\n601228.SH\n601229.SH\n601238.SH\n601288.SH\n601298.SH\n601318.SH\n601319.SH\n601328.SH\n601336.SH\n601360.SH\n601377.SH\n601390.SH\n601398.SH\n601555.SH\n601577.SH\n601600.SH\n601601.SH\n601607.SH\n601618.SH\n601628.SH\n601633.SH\n601668.SH\n601669.SH\n601688.SH\n601727.SH\n601766.SH\n601788.SH\n601800.SH\n601808.SH\n601818.SH\n601828.SH\n601838.SH\n601857.SH\n601877.SH\n601878.SH\n601881.SH\n601888.SH\n601898.SH\n601899.SH\n601901.SH\n601919.SH\n601933.SH\n601939.SH\n601985.SH\n601988.SH\n601989.SH\n601992.SH\n601997.SH\n601998.SH\n603019.SH\n603156.SH\n603160.SH\n603259.SH\n603260.SH\n603288.SH\n603799.SH\n603833.SH\n603858.SH\n603986.SH\n603993.SH\n"
     ],
     "output_type": "stream"
    }
   ],
   "source": [
    "for code in StockData().hs300.stock_codes():\n",
    "    print(code)\n"
   ],
   "metadata": {
    "collapsed": false,
    "pycharm": {
     "name": "#%%\n",
     "is_executing": false
    }
   }
  },
  {
   "cell_type": "code",
   "execution_count": 3,
   "outputs": [
    {
     "data": {
      "text/plain": "Empty DataFrame\nColumns: [trade_date, ts_code, rzye, rqye, rzmre, rqyl, rzche, rqchl, rqmcl, rzrqye]\nIndex: []",
      "text/html": "<div>\n<style scoped>\n    .dataframe tbody tr th:only-of-type {\n        vertical-align: middle;\n    }\n\n    .dataframe tbody tr th {\n        vertical-align: top;\n    }\n\n    .dataframe thead th {\n        text-align: right;\n    }\n</style>\n<table border=\"1\" class=\"dataframe\">\n  <thead>\n    <tr style=\"text-align: right;\">\n      <th></th>\n      <th>trade_date</th>\n      <th>ts_code</th>\n      <th>rzye</th>\n      <th>rqye</th>\n      <th>rzmre</th>\n      <th>rqyl</th>\n      <th>rzche</th>\n      <th>rqchl</th>\n      <th>rqmcl</th>\n      <th>rzrqye</th>\n    </tr>\n  </thead>\n  <tbody>\n  </tbody>\n</table>\n</div>"
     },
     "metadata": {},
     "output_type": "execute_result",
     "execution_count": 3
    }
   ],
   "source": [
    "ts_api.margin_detail(\n",
    "    start_date = '20190925',\n",
    "    end_date = '20190925'\n",
    ")"
   ],
   "metadata": {
    "collapsed": false,
    "pycharm": {
     "name": "#%%\n",
     "is_executing": false
    }
   }
  }
 ],
 "metadata": {
  "kernelspec": {
   "display_name": "Python 3",
   "language": "python",
   "name": "python3"
  },
  "language_info": {
   "codemirror_mode": {
    "name": "ipython",
    "version": 2
   },
   "file_extension": ".py",
   "mimetype": "text/x-python",
   "name": "python",
   "nbconvert_exporter": "python",
   "pygments_lexer": "ipython2",
   "version": "2.7.6"
  },
  "pycharm": {
   "stem_cell": {
    "cell_type": "raw",
    "source": [],
    "metadata": {
     "collapsed": false
    }
   }
  }
 },
 "nbformat": 4,
 "nbformat_minor": 0
}