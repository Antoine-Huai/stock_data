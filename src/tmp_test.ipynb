{
 "cells": [
  {
   "cell_type": "code",
   "execution_count": 1,
   "metadata": {
    "collapsed": true,
    "pycharm": {
     "is_executing": false
    }
   },
   "outputs": [
    {
     "name": "stdout",
     "text": [
      "login success!\nbaostock login => error_code: 0 error_msg: success\n\n"
     ],
     "output_type": "stream"
    },
    {
     "name": "stderr",
     "text": [
      "/Users/kk/miniconda3/envs/quant/lib/python3.7/site-packages/tushare/util/upass.py:28: FutureWarning:\n\n\n.ix is deprecated. Please use\n.loc for label based indexing or\n.iloc for positional indexing\n\nSee the documentation here:\nhttp://pandas.pydata.org/pandas-docs/stable/user_guide/indexing.html#ix-indexer-is-deprecated\n\n"
     ],
     "output_type": "stream"
    },
    {
     "data": {
      "text/plain": "<sz.stock_data.stock_data.StockData at 0x120e4a390>"
     },
     "metadata": {},
     "output_type": "execute_result",
     "execution_count": 1
    }
   ],
   "source": [
    "import tushare as ts\n",
    "import plotly.graph_objects as go\n",
    "import plotly.io as pio\n",
    "import plotly.express as px\n",
    "import pandas as pd\n",
    "import numpy as np\n",
    "import baostock as bao\n",
    "from baostock.data.resultset import ResultData\n",
    "import baostock.common.contants as bao_consts\n",
    "from pandas import Timestamp\n",
    "from sz.stock_data.toolbox.data_provider import ts_code\n",
    "from datetime import date, datetime, timedelta\n",
    "\n",
    "ts.set_token('f96b1eeee9c8fddd357f2299cdedc1c88b2bb2a30ae1f772cf810dea')\n",
    "ts_api = ts.pro_api()\n",
    "\n",
    "blg = bao.login()\n",
    "print('baostock login => error_code: %s error_msg: %s\\n' %\n",
    "      (blg.error_code, blg.error_msg))\n",
    "\n",
    "from sz.stock_data.stock_data import StockData\n",
    "StockData().setup(data_dir = '/Volumes/USBDATA/stock_data')\n"
   ]
  },
  {
   "cell_type": "code",
   "execution_count": 2,
   "outputs": [],
   "source": [
    "df = StockData().trade_calendar.dataframe\n",
    "df_trade = df[df['is_open'] == True]"
   ],
   "metadata": {
    "collapsed": false,
    "pycharm": {
     "name": "#%%\n",
     "is_executing": false
    }
   }
  },
  {
   "cell_type": "code",
   "execution_count": 3,
   "outputs": [
    {
     "data": {
      "text/plain": "             cal_date  is_open pretrade_date\ncal_date                                    \n2000-01-04 2000-01-04     True    1999-12-30\n2000-01-05 2000-01-05     True    2000-01-04\n2000-01-06 2000-01-06     True    2000-01-05\n2000-01-07 2000-01-07     True    2000-01-06\n2000-01-10 2000-01-10     True    2000-01-07\n2000-01-11 2000-01-11     True    2000-01-10\n2000-01-12 2000-01-12     True    2000-01-11\n2000-01-13 2000-01-13     True    2000-01-12\n2000-01-14 2000-01-14     True    2000-01-13\n2000-01-17 2000-01-17     True    2000-01-14",
      "text/html": "<div>\n<style scoped>\n    .dataframe tbody tr th:only-of-type {\n        vertical-align: middle;\n    }\n\n    .dataframe tbody tr th {\n        vertical-align: top;\n    }\n\n    .dataframe thead th {\n        text-align: right;\n    }\n</style>\n<table border=\"1\" class=\"dataframe\">\n  <thead>\n    <tr style=\"text-align: right;\">\n      <th></th>\n      <th>cal_date</th>\n      <th>is_open</th>\n      <th>pretrade_date</th>\n    </tr>\n    <tr>\n      <th>cal_date</th>\n      <th></th>\n      <th></th>\n      <th></th>\n    </tr>\n  </thead>\n  <tbody>\n    <tr>\n      <th>2000-01-04</th>\n      <td>2000-01-04</td>\n      <td>True</td>\n      <td>1999-12-30</td>\n    </tr>\n    <tr>\n      <th>2000-01-05</th>\n      <td>2000-01-05</td>\n      <td>True</td>\n      <td>2000-01-04</td>\n    </tr>\n    <tr>\n      <th>2000-01-06</th>\n      <td>2000-01-06</td>\n      <td>True</td>\n      <td>2000-01-05</td>\n    </tr>\n    <tr>\n      <th>2000-01-07</th>\n      <td>2000-01-07</td>\n      <td>True</td>\n      <td>2000-01-06</td>\n    </tr>\n    <tr>\n      <th>2000-01-10</th>\n      <td>2000-01-10</td>\n      <td>True</td>\n      <td>2000-01-07</td>\n    </tr>\n    <tr>\n      <th>2000-01-11</th>\n      <td>2000-01-11</td>\n      <td>True</td>\n      <td>2000-01-10</td>\n    </tr>\n    <tr>\n      <th>2000-01-12</th>\n      <td>2000-01-12</td>\n      <td>True</td>\n      <td>2000-01-11</td>\n    </tr>\n    <tr>\n      <th>2000-01-13</th>\n      <td>2000-01-13</td>\n      <td>True</td>\n      <td>2000-01-12</td>\n    </tr>\n    <tr>\n      <th>2000-01-14</th>\n      <td>2000-01-14</td>\n      <td>True</td>\n      <td>2000-01-13</td>\n    </tr>\n    <tr>\n      <th>2000-01-17</th>\n      <td>2000-01-17</td>\n      <td>True</td>\n      <td>2000-01-14</td>\n    </tr>\n  </tbody>\n</table>\n</div>"
     },
     "metadata": {},
     "output_type": "execute_result",
     "execution_count": 3
    }
   ],
   "source": [
    "df_trade.head(10)\n"
   ],
   "metadata": {
    "collapsed": false,
    "pycharm": {
     "name": "#%%\n",
     "is_executing": false
    }
   }
  },
  {
   "cell_type": "code",
   "execution_count": 5,
   "outputs": [
    {
     "data": {
      "text/plain": "datetime.date(2019, 9, 20)"
     },
     "metadata": {},
     "output_type": "execute_result",
     "execution_count": 5
    }
   ],
   "source": [
    "StockData().trade_calendar.next_n_trade_day(datetime.strptime('2019-12-30', '%Y-%m-%d').date(), 5, date.today())"
   ],
   "metadata": {
    "collapsed": false,
    "pycharm": {
     "name": "#%%\n",
     "is_executing": false
    }
   }
  },
  {
   "cell_type": "code",
   "execution_count": 18,
   "outputs": [
    {
     "data": {
      "text/plain": "         date               time       code     open     high      low  \\\n0  2019-09-19  20190919093500000  sh.600000  12.0000  12.0000  11.9600   \n1  2019-09-19  20190919094000000  sh.600000  11.9700  11.9800  11.9400   \n2  2019-09-19  20190919094500000  sh.600000  11.9800  11.9900  11.9500   \n3  2019-09-19  20190919095000000  sh.600000  11.9600  11.9700  11.9300   \n4  2019-09-19  20190919095500000  sh.600000  11.9300  11.9600  11.9200   \n\n     close   volume         amount adjustflag  \n0  11.9700  1362500  16329865.0000          3  \n1  11.9800   869273  10401526.0000          3  \n2  11.9600   426343   5103490.0000          3  \n3  11.9400   456457   5454719.0000          3  \n4  11.9500   487715   5820830.0000          3  ",
      "text/html": "<div>\n<style scoped>\n    .dataframe tbody tr th:only-of-type {\n        vertical-align: middle;\n    }\n\n    .dataframe tbody tr th {\n        vertical-align: top;\n    }\n\n    .dataframe thead th {\n        text-align: right;\n    }\n</style>\n<table border=\"1\" class=\"dataframe\">\n  <thead>\n    <tr style=\"text-align: right;\">\n      <th></th>\n      <th>date</th>\n      <th>time</th>\n      <th>code</th>\n      <th>open</th>\n      <th>high</th>\n      <th>low</th>\n      <th>close</th>\n      <th>volume</th>\n      <th>amount</th>\n      <th>adjustflag</th>\n    </tr>\n  </thead>\n  <tbody>\n    <tr>\n      <th>0</th>\n      <td>2019-09-19</td>\n      <td>20190919093500000</td>\n      <td>sh.600000</td>\n      <td>12.0000</td>\n      <td>12.0000</td>\n      <td>11.9600</td>\n      <td>11.9700</td>\n      <td>1362500</td>\n      <td>16329865.0000</td>\n      <td>3</td>\n    </tr>\n    <tr>\n      <th>1</th>\n      <td>2019-09-19</td>\n      <td>20190919094000000</td>\n      <td>sh.600000</td>\n      <td>11.9700</td>\n      <td>11.9800</td>\n      <td>11.9400</td>\n      <td>11.9800</td>\n      <td>869273</td>\n      <td>10401526.0000</td>\n      <td>3</td>\n    </tr>\n    <tr>\n      <th>2</th>\n      <td>2019-09-19</td>\n      <td>20190919094500000</td>\n      <td>sh.600000</td>\n      <td>11.9800</td>\n      <td>11.9900</td>\n      <td>11.9500</td>\n      <td>11.9600</td>\n      <td>426343</td>\n      <td>5103490.0000</td>\n      <td>3</td>\n    </tr>\n    <tr>\n      <th>3</th>\n      <td>2019-09-19</td>\n      <td>20190919095000000</td>\n      <td>sh.600000</td>\n      <td>11.9600</td>\n      <td>11.9700</td>\n      <td>11.9300</td>\n      <td>11.9400</td>\n      <td>456457</td>\n      <td>5454719.0000</td>\n      <td>3</td>\n    </tr>\n    <tr>\n      <th>4</th>\n      <td>2019-09-19</td>\n      <td>20190919095500000</td>\n      <td>sh.600000</td>\n      <td>11.9300</td>\n      <td>11.9600</td>\n      <td>11.9200</td>\n      <td>11.9500</td>\n      <td>487715</td>\n      <td>5820830.0000</td>\n      <td>3</td>\n    </tr>\n  </tbody>\n</table>\n</div>"
     },
     "metadata": {},
     "output_type": "execute_result",
     "execution_count": 18
    }
   ],
   "source": [
    "df_5min = bao.query_history_k_data_plus(\n",
    "    code = \"sh.600000\",\n",
    "    fields = \"date,time,code,open,high,low,close,volume,amount,adjustflag\",\n",
    "    start_date='2019-09-19', \n",
    "    end_date='2019-09-20',\n",
    "    frequency=\"5\", \n",
    "    adjustflag=\"3\"\n",
    ").get_data()\n",
    "\n",
    "df_5min.head(5)\n"
   ],
   "metadata": {
    "collapsed": false,
    "pycharm": {
     "name": "#%%\n",
     "is_executing": false
    }
   }
  },
  {
   "cell_type": "code",
   "execution_count": 12,
   "outputs": [
    {
     "data": {
      "text/plain": "date          object\ntime          object\ncode          object\nopen          object\nhigh          object\nlow           object\nclose         object\nvolume        object\namount        object\nadjustflag    object\ndtype: object"
     },
     "metadata": {},
     "output_type": "execute_result",
     "execution_count": 12
    }
   ],
   "source": [
    "df_5min.dtypes"
   ],
   "metadata": {
    "collapsed": false,
    "pycharm": {
     "name": "#%%\n",
     "is_executing": false
    }
   }
  },
  {
   "cell_type": "code",
   "execution_count": 19,
   "outputs": [
    {
     "data": {
      "text/plain": "        date                time       code   open   high    low  close  \\\n0 2019-09-19 2019-09-19 09:35:00  600000.SH  12.00  12.00  11.96  11.97   \n1 2019-09-19 2019-09-19 09:40:00  600000.SH  11.97  11.98  11.94  11.98   \n2 2019-09-19 2019-09-19 09:45:00  600000.SH  11.98  11.99  11.95  11.96   \n3 2019-09-19 2019-09-19 09:50:00  600000.SH  11.96  11.97  11.93  11.94   \n4 2019-09-19 2019-09-19 09:55:00  600000.SH  11.93  11.96  11.92  11.95   \n\n      volume      amount adjustflag  \n0  1362500.0  16329865.0          3  \n1   869273.0  10401526.0          3  \n2   426343.0   5103490.0          3  \n3   456457.0   5454719.0          3  \n4   487715.0   5820830.0          3  ",
      "text/html": "<div>\n<style scoped>\n    .dataframe tbody tr th:only-of-type {\n        vertical-align: middle;\n    }\n\n    .dataframe tbody tr th {\n        vertical-align: top;\n    }\n\n    .dataframe thead th {\n        text-align: right;\n    }\n</style>\n<table border=\"1\" class=\"dataframe\">\n  <thead>\n    <tr style=\"text-align: right;\">\n      <th></th>\n      <th>date</th>\n      <th>time</th>\n      <th>code</th>\n      <th>open</th>\n      <th>high</th>\n      <th>low</th>\n      <th>close</th>\n      <th>volume</th>\n      <th>amount</th>\n      <th>adjustflag</th>\n    </tr>\n  </thead>\n  <tbody>\n    <tr>\n      <th>0</th>\n      <td>2019-09-19</td>\n      <td>2019-09-19 09:35:00</td>\n      <td>600000.SH</td>\n      <td>12.00</td>\n      <td>12.00</td>\n      <td>11.96</td>\n      <td>11.97</td>\n      <td>1362500.0</td>\n      <td>16329865.0</td>\n      <td>3</td>\n    </tr>\n    <tr>\n      <th>1</th>\n      <td>2019-09-19</td>\n      <td>2019-09-19 09:40:00</td>\n      <td>600000.SH</td>\n      <td>11.97</td>\n      <td>11.98</td>\n      <td>11.94</td>\n      <td>11.98</td>\n      <td>869273.0</td>\n      <td>10401526.0</td>\n      <td>3</td>\n    </tr>\n    <tr>\n      <th>2</th>\n      <td>2019-09-19</td>\n      <td>2019-09-19 09:45:00</td>\n      <td>600000.SH</td>\n      <td>11.98</td>\n      <td>11.99</td>\n      <td>11.95</td>\n      <td>11.96</td>\n      <td>426343.0</td>\n      <td>5103490.0</td>\n      <td>3</td>\n    </tr>\n    <tr>\n      <th>3</th>\n      <td>2019-09-19</td>\n      <td>2019-09-19 09:50:00</td>\n      <td>600000.SH</td>\n      <td>11.96</td>\n      <td>11.97</td>\n      <td>11.93</td>\n      <td>11.94</td>\n      <td>456457.0</td>\n      <td>5454719.0</td>\n      <td>3</td>\n    </tr>\n    <tr>\n      <th>4</th>\n      <td>2019-09-19</td>\n      <td>2019-09-19 09:55:00</td>\n      <td>600000.SH</td>\n      <td>11.93</td>\n      <td>11.96</td>\n      <td>11.92</td>\n      <td>11.95</td>\n      <td>487715.0</td>\n      <td>5820830.0</td>\n      <td>3</td>\n    </tr>\n  </tbody>\n</table>\n</div>"
     },
     "metadata": {},
     "output_type": "execute_result",
     "execution_count": 19
    }
   ],
   "source": [
    "df_5min['date'] = pd.to_datetime(df_5min['date'], format = '%Y-%m-%d')\n",
    "df_5min['time'] = df_5min['time'].apply(lambda x: pd.to_datetime(x[:-3], format = '%Y%m%d%H%M%S'))\n",
    "df_5min['open'] = df_5min['open'].astype(np.float64)\n",
    "df_5min['high'] = df_5min['high'].astype(np.float64)\n",
    "df_5min['low'] = df_5min['low'].astype(np.float64)\n",
    "df_5min['close'] = df_5min['close'].astype(np.float64)\n",
    "\n",
    "df_5min['volume'] = df_5min['volume'].astype(np.float64)\n",
    "df_5min['amount'] = df_5min['amount'].astype(np.float64)\n",
    "df_5min['code'] = df_5min['code'].apply(lambda x: ts_code(x))\n",
    "\n",
    "df_5min.head(5)"
   ],
   "metadata": {
    "collapsed": false,
    "pycharm": {
     "name": "#%%\n",
     "is_executing": false
    }
   }
  },
  {
   "cell_type": "code",
   "execution_count": 20,
   "outputs": [
    {
     "data": {
      "text/plain": "date          datetime64[ns]\ntime          datetime64[ns]\ncode                  object\nopen                 float64\nhigh                 float64\nlow                  float64\nclose                float64\nvolume               float64\namount               float64\nadjustflag            object\ndtype: object"
     },
     "metadata": {},
     "output_type": "execute_result",
     "execution_count": 20
    }
   ],
   "source": [
    "df_5min.dtypes\n"
   ],
   "metadata": {
    "collapsed": false,
    "pycharm": {
     "name": "#%%\n",
     "is_executing": false
    }
   }
  },
  {
   "cell_type": "code",
   "execution_count": 28,
   "outputs": [],
   "source": [
    "df_moneyflow = ts_api.moneyflow(\n",
    "    ts_code = '300059.SZ',\n",
    "    start_date = '20190919',\n",
    "    end_date = '20190920'\n",
    ")"
   ],
   "metadata": {
    "collapsed": false,
    "pycharm": {
     "name": "#%%\n",
     "is_executing": false
    }
   }
  },
  {
   "cell_type": "code",
   "execution_count": 34,
   "outputs": [
    {
     "data": {
      "text/plain": "ts_code             object\ntrade_date          object\nbuy_sm_vol           int64\nbuy_sm_amount      float64\nsell_sm_vol          int64\nsell_sm_amount     float64\nbuy_md_vol           int64\nbuy_md_amount      float64\nsell_md_vol          int64\nsell_md_amount     float64\nbuy_lg_vol           int64\nbuy_lg_amount      float64\nsell_lg_vol          int64\nsell_lg_amount     float64\nbuy_elg_vol          int64\nbuy_elg_amount     float64\nsell_elg_vol         int64\nsell_elg_amount    float64\nnet_mf_vol           int64\nnet_mf_amount      float64\ndtype: object"
     },
     "metadata": {},
     "output_type": "execute_result",
     "execution_count": 34
    }
   ],
   "source": [
    "df_moneyflow.dtypes"
   ],
   "metadata": {
    "collapsed": false,
    "pycharm": {
     "name": "#%%\n",
     "is_executing": false
    }
   }
  },
  {
   "cell_type": "code",
   "execution_count": 32,
   "outputs": [
    {
     "data": {
      "text/plain": "     ts_code trade_date  adj_factor\n0  300059.SZ   20190919      38.659",
      "text/html": "<div>\n<style scoped>\n    .dataframe tbody tr th:only-of-type {\n        vertical-align: middle;\n    }\n\n    .dataframe tbody tr th {\n        vertical-align: top;\n    }\n\n    .dataframe thead th {\n        text-align: right;\n    }\n</style>\n<table border=\"1\" class=\"dataframe\">\n  <thead>\n    <tr style=\"text-align: right;\">\n      <th></th>\n      <th>ts_code</th>\n      <th>trade_date</th>\n      <th>adj_factor</th>\n    </tr>\n  </thead>\n  <tbody>\n    <tr>\n      <th>0</th>\n      <td>300059.SZ</td>\n      <td>20190919</td>\n      <td>38.659</td>\n    </tr>\n  </tbody>\n</table>\n</div>"
     },
     "metadata": {},
     "output_type": "execute_result",
     "execution_count": 32
    }
   ],
   "source": [
    "df_adj = ts_api.adj_factor(\n",
    "    ts_code = '300059.SZ',\n",
    "    start_date = '20190919',\n",
    "    end_date = '20190919'\n",
    ")\n",
    "\n",
    "df_adj\n"
   ],
   "metadata": {
    "collapsed": false,
    "pycharm": {
     "name": "#%%\n",
     "is_executing": false
    }
   }
  },
  {
   "cell_type": "code",
   "execution_count": 33,
   "outputs": [
    {
     "data": {
      "text/plain": "ts_code        object\ntrade_date     object\nadj_factor    float64\ndtype: object"
     },
     "metadata": {},
     "output_type": "execute_result",
     "execution_count": 33
    }
   ],
   "source": [
    "df_adj.dtypes\n"
   ],
   "metadata": {
    "collapsed": false,
    "pycharm": {
     "name": "#%%\n",
     "is_executing": false
    }
   }
  },
  {
   "cell_type": "code",
   "execution_count": 43,
   "outputs": [
    {
     "data": {
      "text/plain": "      ts_code  ann_date  end_date                        holder_name  \\\n0   002001.SZ  20190823  20190630  中意资管-招商银行-中意资产-招商银行-定增精选43号资产管理产品   \n1   002001.SZ  20190823  20190630                        新和成控股集团有限公司   \n2   002001.SZ  20190823  20190630              上海重阳战略投资有限公司-重阳战略汇智基金   \n3   002001.SZ  20190823  20190630                        全国社保基金五零三组合   \n4   002001.SZ  20190823  20190630       华安未来资产-工商银行-杭州丰信投资合伙企业(有限合伙)   \n5   002001.SZ  20190823  20190630       华安未来资产-工商银行-杭州锐智投资合伙企业(有限合伙)   \n6   002001.SZ  20190823  20190630                        全国社保基金一一四组合   \n7   002001.SZ  20190823  20190630                        全国社保基金一零四组合   \n8   002001.SZ  20190823  20190630         招商银行股份有限公司-睿远成长价值混合型证券投资基金   \n9   002001.SZ  20190823  20190630                         三花控股集团有限公司   \n10  002001.SZ  20190429  20190331          银河资本-浙商银行-银河资本-鑫鑫一号资产管理计划   \n11  002001.SZ  20190429  20190331  中意资管-招商银行-中意资产-招商银行-定增精选43号资产管理产品   \n12  002001.SZ  20190429  20190331                        全国社保基金五零三组合   \n13  002001.SZ  20190429  20190331       华安未来资产-工商银行-杭州丰信投资合伙企业(有限合伙)   \n14  002001.SZ  20190429  20190331       华安未来资产-工商银行-杭州锐智投资合伙企业(有限合伙)   \n15  002001.SZ  20190429  20190331                         三花控股集团有限公司   \n16  002001.SZ  20190429  20190331                        全国社保基金一零四组合   \n17  002001.SZ  20190429  20190331                        全国社保基金一一四组合   \n18  002001.SZ  20190429  20190331              上海重阳战略投资有限公司-重阳战略汇智基金   \n19  002001.SZ  20190429  20190331                        新和成控股集团有限公司   \n20  002001.SZ  20190429  20181231  中意资管-招商银行-中意资产-招商银行-定增精选43号资产管理产品   \n21  002001.SZ  20190429  20181231          银河资本-浙商银行-银河资本-鑫鑫一号资产管理计划   \n22  002001.SZ  20190429  20181231                         三花控股集团有限公司   \n23  002001.SZ  20190429  20181231                        新和成控股集团有限公司   \n24  002001.SZ  20190429  20181231              上海重阳战略投资有限公司-重阳战略汇智基金   \n25  002001.SZ  20190429  20181231       华安未来资产-工商银行-杭州丰信投资合伙企业(有限合伙)   \n26  002001.SZ  20190429  20181231       华安未来资产-工商银行-杭州锐智投资合伙企业(有限合伙)   \n27  002001.SZ  20190429  20181231                        全国社保基金一零四组合   \n28  002001.SZ  20190429  20181231                        全国社保基金五零三组合   \n29  002001.SZ  20190429  20181231                        全国社保基金一一四组合   \n30  002001.SZ  20181022  20180930                        全国社保基金一一四组合   \n31  002001.SZ  20181022  20180930                        新和成控股集团有限公司   \n32  002001.SZ  20181022  20180930              上海重阳战略投资有限公司-重阳战略汇智基金   \n33  002001.SZ  20181022  20180930                         三花控股集团有限公司   \n34  002001.SZ  20181022  20180930          银河资本-浙商银行-银河资本-鑫鑫一号资产管理计划   \n35  002001.SZ  20181022  20180930  中意资管-招商银行-中意资产-招商银行-定增精选43号资产管理产品   \n36  002001.SZ  20181022  20180930       华安未来资产-工商银行-杭州丰信投资合伙企业(有限合伙)   \n37  002001.SZ  20181022  20180930                        全国社保基金一零四组合   \n38  002001.SZ  20181022  20180930       华安未来资产-工商银行-杭州锐智投资合伙企业(有限合伙)   \n39  002001.SZ  20181022  20180930                        全国社保基金五零三组合   \n40  002001.SZ  20180823  20180630              上海重阳战略投资有限公司-重阳战略汇智基金   \n41  002001.SZ  20180823  20180630                        新和成控股集团有限公司   \n42  002001.SZ  20180823  20180630                         三花控股集团有限公司   \n43  002001.SZ  20180823  20180630          银河资本-浙商银行-银河资本-鑫鑫一号资产管理计划   \n44  002001.SZ  20180823  20180630  中意资管-招商银行-中意资产-招商银行-定增精选43号资产管理产品   \n45  002001.SZ  20180823  20180630       华安未来资产-工商银行-杭州丰信投资合伙企业(有限合伙)   \n46  002001.SZ  20180823  20180630                        全国社保基金一零四组合   \n47  002001.SZ  20180823  20180630       华安未来资产-工商银行-杭州锐智投资合伙企业(有限合伙)   \n48  002001.SZ  20180823  20180630                        全国社保基金一一三组合   \n49  002001.SZ  20180823  20180630                        全国社保基金一一四组合   \n50  002001.SZ  20180428  20180331                        新和成控股集团有限公司   \n51  002001.SZ  20180428  20180331              上海重阳战略投资有限公司-重阳战略汇智基金   \n52  002001.SZ  20180428  20180331                         三花控股集团有限公司   \n53  002001.SZ  20180428  20180331          银河资本-浙商银行-银河资本-鑫鑫一号资产管理计划   \n54  002001.SZ  20180428  20180331  中意资管-招商银行-中意资产-招商银行-定增精选43号资产管理产品   \n55  002001.SZ  20180428  20180331       华安未来资产-工商银行-杭州丰信投资合伙企业(有限合伙)   \n56  002001.SZ  20180428  20180331                        全国社保基金一零四组合   \n57  002001.SZ  20180428  20180331       华安未来资产-工商银行-杭州锐智投资合伙企业(有限合伙)   \n58  002001.SZ  20180428  20180331                        全国社保基金一一三组合   \n59  002001.SZ  20180428  20180331             汇添富基金-中国银行-浙江新和成股份有限公司   \n\n     hold_amount  hold_ratio  \n0   1.487502e+07        0.69  \n1   1.043253e+09       48.55  \n2   3.857972e+07        1.80  \n3   3.000000e+07        1.40  \n4   2.891000e+07        1.35  \n5   2.607571e+07        1.21  \n6   1.997218e+07        0.93  \n7   1.650000e+07        0.77  \n8   1.640000e+07        0.76  \n9   1.624096e+07        0.76  \n10  2.975000e+07        1.38  \n11  2.975000e+07        1.38  \n12  2.949978e+07        1.37  \n13  2.891000e+07        1.35  \n14  2.607571e+07        1.21  \n15  2.569755e+07        1.20  \n16  2.500000e+07        1.16  \n17  2.401913e+07        1.12  \n18  3.857972e+07        1.80  \n19  1.043253e+09       48.55  \n20  2.975000e+07        1.38  \n21  2.975000e+07        1.38  \n22  2.975000e+07        1.38  \n23  1.043253e+09       48.55  \n24  3.727973e+07        1.74  \n25  2.975000e+07        1.38  \n26  2.683571e+07        1.25  \n27  2.598270e+07        1.21  \n28  2.449988e+07        1.14  \n29  2.053110e+07        0.96  \n30  2.076820e+07        0.97  \n31  1.043253e+09       48.55  \n32  3.642857e+07        1.70  \n33  2.975000e+07        1.38  \n34  2.975000e+07        1.38  \n35  2.975000e+07        1.38  \n36  2.975000e+07        1.38  \n37  2.798270e+07        1.30  \n38  2.683571e+07        1.25  \n39  2.099980e+07        0.98  \n40  3.642857e+07        1.70  \n41  1.043253e+09       48.55  \n42  2.975000e+07        1.38  \n43  2.975000e+07        1.38  \n44  2.975000e+07        1.38  \n45  2.975000e+07        1.38  \n46  2.888270e+07        1.34  \n47  2.683571e+07        1.25  \n48  2.321923e+07        1.08  \n49  2.040000e+07        0.95  \n50  6.136783e+08       48.55  \n51  2.142857e+07        1.70  \n52  1.750000e+07        1.38  \n53  1.750000e+07        1.38  \n54  1.750000e+07        1.38  \n55  1.750000e+07        1.38  \n56  1.738983e+07        1.38  \n57  1.578571e+07        1.25  \n58  1.365837e+07        1.08  \n59  1.269449e+07        1.00  ",
      "text/html": "<div>\n<style scoped>\n    .dataframe tbody tr th:only-of-type {\n        vertical-align: middle;\n    }\n\n    .dataframe tbody tr th {\n        vertical-align: top;\n    }\n\n    .dataframe thead th {\n        text-align: right;\n    }\n</style>\n<table border=\"1\" class=\"dataframe\">\n  <thead>\n    <tr style=\"text-align: right;\">\n      <th></th>\n      <th>ts_code</th>\n      <th>ann_date</th>\n      <th>end_date</th>\n      <th>holder_name</th>\n      <th>hold_amount</th>\n      <th>hold_ratio</th>\n    </tr>\n  </thead>\n  <tbody>\n    <tr>\n      <th>0</th>\n      <td>002001.SZ</td>\n      <td>20190823</td>\n      <td>20190630</td>\n      <td>中意资管-招商银行-中意资产-招商银行-定增精选43号资产管理产品</td>\n      <td>1.487502e+07</td>\n      <td>0.69</td>\n    </tr>\n    <tr>\n      <th>1</th>\n      <td>002001.SZ</td>\n      <td>20190823</td>\n      <td>20190630</td>\n      <td>新和成控股集团有限公司</td>\n      <td>1.043253e+09</td>\n      <td>48.55</td>\n    </tr>\n    <tr>\n      <th>2</th>\n      <td>002001.SZ</td>\n      <td>20190823</td>\n      <td>20190630</td>\n      <td>上海重阳战略投资有限公司-重阳战略汇智基金</td>\n      <td>3.857972e+07</td>\n      <td>1.80</td>\n    </tr>\n    <tr>\n      <th>3</th>\n      <td>002001.SZ</td>\n      <td>20190823</td>\n      <td>20190630</td>\n      <td>全国社保基金五零三组合</td>\n      <td>3.000000e+07</td>\n      <td>1.40</td>\n    </tr>\n    <tr>\n      <th>4</th>\n      <td>002001.SZ</td>\n      <td>20190823</td>\n      <td>20190630</td>\n      <td>华安未来资产-工商银行-杭州丰信投资合伙企业(有限合伙)</td>\n      <td>2.891000e+07</td>\n      <td>1.35</td>\n    </tr>\n    <tr>\n      <th>5</th>\n      <td>002001.SZ</td>\n      <td>20190823</td>\n      <td>20190630</td>\n      <td>华安未来资产-工商银行-杭州锐智投资合伙企业(有限合伙)</td>\n      <td>2.607571e+07</td>\n      <td>1.21</td>\n    </tr>\n    <tr>\n      <th>6</th>\n      <td>002001.SZ</td>\n      <td>20190823</td>\n      <td>20190630</td>\n      <td>全国社保基金一一四组合</td>\n      <td>1.997218e+07</td>\n      <td>0.93</td>\n    </tr>\n    <tr>\n      <th>7</th>\n      <td>002001.SZ</td>\n      <td>20190823</td>\n      <td>20190630</td>\n      <td>全国社保基金一零四组合</td>\n      <td>1.650000e+07</td>\n      <td>0.77</td>\n    </tr>\n    <tr>\n      <th>8</th>\n      <td>002001.SZ</td>\n      <td>20190823</td>\n      <td>20190630</td>\n      <td>招商银行股份有限公司-睿远成长价值混合型证券投资基金</td>\n      <td>1.640000e+07</td>\n      <td>0.76</td>\n    </tr>\n    <tr>\n      <th>9</th>\n      <td>002001.SZ</td>\n      <td>20190823</td>\n      <td>20190630</td>\n      <td>三花控股集团有限公司</td>\n      <td>1.624096e+07</td>\n      <td>0.76</td>\n    </tr>\n    <tr>\n      <th>10</th>\n      <td>002001.SZ</td>\n      <td>20190429</td>\n      <td>20190331</td>\n      <td>银河资本-浙商银行-银河资本-鑫鑫一号资产管理计划</td>\n      <td>2.975000e+07</td>\n      <td>1.38</td>\n    </tr>\n    <tr>\n      <th>11</th>\n      <td>002001.SZ</td>\n      <td>20190429</td>\n      <td>20190331</td>\n      <td>中意资管-招商银行-中意资产-招商银行-定增精选43号资产管理产品</td>\n      <td>2.975000e+07</td>\n      <td>1.38</td>\n    </tr>\n    <tr>\n      <th>12</th>\n      <td>002001.SZ</td>\n      <td>20190429</td>\n      <td>20190331</td>\n      <td>全国社保基金五零三组合</td>\n      <td>2.949978e+07</td>\n      <td>1.37</td>\n    </tr>\n    <tr>\n      <th>13</th>\n      <td>002001.SZ</td>\n      <td>20190429</td>\n      <td>20190331</td>\n      <td>华安未来资产-工商银行-杭州丰信投资合伙企业(有限合伙)</td>\n      <td>2.891000e+07</td>\n      <td>1.35</td>\n    </tr>\n    <tr>\n      <th>14</th>\n      <td>002001.SZ</td>\n      <td>20190429</td>\n      <td>20190331</td>\n      <td>华安未来资产-工商银行-杭州锐智投资合伙企业(有限合伙)</td>\n      <td>2.607571e+07</td>\n      <td>1.21</td>\n    </tr>\n    <tr>\n      <th>15</th>\n      <td>002001.SZ</td>\n      <td>20190429</td>\n      <td>20190331</td>\n      <td>三花控股集团有限公司</td>\n      <td>2.569755e+07</td>\n      <td>1.20</td>\n    </tr>\n    <tr>\n      <th>16</th>\n      <td>002001.SZ</td>\n      <td>20190429</td>\n      <td>20190331</td>\n      <td>全国社保基金一零四组合</td>\n      <td>2.500000e+07</td>\n      <td>1.16</td>\n    </tr>\n    <tr>\n      <th>17</th>\n      <td>002001.SZ</td>\n      <td>20190429</td>\n      <td>20190331</td>\n      <td>全国社保基金一一四组合</td>\n      <td>2.401913e+07</td>\n      <td>1.12</td>\n    </tr>\n    <tr>\n      <th>18</th>\n      <td>002001.SZ</td>\n      <td>20190429</td>\n      <td>20190331</td>\n      <td>上海重阳战略投资有限公司-重阳战略汇智基金</td>\n      <td>3.857972e+07</td>\n      <td>1.80</td>\n    </tr>\n    <tr>\n      <th>19</th>\n      <td>002001.SZ</td>\n      <td>20190429</td>\n      <td>20190331</td>\n      <td>新和成控股集团有限公司</td>\n      <td>1.043253e+09</td>\n      <td>48.55</td>\n    </tr>\n    <tr>\n      <th>20</th>\n      <td>002001.SZ</td>\n      <td>20190429</td>\n      <td>20181231</td>\n      <td>中意资管-招商银行-中意资产-招商银行-定增精选43号资产管理产品</td>\n      <td>2.975000e+07</td>\n      <td>1.38</td>\n    </tr>\n    <tr>\n      <th>21</th>\n      <td>002001.SZ</td>\n      <td>20190429</td>\n      <td>20181231</td>\n      <td>银河资本-浙商银行-银河资本-鑫鑫一号资产管理计划</td>\n      <td>2.975000e+07</td>\n      <td>1.38</td>\n    </tr>\n    <tr>\n      <th>22</th>\n      <td>002001.SZ</td>\n      <td>20190429</td>\n      <td>20181231</td>\n      <td>三花控股集团有限公司</td>\n      <td>2.975000e+07</td>\n      <td>1.38</td>\n    </tr>\n    <tr>\n      <th>23</th>\n      <td>002001.SZ</td>\n      <td>20190429</td>\n      <td>20181231</td>\n      <td>新和成控股集团有限公司</td>\n      <td>1.043253e+09</td>\n      <td>48.55</td>\n    </tr>\n    <tr>\n      <th>24</th>\n      <td>002001.SZ</td>\n      <td>20190429</td>\n      <td>20181231</td>\n      <td>上海重阳战略投资有限公司-重阳战略汇智基金</td>\n      <td>3.727973e+07</td>\n      <td>1.74</td>\n    </tr>\n    <tr>\n      <th>25</th>\n      <td>002001.SZ</td>\n      <td>20190429</td>\n      <td>20181231</td>\n      <td>华安未来资产-工商银行-杭州丰信投资合伙企业(有限合伙)</td>\n      <td>2.975000e+07</td>\n      <td>1.38</td>\n    </tr>\n    <tr>\n      <th>26</th>\n      <td>002001.SZ</td>\n      <td>20190429</td>\n      <td>20181231</td>\n      <td>华安未来资产-工商银行-杭州锐智投资合伙企业(有限合伙)</td>\n      <td>2.683571e+07</td>\n      <td>1.25</td>\n    </tr>\n    <tr>\n      <th>27</th>\n      <td>002001.SZ</td>\n      <td>20190429</td>\n      <td>20181231</td>\n      <td>全国社保基金一零四组合</td>\n      <td>2.598270e+07</td>\n      <td>1.21</td>\n    </tr>\n    <tr>\n      <th>28</th>\n      <td>002001.SZ</td>\n      <td>20190429</td>\n      <td>20181231</td>\n      <td>全国社保基金五零三组合</td>\n      <td>2.449988e+07</td>\n      <td>1.14</td>\n    </tr>\n    <tr>\n      <th>29</th>\n      <td>002001.SZ</td>\n      <td>20190429</td>\n      <td>20181231</td>\n      <td>全国社保基金一一四组合</td>\n      <td>2.053110e+07</td>\n      <td>0.96</td>\n    </tr>\n    <tr>\n      <th>30</th>\n      <td>002001.SZ</td>\n      <td>20181022</td>\n      <td>20180930</td>\n      <td>全国社保基金一一四组合</td>\n      <td>2.076820e+07</td>\n      <td>0.97</td>\n    </tr>\n    <tr>\n      <th>31</th>\n      <td>002001.SZ</td>\n      <td>20181022</td>\n      <td>20180930</td>\n      <td>新和成控股集团有限公司</td>\n      <td>1.043253e+09</td>\n      <td>48.55</td>\n    </tr>\n    <tr>\n      <th>32</th>\n      <td>002001.SZ</td>\n      <td>20181022</td>\n      <td>20180930</td>\n      <td>上海重阳战略投资有限公司-重阳战略汇智基金</td>\n      <td>3.642857e+07</td>\n      <td>1.70</td>\n    </tr>\n    <tr>\n      <th>33</th>\n      <td>002001.SZ</td>\n      <td>20181022</td>\n      <td>20180930</td>\n      <td>三花控股集团有限公司</td>\n      <td>2.975000e+07</td>\n      <td>1.38</td>\n    </tr>\n    <tr>\n      <th>34</th>\n      <td>002001.SZ</td>\n      <td>20181022</td>\n      <td>20180930</td>\n      <td>银河资本-浙商银行-银河资本-鑫鑫一号资产管理计划</td>\n      <td>2.975000e+07</td>\n      <td>1.38</td>\n    </tr>\n    <tr>\n      <th>35</th>\n      <td>002001.SZ</td>\n      <td>20181022</td>\n      <td>20180930</td>\n      <td>中意资管-招商银行-中意资产-招商银行-定增精选43号资产管理产品</td>\n      <td>2.975000e+07</td>\n      <td>1.38</td>\n    </tr>\n    <tr>\n      <th>36</th>\n      <td>002001.SZ</td>\n      <td>20181022</td>\n      <td>20180930</td>\n      <td>华安未来资产-工商银行-杭州丰信投资合伙企业(有限合伙)</td>\n      <td>2.975000e+07</td>\n      <td>1.38</td>\n    </tr>\n    <tr>\n      <th>37</th>\n      <td>002001.SZ</td>\n      <td>20181022</td>\n      <td>20180930</td>\n      <td>全国社保基金一零四组合</td>\n      <td>2.798270e+07</td>\n      <td>1.30</td>\n    </tr>\n    <tr>\n      <th>38</th>\n      <td>002001.SZ</td>\n      <td>20181022</td>\n      <td>20180930</td>\n      <td>华安未来资产-工商银行-杭州锐智投资合伙企业(有限合伙)</td>\n      <td>2.683571e+07</td>\n      <td>1.25</td>\n    </tr>\n    <tr>\n      <th>39</th>\n      <td>002001.SZ</td>\n      <td>20181022</td>\n      <td>20180930</td>\n      <td>全国社保基金五零三组合</td>\n      <td>2.099980e+07</td>\n      <td>0.98</td>\n    </tr>\n    <tr>\n      <th>40</th>\n      <td>002001.SZ</td>\n      <td>20180823</td>\n      <td>20180630</td>\n      <td>上海重阳战略投资有限公司-重阳战略汇智基金</td>\n      <td>3.642857e+07</td>\n      <td>1.70</td>\n    </tr>\n    <tr>\n      <th>41</th>\n      <td>002001.SZ</td>\n      <td>20180823</td>\n      <td>20180630</td>\n      <td>新和成控股集团有限公司</td>\n      <td>1.043253e+09</td>\n      <td>48.55</td>\n    </tr>\n    <tr>\n      <th>42</th>\n      <td>002001.SZ</td>\n      <td>20180823</td>\n      <td>20180630</td>\n      <td>三花控股集团有限公司</td>\n      <td>2.975000e+07</td>\n      <td>1.38</td>\n    </tr>\n    <tr>\n      <th>43</th>\n      <td>002001.SZ</td>\n      <td>20180823</td>\n      <td>20180630</td>\n      <td>银河资本-浙商银行-银河资本-鑫鑫一号资产管理计划</td>\n      <td>2.975000e+07</td>\n      <td>1.38</td>\n    </tr>\n    <tr>\n      <th>44</th>\n      <td>002001.SZ</td>\n      <td>20180823</td>\n      <td>20180630</td>\n      <td>中意资管-招商银行-中意资产-招商银行-定增精选43号资产管理产品</td>\n      <td>2.975000e+07</td>\n      <td>1.38</td>\n    </tr>\n    <tr>\n      <th>45</th>\n      <td>002001.SZ</td>\n      <td>20180823</td>\n      <td>20180630</td>\n      <td>华安未来资产-工商银行-杭州丰信投资合伙企业(有限合伙)</td>\n      <td>2.975000e+07</td>\n      <td>1.38</td>\n    </tr>\n    <tr>\n      <th>46</th>\n      <td>002001.SZ</td>\n      <td>20180823</td>\n      <td>20180630</td>\n      <td>全国社保基金一零四组合</td>\n      <td>2.888270e+07</td>\n      <td>1.34</td>\n    </tr>\n    <tr>\n      <th>47</th>\n      <td>002001.SZ</td>\n      <td>20180823</td>\n      <td>20180630</td>\n      <td>华安未来资产-工商银行-杭州锐智投资合伙企业(有限合伙)</td>\n      <td>2.683571e+07</td>\n      <td>1.25</td>\n    </tr>\n    <tr>\n      <th>48</th>\n      <td>002001.SZ</td>\n      <td>20180823</td>\n      <td>20180630</td>\n      <td>全国社保基金一一三组合</td>\n      <td>2.321923e+07</td>\n      <td>1.08</td>\n    </tr>\n    <tr>\n      <th>49</th>\n      <td>002001.SZ</td>\n      <td>20180823</td>\n      <td>20180630</td>\n      <td>全国社保基金一一四组合</td>\n      <td>2.040000e+07</td>\n      <td>0.95</td>\n    </tr>\n    <tr>\n      <th>50</th>\n      <td>002001.SZ</td>\n      <td>20180428</td>\n      <td>20180331</td>\n      <td>新和成控股集团有限公司</td>\n      <td>6.136783e+08</td>\n      <td>48.55</td>\n    </tr>\n    <tr>\n      <th>51</th>\n      <td>002001.SZ</td>\n      <td>20180428</td>\n      <td>20180331</td>\n      <td>上海重阳战略投资有限公司-重阳战略汇智基金</td>\n      <td>2.142857e+07</td>\n      <td>1.70</td>\n    </tr>\n    <tr>\n      <th>52</th>\n      <td>002001.SZ</td>\n      <td>20180428</td>\n      <td>20180331</td>\n      <td>三花控股集团有限公司</td>\n      <td>1.750000e+07</td>\n      <td>1.38</td>\n    </tr>\n    <tr>\n      <th>53</th>\n      <td>002001.SZ</td>\n      <td>20180428</td>\n      <td>20180331</td>\n      <td>银河资本-浙商银行-银河资本-鑫鑫一号资产管理计划</td>\n      <td>1.750000e+07</td>\n      <td>1.38</td>\n    </tr>\n    <tr>\n      <th>54</th>\n      <td>002001.SZ</td>\n      <td>20180428</td>\n      <td>20180331</td>\n      <td>中意资管-招商银行-中意资产-招商银行-定增精选43号资产管理产品</td>\n      <td>1.750000e+07</td>\n      <td>1.38</td>\n    </tr>\n    <tr>\n      <th>55</th>\n      <td>002001.SZ</td>\n      <td>20180428</td>\n      <td>20180331</td>\n      <td>华安未来资产-工商银行-杭州丰信投资合伙企业(有限合伙)</td>\n      <td>1.750000e+07</td>\n      <td>1.38</td>\n    </tr>\n    <tr>\n      <th>56</th>\n      <td>002001.SZ</td>\n      <td>20180428</td>\n      <td>20180331</td>\n      <td>全国社保基金一零四组合</td>\n      <td>1.738983e+07</td>\n      <td>1.38</td>\n    </tr>\n    <tr>\n      <th>57</th>\n      <td>002001.SZ</td>\n      <td>20180428</td>\n      <td>20180331</td>\n      <td>华安未来资产-工商银行-杭州锐智投资合伙企业(有限合伙)</td>\n      <td>1.578571e+07</td>\n      <td>1.25</td>\n    </tr>\n    <tr>\n      <th>58</th>\n      <td>002001.SZ</td>\n      <td>20180428</td>\n      <td>20180331</td>\n      <td>全国社保基金一一三组合</td>\n      <td>1.365837e+07</td>\n      <td>1.08</td>\n    </tr>\n    <tr>\n      <th>59</th>\n      <td>002001.SZ</td>\n      <td>20180428</td>\n      <td>20180331</td>\n      <td>汇添富基金-中国银行-浙江新和成股份有限公司</td>\n      <td>1.269449e+07</td>\n      <td>1.00</td>\n    </tr>\n  </tbody>\n</table>\n</div>"
     },
     "metadata": {},
     "output_type": "execute_result",
     "execution_count": 43
    }
   ],
   "source": [
    "ts_api.top10_holders(\n",
    "    ts_code = '002001.SZ',\n",
    "    start_date = '20180101',\n",
    "    end_date = '20191231'\n",
    ")"
   ],
   "metadata": {
    "collapsed": false,
    "pycharm": {
     "name": "#%%\n",
     "is_executing": false
    }
   }
  }
 ],
 "metadata": {
  "kernelspec": {
   "display_name": "Python 3",
   "language": "python",
   "name": "python3"
  },
  "language_info": {
   "codemirror_mode": {
    "name": "ipython",
    "version": 2
   },
   "file_extension": ".py",
   "mimetype": "text/x-python",
   "name": "python",
   "nbconvert_exporter": "python",
   "pygments_lexer": "ipython2",
   "version": "2.7.6"
  },
  "pycharm": {
   "stem_cell": {
    "cell_type": "raw",
    "source": [],
    "metadata": {
     "collapsed": false
    }
   }
  }
 },
 "nbformat": 4,
 "nbformat_minor": 0
}