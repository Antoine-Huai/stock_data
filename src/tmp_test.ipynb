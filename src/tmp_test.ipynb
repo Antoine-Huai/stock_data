{
 "cells": [
  {
   "cell_type": "code",
   "execution_count": 1,
   "metadata": {
    "collapsed": true,
    "pycharm": {
     "is_executing": false,
     "name": "#%%\n"
    }
   },
   "outputs": [
    {
     "name": "stderr",
     "text": [
      "/Users/kk/miniconda3/envs/quant/lib/python3.7/site-packages/tushare/util/upass.py:28: FutureWarning:\n\n\n.ix is deprecated. Please use\n.loc for label based indexing or\n.iloc for positional indexing\n\nSee the documentation here:\nhttp://pandas.pydata.org/pandas-docs/stable/user_guide/indexing.html#ix-indexer-is-deprecated\n\n"
     ],
     "output_type": "stream"
    },
    {
     "name": "stdout",
     "text": [
      "login success!\nbaostock login => error_code: 0 error_msg: success\n\n"
     ],
     "output_type": "stream"
    }
   ],
   "source": [
    "import tushare as ts\n",
    "import plotly.graph_objects as go\n",
    "import plotly.io as pio\n",
    "import plotly.express as px\n",
    "import pandas as pd\n",
    "import numpy as np\n",
    "import baostock as bao\n",
    "from baostock.data.resultset import ResultData\n",
    "import baostock.common.contants as bao_consts\n",
    "from pandas import Timestamp\n",
    "from sz.stock_data.toolbox.data_provider import ts_code\n",
    "from datetime import date, datetime, timedelta\n",
    "\n",
    "ts.set_token('f96b1eeee9c8fddd357f2299cdedc1c88b2bb2a30ae1f772cf810dea')\n",
    "ts_api = ts.pro_api()\n",
    "\n",
    "blg = bao.login()\n",
    "print('baostock login => error_code: %s error_msg: %s\\n' %\n",
    "      (blg.error_code, blg.error_msg))\n",
    "\n",
    "\n",
    "from sz.stock_data.stock_data import StockData\n",
    "StockData().setup(data_dir = '/Volumes/USBDATA/stock_data')\n",
    "\n",
    "from sz.stock_data.stocks.stock_daily import StockDaily\n",
    "from sz.stock_data.toolbox.helper import need_update_by_trade_date\n",
    "\n",
    " "
   ]
  },
  {
   "cell_type": "code",
   "execution_count": 2,
   "outputs": [
    {
     "name": "stdout",
     "text": [
      "need update: True\n"
     ],
     "output_type": "stream"
    }
   ],
   "source": [
    "stock = StockDaily(StockData().data_dir, stock_code = '300059.SZ').prepare()\n",
    "\n",
    "print(\"need update: %s\" % need_update_by_trade_date(stock.dataframe, 'date'))\n",
    "\n"
   ],
   "metadata": {
    "collapsed": false,
    "pycharm": {
     "name": "#%%\n",
     "is_executing": false
    }
   }
  }
 ],
 "metadata": {
  "kernelspec": {
   "display_name": "Python 3",
   "language": "python",
   "name": "python3"
  },
  "language_info": {
   "codemirror_mode": {
    "name": "ipython",
    "version": 2
   },
   "file_extension": ".py",
   "mimetype": "text/x-python",
   "name": "python",
   "nbconvert_exporter": "python",
   "pygments_lexer": "ipython2",
   "version": "2.7.6"
  },
  "pycharm": {
   "stem_cell": {
    "cell_type": "raw",
    "source": [],
    "metadata": {
     "collapsed": false
    }
   }
  }
 },
 "nbformat": 4,
 "nbformat_minor": 0
}