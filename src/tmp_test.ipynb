{
 "cells": [
  {
   "cell_type": "code",
   "execution_count": 1,
   "metadata": {
    "collapsed": true,
    "pycharm": {
     "is_executing": false
    }
   },
   "outputs": [
    {
     "name": "stdout",
     "text": [
      "login success!\nbaostock login => error_code: 0 error_msg: success\n\n"
     ],
     "output_type": "stream"
    },
    {
     "name": "stderr",
     "text": [
      "/Users/kk/miniconda3/envs/quant/lib/python3.7/site-packages/tushare/util/upass.py:28: FutureWarning:\n\n\n.ix is deprecated. Please use\n.loc for label based indexing or\n.iloc for positional indexing\n\nSee the documentation here:\nhttp://pandas.pydata.org/pandas-docs/stable/user_guide/indexing.html#ix-indexer-is-deprecated\n\n"
     ],
     "output_type": "stream"
    },
    {
     "data": {
      "text/plain": "<sz.stock_data.stock_data.StockData at 0x1211a9400>"
     },
     "metadata": {},
     "output_type": "execute_result",
     "execution_count": 1
    }
   ],
   "source": [
    "import tushare as ts\n",
    "import plotly.graph_objects as go\n",
    "import plotly.io as pio\n",
    "import plotly.express as px\n",
    "import pandas as pd\n",
    "import numpy as np\n",
    "import baostock as bao\n",
    "from baostock.data.resultset import ResultData\n",
    "import baostock.common.contants as bao_consts\n",
    "from pandas import Timestamp\n",
    "from sz.stock_data.toolbox.data_provider import ts_code\n",
    "from datetime import date, datetime, timedelta\n",
    "\n",
    "ts.set_token('f96b1eeee9c8fddd357f2299cdedc1c88b2bb2a30ae1f772cf810dea')\n",
    "ts_api = ts.pro_api()\n",
    "\n",
    "blg = bao.login()\n",
    "print('baostock login => error_code: %s error_msg: %s\\n' %\n",
    "      (blg.error_code, blg.error_msg))\n",
    "\n",
    "from sz.stock_data.stock_data import StockData\n",
    "StockData().setup(data_dir = '/Volumes/USBDATA/stock_data')\n"
   ]
  },
  {
   "cell_type": "code",
   "execution_count": 29,
   "outputs": [
    {
     "data": {
      "text/plain": "  trade_date    ts_code   name  close  pct_change  turnover_rate       amount  \\\n0   20080104  000430.SZ  ST张家界  12.86       4.980           0.67   45760000.0   \n1   20080104  000545.SZ  *ST吉药  10.37      -2.354          31.26  327550000.0   \n2   20080104  000587.SZ  *ST光明   9.20       5.023          11.26   88550000.0   \n3   20080104  000831.SZ  *ST关铝  33.44      10.000           7.77  609250000.0   \n4   20080104  000833.SZ   贵糖股份  11.89       9.991          16.42  268570000.0   \n\n        l_sell         l_buy      l_amount    net_amount  net_rate  \\\n0  32236373.56  1.231668e+07  4.455305e+07 -1.991970e+07    -43.53   \n1  80331011.09  7.219430e+07  1.525253e+08 -8.136708e+06     -2.48   \n2   9110232.41  1.219064e+07  2.130087e+07  3.080404e+06      3.48   \n3  23885356.62  1.338635e+08  1.577489e+08  1.099782e+08     18.05   \n4  22003370.09  4.828577e+07  7.028914e+07  2.628240e+07      9.79   \n\n   amount_rate  float_values                                 reason  \n0        97.36  9.561140e+08  连续三个交易日收盘价达到涨幅限制价格的ST证券、*ST证券和未完成股改证券  \n1        46.57  1.065004e+09                        日换手率达到20%的前三只证券  \n2        24.06  7.676375e+08  连续三个交易日收盘价达到涨幅限制价格的ST证券、*ST证券和未完成股改证券  \n3        25.89  8.061608e+09                       日涨幅偏离值达到7%的前三只证券  \n4        26.17  1.687784e+09                       日涨幅偏离值达到7%的前三只证券  ",
      "text/html": "<div>\n<style scoped>\n    .dataframe tbody tr th:only-of-type {\n        vertical-align: middle;\n    }\n\n    .dataframe tbody tr th {\n        vertical-align: top;\n    }\n\n    .dataframe thead th {\n        text-align: right;\n    }\n</style>\n<table border=\"1\" class=\"dataframe\">\n  <thead>\n    <tr style=\"text-align: right;\">\n      <th></th>\n      <th>trade_date</th>\n      <th>ts_code</th>\n      <th>name</th>\n      <th>close</th>\n      <th>pct_change</th>\n      <th>turnover_rate</th>\n      <th>amount</th>\n      <th>l_sell</th>\n      <th>l_buy</th>\n      <th>l_amount</th>\n      <th>net_amount</th>\n      <th>net_rate</th>\n      <th>amount_rate</th>\n      <th>float_values</th>\n      <th>reason</th>\n    </tr>\n  </thead>\n  <tbody>\n    <tr>\n      <th>0</th>\n      <td>20080104</td>\n      <td>000430.SZ</td>\n      <td>ST张家界</td>\n      <td>12.86</td>\n      <td>4.980</td>\n      <td>0.67</td>\n      <td>45760000.0</td>\n      <td>32236373.56</td>\n      <td>1.231668e+07</td>\n      <td>4.455305e+07</td>\n      <td>-1.991970e+07</td>\n      <td>-43.53</td>\n      <td>97.36</td>\n      <td>9.561140e+08</td>\n      <td>连续三个交易日收盘价达到涨幅限制价格的ST证券、*ST证券和未完成股改证券</td>\n    </tr>\n    <tr>\n      <th>1</th>\n      <td>20080104</td>\n      <td>000545.SZ</td>\n      <td>*ST吉药</td>\n      <td>10.37</td>\n      <td>-2.354</td>\n      <td>31.26</td>\n      <td>327550000.0</td>\n      <td>80331011.09</td>\n      <td>7.219430e+07</td>\n      <td>1.525253e+08</td>\n      <td>-8.136708e+06</td>\n      <td>-2.48</td>\n      <td>46.57</td>\n      <td>1.065004e+09</td>\n      <td>日换手率达到20%的前三只证券</td>\n    </tr>\n    <tr>\n      <th>2</th>\n      <td>20080104</td>\n      <td>000587.SZ</td>\n      <td>*ST光明</td>\n      <td>9.20</td>\n      <td>5.023</td>\n      <td>11.26</td>\n      <td>88550000.0</td>\n      <td>9110232.41</td>\n      <td>1.219064e+07</td>\n      <td>2.130087e+07</td>\n      <td>3.080404e+06</td>\n      <td>3.48</td>\n      <td>24.06</td>\n      <td>7.676375e+08</td>\n      <td>连续三个交易日收盘价达到涨幅限制价格的ST证券、*ST证券和未完成股改证券</td>\n    </tr>\n    <tr>\n      <th>3</th>\n      <td>20080104</td>\n      <td>000831.SZ</td>\n      <td>*ST关铝</td>\n      <td>33.44</td>\n      <td>10.000</td>\n      <td>7.77</td>\n      <td>609250000.0</td>\n      <td>23885356.62</td>\n      <td>1.338635e+08</td>\n      <td>1.577489e+08</td>\n      <td>1.099782e+08</td>\n      <td>18.05</td>\n      <td>25.89</td>\n      <td>8.061608e+09</td>\n      <td>日涨幅偏离值达到7%的前三只证券</td>\n    </tr>\n    <tr>\n      <th>4</th>\n      <td>20080104</td>\n      <td>000833.SZ</td>\n      <td>贵糖股份</td>\n      <td>11.89</td>\n      <td>9.991</td>\n      <td>16.42</td>\n      <td>268570000.0</td>\n      <td>22003370.09</td>\n      <td>4.828577e+07</td>\n      <td>7.028914e+07</td>\n      <td>2.628240e+07</td>\n      <td>9.79</td>\n      <td>26.17</td>\n      <td>1.687784e+09</td>\n      <td>日涨幅偏离值达到7%的前三只证券</td>\n    </tr>\n  </tbody>\n</table>\n</div>"
     },
     "metadata": {},
     "output_type": "execute_result",
     "execution_count": 29
    }
   ],
   "source": [
    "df = ts_api.top_list(trade_date='20080104')\n",
    "df.head(5)"
   ],
   "metadata": {
    "collapsed": false,
    "pycharm": {
     "name": "#%%\n",
     "is_executing": false
    }
   }
  },
  {
   "cell_type": "code",
   "execution_count": 33,
   "outputs": [
    {
     "data": {
      "text/plain": "  trade_date    ts_code          rzye       rqye        rzmre       rqyl  \\\n0   20140922  603993.SH  5.137719e+06        0.0    5137719.0        0.0   \n1   20140922  603000.SH  1.625911e+09  6351930.0  120795444.0   137250.0   \n2   20140922  601999.SH  1.130609e+07        0.0   11364262.0        0.0   \n3   20140922  601998.SH  6.202393e+08  4749846.0   69104213.0  1072200.0   \n4   20140922  601996.SH  4.152161e+08    76386.0   51612105.0     8700.0   \n\n         rzche     rqchl     rqmcl        rzrqye  \n0          0.0       0.0       0.0  5.137719e+06  \n1  124225286.0   83280.0   75280.0  1.632263e+09  \n2      58174.0       0.0       0.0  1.130609e+07  \n3   53872662.0  546400.0  978500.0  6.249892e+08  \n4   38641979.0   10300.0    4000.0  4.152925e+08  ",
      "text/html": "<div>\n<style scoped>\n    .dataframe tbody tr th:only-of-type {\n        vertical-align: middle;\n    }\n\n    .dataframe tbody tr th {\n        vertical-align: top;\n    }\n\n    .dataframe thead th {\n        text-align: right;\n    }\n</style>\n<table border=\"1\" class=\"dataframe\">\n  <thead>\n    <tr style=\"text-align: right;\">\n      <th></th>\n      <th>trade_date</th>\n      <th>ts_code</th>\n      <th>rzye</th>\n      <th>rqye</th>\n      <th>rzmre</th>\n      <th>rqyl</th>\n      <th>rzche</th>\n      <th>rqchl</th>\n      <th>rqmcl</th>\n      <th>rzrqye</th>\n    </tr>\n  </thead>\n  <tbody>\n    <tr>\n      <th>0</th>\n      <td>20140922</td>\n      <td>603993.SH</td>\n      <td>5.137719e+06</td>\n      <td>0.0</td>\n      <td>5137719.0</td>\n      <td>0.0</td>\n      <td>0.0</td>\n      <td>0.0</td>\n      <td>0.0</td>\n      <td>5.137719e+06</td>\n    </tr>\n    <tr>\n      <th>1</th>\n      <td>20140922</td>\n      <td>603000.SH</td>\n      <td>1.625911e+09</td>\n      <td>6351930.0</td>\n      <td>120795444.0</td>\n      <td>137250.0</td>\n      <td>124225286.0</td>\n      <td>83280.0</td>\n      <td>75280.0</td>\n      <td>1.632263e+09</td>\n    </tr>\n    <tr>\n      <th>2</th>\n      <td>20140922</td>\n      <td>601999.SH</td>\n      <td>1.130609e+07</td>\n      <td>0.0</td>\n      <td>11364262.0</td>\n      <td>0.0</td>\n      <td>58174.0</td>\n      <td>0.0</td>\n      <td>0.0</td>\n      <td>1.130609e+07</td>\n    </tr>\n    <tr>\n      <th>3</th>\n      <td>20140922</td>\n      <td>601998.SH</td>\n      <td>6.202393e+08</td>\n      <td>4749846.0</td>\n      <td>69104213.0</td>\n      <td>1072200.0</td>\n      <td>53872662.0</td>\n      <td>546400.0</td>\n      <td>978500.0</td>\n      <td>6.249892e+08</td>\n    </tr>\n    <tr>\n      <th>4</th>\n      <td>20140922</td>\n      <td>601996.SH</td>\n      <td>4.152161e+08</td>\n      <td>76386.0</td>\n      <td>51612105.0</td>\n      <td>8700.0</td>\n      <td>38641979.0</td>\n      <td>10300.0</td>\n      <td>4000.0</td>\n      <td>4.152925e+08</td>\n    </tr>\n  </tbody>\n</table>\n</div>"
     },
     "metadata": {},
     "output_type": "execute_result",
     "execution_count": 33
    }
   ],
   "source": [
    "df = ts_api.margin_detail(start_date='20140922', end_date='20140922')\n",
    "df.head(5)"
   ],
   "metadata": {
    "collapsed": false,
    "pycharm": {
     "name": "#%%\n",
     "is_executing": false
    }
   }
  },
  {
   "cell_type": "code",
   "execution_count": 34,
   "outputs": [
    {
     "data": {
      "text/plain": "    trade_date    ts_code          rzye        rqye        rzmre       rqyl  \\\n880   20140922  000012.SZ  6.401463e+08   6888814.0   53348484.0   910015.0   \n881   20140922  000009.SZ  2.457407e+09   7587934.0  145791412.0   588212.0   \n882   20140922  000006.SZ  5.413888e+08    850905.0   41961516.0   148500.0   \n883   20140922  000002.SZ  2.142585e+09  70999900.0   57814228.0  7700640.0   \n884   20140922  000001.SZ  2.298592e+09  22628965.0  143964922.0  2249400.0   \n\n           rzche      rqchl      rqmcl        rzrqye  \n880   47408897.0   451100.0   488554.0  6.470351e+08  \n881  134985495.0   671472.0   572842.0  2.464995e+09  \n882   33343889.0    73200.0    64000.0  5.422397e+08  \n883   59015958.0  2738278.0  3200178.0  2.213585e+09  \n884  100683535.0  1752527.0  1634827.0  2.321220e+09  ",
      "text/html": "<div>\n<style scoped>\n    .dataframe tbody tr th:only-of-type {\n        vertical-align: middle;\n    }\n\n    .dataframe tbody tr th {\n        vertical-align: top;\n    }\n\n    .dataframe thead th {\n        text-align: right;\n    }\n</style>\n<table border=\"1\" class=\"dataframe\">\n  <thead>\n    <tr style=\"text-align: right;\">\n      <th></th>\n      <th>trade_date</th>\n      <th>ts_code</th>\n      <th>rzye</th>\n      <th>rqye</th>\n      <th>rzmre</th>\n      <th>rqyl</th>\n      <th>rzche</th>\n      <th>rqchl</th>\n      <th>rqmcl</th>\n      <th>rzrqye</th>\n    </tr>\n  </thead>\n  <tbody>\n    <tr>\n      <th>880</th>\n      <td>20140922</td>\n      <td>000012.SZ</td>\n      <td>6.401463e+08</td>\n      <td>6888814.0</td>\n      <td>53348484.0</td>\n      <td>910015.0</td>\n      <td>47408897.0</td>\n      <td>451100.0</td>\n      <td>488554.0</td>\n      <td>6.470351e+08</td>\n    </tr>\n    <tr>\n      <th>881</th>\n      <td>20140922</td>\n      <td>000009.SZ</td>\n      <td>2.457407e+09</td>\n      <td>7587934.0</td>\n      <td>145791412.0</td>\n      <td>588212.0</td>\n      <td>134985495.0</td>\n      <td>671472.0</td>\n      <td>572842.0</td>\n      <td>2.464995e+09</td>\n    </tr>\n    <tr>\n      <th>882</th>\n      <td>20140922</td>\n      <td>000006.SZ</td>\n      <td>5.413888e+08</td>\n      <td>850905.0</td>\n      <td>41961516.0</td>\n      <td>148500.0</td>\n      <td>33343889.0</td>\n      <td>73200.0</td>\n      <td>64000.0</td>\n      <td>5.422397e+08</td>\n    </tr>\n    <tr>\n      <th>883</th>\n      <td>20140922</td>\n      <td>000002.SZ</td>\n      <td>2.142585e+09</td>\n      <td>70999900.0</td>\n      <td>57814228.0</td>\n      <td>7700640.0</td>\n      <td>59015958.0</td>\n      <td>2738278.0</td>\n      <td>3200178.0</td>\n      <td>2.213585e+09</td>\n    </tr>\n    <tr>\n      <th>884</th>\n      <td>20140922</td>\n      <td>000001.SZ</td>\n      <td>2.298592e+09</td>\n      <td>22628965.0</td>\n      <td>143964922.0</td>\n      <td>2249400.0</td>\n      <td>100683535.0</td>\n      <td>1752527.0</td>\n      <td>1634827.0</td>\n      <td>2.321220e+09</td>\n    </tr>\n  </tbody>\n</table>\n</div>"
     },
     "metadata": {},
     "output_type": "execute_result",
     "execution_count": 34
    }
   ],
   "source": [
    "df.tail(5)"
   ],
   "metadata": {
    "collapsed": false,
    "pycharm": {
     "name": "#%%\n",
     "is_executing": false
    }
   }
  }
 ],
 "metadata": {
  "kernelspec": {
   "display_name": "Python 3",
   "language": "python",
   "name": "python3"
  },
  "language_info": {
   "codemirror_mode": {
    "name": "ipython",
    "version": 2
   },
   "file_extension": ".py",
   "mimetype": "text/x-python",
   "name": "python",
   "nbconvert_exporter": "python",
   "pygments_lexer": "ipython2",
   "version": "2.7.6"
  },
  "pycharm": {
   "stem_cell": {
    "cell_type": "raw",
    "source": [],
    "metadata": {
     "collapsed": false
    }
   }
  }
 },
 "nbformat": 4,
 "nbformat_minor": 0
}