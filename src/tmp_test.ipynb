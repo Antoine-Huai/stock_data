{
 "cells": [
  {
   "cell_type": "code",
   "execution_count": 1,
   "metadata": {
    "collapsed": true,
    "pycharm": {
     "is_executing": false
    }
   },
   "outputs": [
    {
     "name": "stderr",
     "text": [
      "/Users/kk/miniconda3/envs/quant/lib/python3.7/site-packages/tushare/util/upass.py:28: FutureWarning:\n\n\n.ix is deprecated. Please use\n.loc for label based indexing or\n.iloc for positional indexing\n\nSee the documentation here:\nhttp://pandas.pydata.org/pandas-docs/stable/user_guide/indexing.html#ix-indexer-is-deprecated\n\n"
     ],
     "output_type": "stream"
    },
    {
     "name": "stdout",
     "text": [
      "login success!\nbaostock login => error_code: 0 error_msg: success\n\n"
     ],
     "output_type": "stream"
    },
    {
     "data": {
      "text/plain": "<sz.stock_data.stock_data.StockData at 0x119ac82b0>"
     },
     "metadata": {},
     "output_type": "execute_result",
     "execution_count": 1
    }
   ],
   "source": [
    "import tushare as ts\n",
    "import plotly.graph_objects as go\n",
    "import plotly.io as pio\n",
    "import plotly.express as px\n",
    "import pandas as pd\n",
    "import numpy as np\n",
    "import baostock as bao\n",
    "from baostock.data.resultset import ResultData\n",
    "import baostock.common.contants as bao_consts\n",
    "from pandas import Timestamp\n",
    "from sz.stock_data.toolbox.data_provider import ts_code\n",
    "\n",
    "ts.set_token('f96b1eeee9c8fddd357f2299cdedc1c88b2bb2a30ae1f772cf810dea')\n",
    "ts_api = ts.pro_api()\n",
    "\n",
    "blg = bao.login()\n",
    "print('baostock login => error_code: %s error_msg: %s\\n' %\n",
    "      (blg.error_code, blg.error_msg))\n",
    "\n",
    "from sz.stock_data.stock_data import StockData\n",
    "StockData().setup(data_dir = '/Volumes/USBDATA/stock_data')\n"
   ]
  },
  {
   "cell_type": "code",
   "execution_count": 9,
   "outputs": [],
   "source": [
    "df = ts_api.daily(ts_code='002001.sz', start_date='20190918', end_date='20190919')"
   ],
   "metadata": {
    "collapsed": false,
    "pycharm": {
     "name": "#%%\n",
     "is_executing": false
    }
   }
  },
  {
   "cell_type": "code",
   "execution_count": 10,
   "outputs": [
    {
     "data": {
      "text/plain": "     ts_code trade_date   open   high    low  close  pre_close  change  \\\n0  002001.SZ   20190919  22.44  22.46  21.78  22.08      22.39   -0.31   \n1  002001.SZ   20190918  22.05  22.49  21.95  22.39      22.06    0.33   \n\n   pct_chg        vol      amount  \n0  -1.3845  242031.58  532025.851  \n1   1.4959  149288.75  333014.742  ",
      "text/html": "<div>\n<style scoped>\n    .dataframe tbody tr th:only-of-type {\n        vertical-align: middle;\n    }\n\n    .dataframe tbody tr th {\n        vertical-align: top;\n    }\n\n    .dataframe thead th {\n        text-align: right;\n    }\n</style>\n<table border=\"1\" class=\"dataframe\">\n  <thead>\n    <tr style=\"text-align: right;\">\n      <th></th>\n      <th>ts_code</th>\n      <th>trade_date</th>\n      <th>open</th>\n      <th>high</th>\n      <th>low</th>\n      <th>close</th>\n      <th>pre_close</th>\n      <th>change</th>\n      <th>pct_chg</th>\n      <th>vol</th>\n      <th>amount</th>\n    </tr>\n  </thead>\n  <tbody>\n    <tr>\n      <th>0</th>\n      <td>002001.SZ</td>\n      <td>20190919</td>\n      <td>22.44</td>\n      <td>22.46</td>\n      <td>21.78</td>\n      <td>22.08</td>\n      <td>22.39</td>\n      <td>-0.31</td>\n      <td>-1.3845</td>\n      <td>242031.58</td>\n      <td>532025.851</td>\n    </tr>\n    <tr>\n      <th>1</th>\n      <td>002001.SZ</td>\n      <td>20190918</td>\n      <td>22.05</td>\n      <td>22.49</td>\n      <td>21.95</td>\n      <td>22.39</td>\n      <td>22.06</td>\n      <td>0.33</td>\n      <td>1.4959</td>\n      <td>149288.75</td>\n      <td>333014.742</td>\n    </tr>\n  </tbody>\n</table>\n</div>"
     },
     "metadata": {},
     "output_type": "execute_result",
     "execution_count": 10
    }
   ],
   "source": [
    "df"
   ],
   "metadata": {
    "collapsed": false,
    "pycharm": {
     "name": "#%%\n",
     "is_executing": false
    }
   }
  },
  {
   "cell_type": "code",
   "execution_count": 27,
   "outputs": [
    {
     "data": {
      "text/plain": "         date       code     open     high      low    close preclose  \\\n0  2019-09-18  sz.300122  50.7800  51.7000  50.5000  51.0000  50.9000   \n1  2019-09-19  sz.300122  51.4000  52.3300  50.5100  52.1500  51.0000   \n\n    volume          amount adjustflag      turn tradestatus    pctChg  \\\n0  4902722  250682381.4100          3  0.559800           1  0.196500   \n1  8550611  442475167.0600          3  0.976400           1  2.254900   \n\n       peTTM      psTTM     pcfNcfTTM      pbMRQ isST  \n0  42.589663   9.957158  -3019.035875  18.021724    0  \n1  43.550018  10.181682  -3087.112174  18.428096    0  ",
      "text/html": "<div>\n<style scoped>\n    .dataframe tbody tr th:only-of-type {\n        vertical-align: middle;\n    }\n\n    .dataframe tbody tr th {\n        vertical-align: top;\n    }\n\n    .dataframe thead th {\n        text-align: right;\n    }\n</style>\n<table border=\"1\" class=\"dataframe\">\n  <thead>\n    <tr style=\"text-align: right;\">\n      <th></th>\n      <th>date</th>\n      <th>code</th>\n      <th>open</th>\n      <th>high</th>\n      <th>low</th>\n      <th>close</th>\n      <th>preclose</th>\n      <th>volume</th>\n      <th>amount</th>\n      <th>adjustflag</th>\n      <th>turn</th>\n      <th>tradestatus</th>\n      <th>pctChg</th>\n      <th>peTTM</th>\n      <th>psTTM</th>\n      <th>pcfNcfTTM</th>\n      <th>pbMRQ</th>\n      <th>isST</th>\n    </tr>\n  </thead>\n  <tbody>\n    <tr>\n      <th>0</th>\n      <td>2019-09-18</td>\n      <td>sz.300122</td>\n      <td>50.7800</td>\n      <td>51.7000</td>\n      <td>50.5000</td>\n      <td>51.0000</td>\n      <td>50.9000</td>\n      <td>4902722</td>\n      <td>250682381.4100</td>\n      <td>3</td>\n      <td>0.559800</td>\n      <td>1</td>\n      <td>0.196500</td>\n      <td>42.589663</td>\n      <td>9.957158</td>\n      <td>-3019.035875</td>\n      <td>18.021724</td>\n      <td>0</td>\n    </tr>\n    <tr>\n      <th>1</th>\n      <td>2019-09-19</td>\n      <td>sz.300122</td>\n      <td>51.4000</td>\n      <td>52.3300</td>\n      <td>50.5100</td>\n      <td>52.1500</td>\n      <td>51.0000</td>\n      <td>8550611</td>\n      <td>442475167.0600</td>\n      <td>3</td>\n      <td>0.976400</td>\n      <td>1</td>\n      <td>2.254900</td>\n      <td>43.550018</td>\n      <td>10.181682</td>\n      <td>-3087.112174</td>\n      <td>18.428096</td>\n      <td>0</td>\n    </tr>\n  </tbody>\n</table>\n</div>"
     },
     "metadata": {},
     "output_type": "execute_result",
     "execution_count": 27
    }
   ],
   "source": [
    "df_bao = bao.query_history_k_data_plus(\n",
    "    code = '300122.SZ',\n",
    "    start_date = '2019-09-18',\n",
    "    end_date = '2019-09-19',\n",
    "    frequency = 'd',\n",
    "    fields = 'date,code,open,high,low,close,preclose,volume,amount,adjustflag,turn,tradestatus,pctChg,peTTM,psTTM,pcfNcfTTM,pbMRQ,isST'\n",
    ")\n",
    "\n",
    "df_bao.get_data()"
   ],
   "metadata": {
    "collapsed": false,
    "pycharm": {
     "name": "#%%\n",
     "is_executing": false
    }
   }
  },
  {
   "cell_type": "code",
   "execution_count": 17,
   "outputs": [
    {
     "data": {
      "text/plain": "     updateDate       code code_name\n0    2019-09-16  sh.600000      浦发银行\n1    2019-09-16  sh.600004      白云机场\n2    2019-09-16  sh.600009      上海机场\n3    2019-09-16  sh.600010      包钢股份\n4    2019-09-16  sh.600011      华能国际\n..          ...        ...       ...\n295  2019-09-16  sz.300296       利亚德\n296  2019-09-16  sz.300408      三环集团\n297  2019-09-16  sz.300413      芒果超媒\n298  2019-09-16  sz.300433      蓝思科技\n299  2019-09-16  sz.300498      温氏股份\n\n[300 rows x 3 columns]",
      "text/html": "<div>\n<style scoped>\n    .dataframe tbody tr th:only-of-type {\n        vertical-align: middle;\n    }\n\n    .dataframe tbody tr th {\n        vertical-align: top;\n    }\n\n    .dataframe thead th {\n        text-align: right;\n    }\n</style>\n<table border=\"1\" class=\"dataframe\">\n  <thead>\n    <tr style=\"text-align: right;\">\n      <th></th>\n      <th>updateDate</th>\n      <th>code</th>\n      <th>code_name</th>\n    </tr>\n  </thead>\n  <tbody>\n    <tr>\n      <th>0</th>\n      <td>2019-09-16</td>\n      <td>sh.600000</td>\n      <td>浦发银行</td>\n    </tr>\n    <tr>\n      <th>1</th>\n      <td>2019-09-16</td>\n      <td>sh.600004</td>\n      <td>白云机场</td>\n    </tr>\n    <tr>\n      <th>2</th>\n      <td>2019-09-16</td>\n      <td>sh.600009</td>\n      <td>上海机场</td>\n    </tr>\n    <tr>\n      <th>3</th>\n      <td>2019-09-16</td>\n      <td>sh.600010</td>\n      <td>包钢股份</td>\n    </tr>\n    <tr>\n      <th>4</th>\n      <td>2019-09-16</td>\n      <td>sh.600011</td>\n      <td>华能国际</td>\n    </tr>\n    <tr>\n      <th>5</th>\n      <td>2019-09-16</td>\n      <td>sh.600015</td>\n      <td>华夏银行</td>\n    </tr>\n    <tr>\n      <th>6</th>\n      <td>2019-09-16</td>\n      <td>sh.600016</td>\n      <td>民生银行</td>\n    </tr>\n    <tr>\n      <th>7</th>\n      <td>2019-09-16</td>\n      <td>sh.600018</td>\n      <td>上港集团</td>\n    </tr>\n    <tr>\n      <th>8</th>\n      <td>2019-09-16</td>\n      <td>sh.600019</td>\n      <td>宝钢股份</td>\n    </tr>\n    <tr>\n      <th>9</th>\n      <td>2019-09-16</td>\n      <td>sh.600023</td>\n      <td>浙能电力</td>\n    </tr>\n    <tr>\n      <th>10</th>\n      <td>2019-09-16</td>\n      <td>sh.600025</td>\n      <td>华能水电</td>\n    </tr>\n    <tr>\n      <th>11</th>\n      <td>2019-09-16</td>\n      <td>sh.600027</td>\n      <td>华电国际</td>\n    </tr>\n    <tr>\n      <th>12</th>\n      <td>2019-09-16</td>\n      <td>sh.600028</td>\n      <td>中国石化</td>\n    </tr>\n    <tr>\n      <th>13</th>\n      <td>2019-09-16</td>\n      <td>sh.600029</td>\n      <td>南方航空</td>\n    </tr>\n    <tr>\n      <th>14</th>\n      <td>2019-09-16</td>\n      <td>sh.600030</td>\n      <td>中信证券</td>\n    </tr>\n    <tr>\n      <th>15</th>\n      <td>2019-09-16</td>\n      <td>sh.600031</td>\n      <td>三一重工</td>\n    </tr>\n    <tr>\n      <th>16</th>\n      <td>2019-09-16</td>\n      <td>sh.600036</td>\n      <td>招商银行</td>\n    </tr>\n    <tr>\n      <th>17</th>\n      <td>2019-09-16</td>\n      <td>sh.600038</td>\n      <td>中直股份</td>\n    </tr>\n    <tr>\n      <th>18</th>\n      <td>2019-09-16</td>\n      <td>sh.600048</td>\n      <td>保利地产</td>\n    </tr>\n    <tr>\n      <th>19</th>\n      <td>2019-09-16</td>\n      <td>sh.600050</td>\n      <td>中国联通</td>\n    </tr>\n    <tr>\n      <th>20</th>\n      <td>2019-09-16</td>\n      <td>sh.600061</td>\n      <td>国投资本</td>\n    </tr>\n    <tr>\n      <th>21</th>\n      <td>2019-09-16</td>\n      <td>sh.600066</td>\n      <td>宇通客车</td>\n    </tr>\n    <tr>\n      <th>22</th>\n      <td>2019-09-16</td>\n      <td>sh.600068</td>\n      <td>葛洲坝</td>\n    </tr>\n    <tr>\n      <th>23</th>\n      <td>2019-09-16</td>\n      <td>sh.600085</td>\n      <td>同仁堂</td>\n    </tr>\n    <tr>\n      <th>24</th>\n      <td>2019-09-16</td>\n      <td>sh.600089</td>\n      <td>特变电工</td>\n    </tr>\n    <tr>\n      <th>25</th>\n      <td>2019-09-16</td>\n      <td>sh.600100</td>\n      <td>同方股份</td>\n    </tr>\n    <tr>\n      <th>26</th>\n      <td>2019-09-16</td>\n      <td>sh.600104</td>\n      <td>上汽集团</td>\n    </tr>\n    <tr>\n      <th>27</th>\n      <td>2019-09-16</td>\n      <td>sh.600109</td>\n      <td>国金证券</td>\n    </tr>\n    <tr>\n      <th>28</th>\n      <td>2019-09-16</td>\n      <td>sh.600111</td>\n      <td>北方稀土</td>\n    </tr>\n    <tr>\n      <th>29</th>\n      <td>2019-09-16</td>\n      <td>sh.600115</td>\n      <td>东方航空</td>\n    </tr>\n    <tr>\n      <th>...</th>\n      <td>...</td>\n      <td>...</td>\n      <td>...</td>\n    </tr>\n    <tr>\n      <th>270</th>\n      <td>2019-09-16</td>\n      <td>sz.002624</td>\n      <td>完美世界</td>\n    </tr>\n    <tr>\n      <th>271</th>\n      <td>2019-09-16</td>\n      <td>sz.002625</td>\n      <td>光启技术</td>\n    </tr>\n    <tr>\n      <th>272</th>\n      <td>2019-09-16</td>\n      <td>sz.002673</td>\n      <td>西部证券</td>\n    </tr>\n    <tr>\n      <th>273</th>\n      <td>2019-09-16</td>\n      <td>sz.002714</td>\n      <td>牧原股份</td>\n    </tr>\n    <tr>\n      <th>274</th>\n      <td>2019-09-16</td>\n      <td>sz.002736</td>\n      <td>国信证券</td>\n    </tr>\n    <tr>\n      <th>275</th>\n      <td>2019-09-16</td>\n      <td>sz.002739</td>\n      <td>万达电影</td>\n    </tr>\n    <tr>\n      <th>276</th>\n      <td>2019-09-16</td>\n      <td>sz.002773</td>\n      <td>康弘药业</td>\n    </tr>\n    <tr>\n      <th>277</th>\n      <td>2019-09-16</td>\n      <td>sz.002925</td>\n      <td>盈趣科技</td>\n    </tr>\n    <tr>\n      <th>278</th>\n      <td>2019-09-16</td>\n      <td>sz.002938</td>\n      <td>鹏鼎控股</td>\n    </tr>\n    <tr>\n      <th>279</th>\n      <td>2019-09-16</td>\n      <td>sz.002939</td>\n      <td>长城证券</td>\n    </tr>\n    <tr>\n      <th>280</th>\n      <td>2019-09-16</td>\n      <td>sz.002945</td>\n      <td>华林证券</td>\n    </tr>\n    <tr>\n      <th>281</th>\n      <td>2019-09-16</td>\n      <td>sz.300003</td>\n      <td>乐普医疗</td>\n    </tr>\n    <tr>\n      <th>282</th>\n      <td>2019-09-16</td>\n      <td>sz.300015</td>\n      <td>爱尔眼科</td>\n    </tr>\n    <tr>\n      <th>283</th>\n      <td>2019-09-16</td>\n      <td>sz.300017</td>\n      <td>网宿科技</td>\n    </tr>\n    <tr>\n      <th>284</th>\n      <td>2019-09-16</td>\n      <td>sz.300024</td>\n      <td>机器人</td>\n    </tr>\n    <tr>\n      <th>285</th>\n      <td>2019-09-16</td>\n      <td>sz.300033</td>\n      <td>同花顺</td>\n    </tr>\n    <tr>\n      <th>286</th>\n      <td>2019-09-16</td>\n      <td>sz.300059</td>\n      <td>东方财富</td>\n    </tr>\n    <tr>\n      <th>287</th>\n      <td>2019-09-16</td>\n      <td>sz.300070</td>\n      <td>碧水源</td>\n    </tr>\n    <tr>\n      <th>288</th>\n      <td>2019-09-16</td>\n      <td>sz.300072</td>\n      <td>三聚环保</td>\n    </tr>\n    <tr>\n      <th>289</th>\n      <td>2019-09-16</td>\n      <td>sz.300122</td>\n      <td>智飞生物</td>\n    </tr>\n    <tr>\n      <th>290</th>\n      <td>2019-09-16</td>\n      <td>sz.300124</td>\n      <td>汇川技术</td>\n    </tr>\n    <tr>\n      <th>291</th>\n      <td>2019-09-16</td>\n      <td>sz.300136</td>\n      <td>信维通信</td>\n    </tr>\n    <tr>\n      <th>292</th>\n      <td>2019-09-16</td>\n      <td>sz.300142</td>\n      <td>沃森生物</td>\n    </tr>\n    <tr>\n      <th>293</th>\n      <td>2019-09-16</td>\n      <td>sz.300144</td>\n      <td>宋城演艺</td>\n    </tr>\n    <tr>\n      <th>294</th>\n      <td>2019-09-16</td>\n      <td>sz.300251</td>\n      <td>光线传媒</td>\n    </tr>\n    <tr>\n      <th>295</th>\n      <td>2019-09-16</td>\n      <td>sz.300296</td>\n      <td>利亚德</td>\n    </tr>\n    <tr>\n      <th>296</th>\n      <td>2019-09-16</td>\n      <td>sz.300408</td>\n      <td>三环集团</td>\n    </tr>\n    <tr>\n      <th>297</th>\n      <td>2019-09-16</td>\n      <td>sz.300413</td>\n      <td>芒果超媒</td>\n    </tr>\n    <tr>\n      <th>298</th>\n      <td>2019-09-16</td>\n      <td>sz.300433</td>\n      <td>蓝思科技</td>\n    </tr>\n    <tr>\n      <th>299</th>\n      <td>2019-09-16</td>\n      <td>sz.300498</td>\n      <td>温氏股份</td>\n    </tr>\n  </tbody>\n</table>\n<p>300 rows × 3 columns</p>\n</div>"
     },
     "metadata": {},
     "output_type": "execute_result",
     "execution_count": 17
    }
   ],
   "source": [
    "df = bao.query_hs300_stocks().get_data()\n",
    "df\n"
   ],
   "metadata": {
    "collapsed": false,
    "pycharm": {
     "name": "#%%\n",
     "is_executing": false
    }
   }
  },
  {
   "cell_type": "code",
   "execution_count": 21,
   "outputs": [
    {
     "data": {
      "text/plain": "0      600000.SH\n1      600004.SH\n2      600009.SH\n3      600010.SH\n4      600011.SH\n         ...    \n295    300296.SZ\n296    300408.SZ\n297    300413.SZ\n298    300433.SZ\n299    300498.SZ\nName: code, Length: 300, dtype: object"
     },
     "metadata": {},
     "output_type": "execute_result",
     "execution_count": 21
    }
   ],
   "source": [
    "df['code'].apply(lambda x: ts_code(x))\n"
   ],
   "metadata": {
    "collapsed": false,
    "pycharm": {
     "name": "#%%\n",
     "is_executing": false
    }
   }
  },
  {
   "cell_type": "code",
   "execution_count": 33,
   "outputs": [],
   "source": [
    "from datetime import date, datetime, timedelta"
   ],
   "metadata": {
    "collapsed": false,
    "pycharm": {
     "name": "#%%\n",
     "is_executing": false
    }
   }
  },
  {
   "cell_type": "code",
   "execution_count": 34,
   "outputs": [
    {
     "data": {
      "text/plain": "'2019-09-20'"
     },
     "metadata": {},
     "output_type": "execute_result",
     "execution_count": 34
    }
   ],
   "source": [
    "today = date.today()\n",
    "str(today)"
   ],
   "metadata": {
    "collapsed": false,
    "pycharm": {
     "name": "#%%\n",
     "is_executing": false
    }
   }
  },
  {
   "cell_type": "code",
   "execution_count": 30,
   "outputs": [
    {
     "data": {
      "text/plain": "             cal_date  is_open pretrade_date\ncal_date                                    \n2000-01-01 2000-01-01    False    1999-12-30\n2000-01-02 2000-01-02    False    1999-12-30\n2000-01-03 2000-01-03    False    1999-12-30\n2000-01-04 2000-01-04     True    1999-12-30\n2000-01-05 2000-01-05     True    2000-01-04\n...               ...      ...           ...\n2019-12-27 2019-12-27     True    2019-12-26\n2019-12-28 2019-12-28    False    2019-12-27\n2019-12-29 2019-12-29    False    2019-12-27\n2019-12-30 2019-12-30     True    2019-12-27\n2019-12-31 2019-12-31     True    2019-12-30\n\n[7305 rows x 3 columns]",
      "text/html": "<div>\n<style scoped>\n    .dataframe tbody tr th:only-of-type {\n        vertical-align: middle;\n    }\n\n    .dataframe tbody tr th {\n        vertical-align: top;\n    }\n\n    .dataframe thead th {\n        text-align: right;\n    }\n</style>\n<table border=\"1\" class=\"dataframe\">\n  <thead>\n    <tr style=\"text-align: right;\">\n      <th></th>\n      <th>cal_date</th>\n      <th>is_open</th>\n      <th>pretrade_date</th>\n    </tr>\n    <tr>\n      <th>cal_date</th>\n      <th></th>\n      <th></th>\n      <th></th>\n    </tr>\n  </thead>\n  <tbody>\n    <tr>\n      <th>2000-01-01</th>\n      <td>2000-01-01</td>\n      <td>False</td>\n      <td>1999-12-30</td>\n    </tr>\n    <tr>\n      <th>2000-01-02</th>\n      <td>2000-01-02</td>\n      <td>False</td>\n      <td>1999-12-30</td>\n    </tr>\n    <tr>\n      <th>2000-01-03</th>\n      <td>2000-01-03</td>\n      <td>False</td>\n      <td>1999-12-30</td>\n    </tr>\n    <tr>\n      <th>2000-01-04</th>\n      <td>2000-01-04</td>\n      <td>True</td>\n      <td>1999-12-30</td>\n    </tr>\n    <tr>\n      <th>2000-01-05</th>\n      <td>2000-01-05</td>\n      <td>True</td>\n      <td>2000-01-04</td>\n    </tr>\n    <tr>\n      <th>2000-01-06</th>\n      <td>2000-01-06</td>\n      <td>True</td>\n      <td>2000-01-05</td>\n    </tr>\n    <tr>\n      <th>2000-01-07</th>\n      <td>2000-01-07</td>\n      <td>True</td>\n      <td>2000-01-06</td>\n    </tr>\n    <tr>\n      <th>2000-01-08</th>\n      <td>2000-01-08</td>\n      <td>False</td>\n      <td>2000-01-07</td>\n    </tr>\n    <tr>\n      <th>2000-01-09</th>\n      <td>2000-01-09</td>\n      <td>False</td>\n      <td>2000-01-07</td>\n    </tr>\n    <tr>\n      <th>2000-01-10</th>\n      <td>2000-01-10</td>\n      <td>True</td>\n      <td>2000-01-07</td>\n    </tr>\n    <tr>\n      <th>2000-01-11</th>\n      <td>2000-01-11</td>\n      <td>True</td>\n      <td>2000-01-10</td>\n    </tr>\n    <tr>\n      <th>2000-01-12</th>\n      <td>2000-01-12</td>\n      <td>True</td>\n      <td>2000-01-11</td>\n    </tr>\n    <tr>\n      <th>2000-01-13</th>\n      <td>2000-01-13</td>\n      <td>True</td>\n      <td>2000-01-12</td>\n    </tr>\n    <tr>\n      <th>2000-01-14</th>\n      <td>2000-01-14</td>\n      <td>True</td>\n      <td>2000-01-13</td>\n    </tr>\n    <tr>\n      <th>2000-01-15</th>\n      <td>2000-01-15</td>\n      <td>False</td>\n      <td>2000-01-14</td>\n    </tr>\n    <tr>\n      <th>2000-01-16</th>\n      <td>2000-01-16</td>\n      <td>False</td>\n      <td>2000-01-14</td>\n    </tr>\n    <tr>\n      <th>2000-01-17</th>\n      <td>2000-01-17</td>\n      <td>True</td>\n      <td>2000-01-14</td>\n    </tr>\n    <tr>\n      <th>2000-01-18</th>\n      <td>2000-01-18</td>\n      <td>True</td>\n      <td>2000-01-17</td>\n    </tr>\n    <tr>\n      <th>2000-01-19</th>\n      <td>2000-01-19</td>\n      <td>True</td>\n      <td>2000-01-18</td>\n    </tr>\n    <tr>\n      <th>2000-01-20</th>\n      <td>2000-01-20</td>\n      <td>True</td>\n      <td>2000-01-19</td>\n    </tr>\n    <tr>\n      <th>2000-01-21</th>\n      <td>2000-01-21</td>\n      <td>True</td>\n      <td>2000-01-20</td>\n    </tr>\n    <tr>\n      <th>2000-01-22</th>\n      <td>2000-01-22</td>\n      <td>False</td>\n      <td>2000-01-21</td>\n    </tr>\n    <tr>\n      <th>2000-01-23</th>\n      <td>2000-01-23</td>\n      <td>False</td>\n      <td>2000-01-21</td>\n    </tr>\n    <tr>\n      <th>2000-01-24</th>\n      <td>2000-01-24</td>\n      <td>True</td>\n      <td>2000-01-21</td>\n    </tr>\n    <tr>\n      <th>2000-01-25</th>\n      <td>2000-01-25</td>\n      <td>True</td>\n      <td>2000-01-24</td>\n    </tr>\n    <tr>\n      <th>2000-01-26</th>\n      <td>2000-01-26</td>\n      <td>True</td>\n      <td>2000-01-25</td>\n    </tr>\n    <tr>\n      <th>2000-01-27</th>\n      <td>2000-01-27</td>\n      <td>True</td>\n      <td>2000-01-26</td>\n    </tr>\n    <tr>\n      <th>2000-01-28</th>\n      <td>2000-01-28</td>\n      <td>True</td>\n      <td>2000-01-27</td>\n    </tr>\n    <tr>\n      <th>2000-01-29</th>\n      <td>2000-01-29</td>\n      <td>False</td>\n      <td>2000-01-28</td>\n    </tr>\n    <tr>\n      <th>2000-01-30</th>\n      <td>2000-01-30</td>\n      <td>False</td>\n      <td>2000-01-28</td>\n    </tr>\n    <tr>\n      <th>...</th>\n      <td>...</td>\n      <td>...</td>\n      <td>...</td>\n    </tr>\n    <tr>\n      <th>2019-12-02</th>\n      <td>2019-12-02</td>\n      <td>True</td>\n      <td>2019-11-29</td>\n    </tr>\n    <tr>\n      <th>2019-12-03</th>\n      <td>2019-12-03</td>\n      <td>True</td>\n      <td>2019-12-02</td>\n    </tr>\n    <tr>\n      <th>2019-12-04</th>\n      <td>2019-12-04</td>\n      <td>True</td>\n      <td>2019-12-03</td>\n    </tr>\n    <tr>\n      <th>2019-12-05</th>\n      <td>2019-12-05</td>\n      <td>True</td>\n      <td>2019-12-04</td>\n    </tr>\n    <tr>\n      <th>2019-12-06</th>\n      <td>2019-12-06</td>\n      <td>True</td>\n      <td>2019-12-05</td>\n    </tr>\n    <tr>\n      <th>2019-12-07</th>\n      <td>2019-12-07</td>\n      <td>False</td>\n      <td>2019-12-06</td>\n    </tr>\n    <tr>\n      <th>2019-12-08</th>\n      <td>2019-12-08</td>\n      <td>False</td>\n      <td>2019-12-06</td>\n    </tr>\n    <tr>\n      <th>2019-12-09</th>\n      <td>2019-12-09</td>\n      <td>True</td>\n      <td>2019-12-06</td>\n    </tr>\n    <tr>\n      <th>2019-12-10</th>\n      <td>2019-12-10</td>\n      <td>True</td>\n      <td>2019-12-09</td>\n    </tr>\n    <tr>\n      <th>2019-12-11</th>\n      <td>2019-12-11</td>\n      <td>True</td>\n      <td>2019-12-10</td>\n    </tr>\n    <tr>\n      <th>2019-12-12</th>\n      <td>2019-12-12</td>\n      <td>True</td>\n      <td>2019-12-11</td>\n    </tr>\n    <tr>\n      <th>2019-12-13</th>\n      <td>2019-12-13</td>\n      <td>True</td>\n      <td>2019-12-12</td>\n    </tr>\n    <tr>\n      <th>2019-12-14</th>\n      <td>2019-12-14</td>\n      <td>False</td>\n      <td>2019-12-13</td>\n    </tr>\n    <tr>\n      <th>2019-12-15</th>\n      <td>2019-12-15</td>\n      <td>False</td>\n      <td>2019-12-13</td>\n    </tr>\n    <tr>\n      <th>2019-12-16</th>\n      <td>2019-12-16</td>\n      <td>True</td>\n      <td>2019-12-13</td>\n    </tr>\n    <tr>\n      <th>2019-12-17</th>\n      <td>2019-12-17</td>\n      <td>True</td>\n      <td>2019-12-16</td>\n    </tr>\n    <tr>\n      <th>2019-12-18</th>\n      <td>2019-12-18</td>\n      <td>True</td>\n      <td>2019-12-17</td>\n    </tr>\n    <tr>\n      <th>2019-12-19</th>\n      <td>2019-12-19</td>\n      <td>True</td>\n      <td>2019-12-18</td>\n    </tr>\n    <tr>\n      <th>2019-12-20</th>\n      <td>2019-12-20</td>\n      <td>True</td>\n      <td>2019-12-19</td>\n    </tr>\n    <tr>\n      <th>2019-12-21</th>\n      <td>2019-12-21</td>\n      <td>False</td>\n      <td>2019-12-20</td>\n    </tr>\n    <tr>\n      <th>2019-12-22</th>\n      <td>2019-12-22</td>\n      <td>False</td>\n      <td>2019-12-20</td>\n    </tr>\n    <tr>\n      <th>2019-12-23</th>\n      <td>2019-12-23</td>\n      <td>True</td>\n      <td>2019-12-20</td>\n    </tr>\n    <tr>\n      <th>2019-12-24</th>\n      <td>2019-12-24</td>\n      <td>True</td>\n      <td>2019-12-23</td>\n    </tr>\n    <tr>\n      <th>2019-12-25</th>\n      <td>2019-12-25</td>\n      <td>True</td>\n      <td>2019-12-24</td>\n    </tr>\n    <tr>\n      <th>2019-12-26</th>\n      <td>2019-12-26</td>\n      <td>True</td>\n      <td>2019-12-25</td>\n    </tr>\n    <tr>\n      <th>2019-12-27</th>\n      <td>2019-12-27</td>\n      <td>True</td>\n      <td>2019-12-26</td>\n    </tr>\n    <tr>\n      <th>2019-12-28</th>\n      <td>2019-12-28</td>\n      <td>False</td>\n      <td>2019-12-27</td>\n    </tr>\n    <tr>\n      <th>2019-12-29</th>\n      <td>2019-12-29</td>\n      <td>False</td>\n      <td>2019-12-27</td>\n    </tr>\n    <tr>\n      <th>2019-12-30</th>\n      <td>2019-12-30</td>\n      <td>True</td>\n      <td>2019-12-27</td>\n    </tr>\n    <tr>\n      <th>2019-12-31</th>\n      <td>2019-12-31</td>\n      <td>True</td>\n      <td>2019-12-30</td>\n    </tr>\n  </tbody>\n</table>\n<p>7305 rows × 3 columns</p>\n</div>"
     },
     "metadata": {},
     "output_type": "execute_result",
     "execution_count": 30
    }
   ],
   "source": [
    "df = StockData().trade_calendar.dataframe\n",
    "df"
   ],
   "metadata": {
    "collapsed": false,
    "pycharm": {
     "name": "#%%\n",
     "is_executing": false
    }
   }
  },
  {
   "cell_type": "code",
   "execution_count": 40,
   "outputs": [
    {
     "data": {
      "text/plain": "datetime.date(2019, 9, 19)"
     },
     "metadata": {},
     "output_type": "execute_result",
     "execution_count": 40
    }
   ],
   "source": [
    "df.iloc[-1].loc['cal_date']\n",
    "\n",
    "a = date.today()\n",
    "b = a + timedelta(days = -1)\n",
    "\n",
    "min(b, a)"
   ],
   "metadata": {
    "collapsed": false,
    "pycharm": {
     "name": "#%%\n",
     "is_executing": false
    }
   }
  }
 ],
 "metadata": {
  "kernelspec": {
   "display_name": "Python 3",
   "language": "python",
   "name": "python3"
  },
  "language_info": {
   "codemirror_mode": {
    "name": "ipython",
    "version": 2
   },
   "file_extension": ".py",
   "mimetype": "text/x-python",
   "name": "python",
   "nbconvert_exporter": "python",
   "pygments_lexer": "ipython2",
   "version": "2.7.6"
  },
  "pycharm": {
   "stem_cell": {
    "cell_type": "raw",
    "source": [],
    "metadata": {
     "collapsed": false
    }
   }
  }
 },
 "nbformat": 4,
 "nbformat_minor": 0
}