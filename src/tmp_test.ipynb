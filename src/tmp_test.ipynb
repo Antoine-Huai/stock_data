{
 "cells": [
  {
   "cell_type": "code",
   "execution_count": 1,
   "metadata": {
    "collapsed": true,
    "pycharm": {
     "is_executing": false
    }
   },
   "outputs": [
    {
     "name": "stdout",
     "text": [
      "login success!\nbaostock login => error_code: 0 error_msg: success\n\n"
     ],
     "output_type": "stream"
    },
    {
     "name": "stderr",
     "text": [
      "/Users/kk/miniconda3/envs/quant/lib/python3.7/site-packages/tushare/util/upass.py:28: FutureWarning:\n\n\n.ix is deprecated. Please use\n.loc for label based indexing or\n.iloc for positional indexing\n\nSee the documentation here:\nhttp://pandas.pydata.org/pandas-docs/stable/user_guide/indexing.html#ix-indexer-is-deprecated\n\n"
     ],
     "output_type": "stream"
    },
    {
     "data": {
      "text/plain": "<sz.stock_data.stock_data.StockData at 0x120e4a390>"
     },
     "metadata": {},
     "output_type": "execute_result",
     "execution_count": 1
    }
   ],
   "source": [
    "import tushare as ts\n",
    "import plotly.graph_objects as go\n",
    "import plotly.io as pio\n",
    "import plotly.express as px\n",
    "import pandas as pd\n",
    "import numpy as np\n",
    "import baostock as bao\n",
    "from baostock.data.resultset import ResultData\n",
    "import baostock.common.contants as bao_consts\n",
    "from pandas import Timestamp\n",
    "from sz.stock_data.toolbox.data_provider import ts_code\n",
    "from datetime import date, datetime, timedelta\n",
    "\n",
    "ts.set_token('f96b1eeee9c8fddd357f2299cdedc1c88b2bb2a30ae1f772cf810dea')\n",
    "ts_api = ts.pro_api()\n",
    "\n",
    "blg = bao.login()\n",
    "print('baostock login => error_code: %s error_msg: %s\\n' %\n",
    "      (blg.error_code, blg.error_msg))\n",
    "\n",
    "from sz.stock_data.stock_data import StockData\n",
    "StockData().setup(data_dir = '/Volumes/USBDATA/stock_data')\n"
   ]
  },
  {
   "cell_type": "code",
   "execution_count": 2,
   "outputs": [],
   "source": [
    "df = StockData().trade_calendar.dataframe\n",
    "df_trade = df[df['is_open'] == True]"
   ],
   "metadata": {
    "collapsed": false,
    "pycharm": {
     "name": "#%%\n",
     "is_executing": false
    }
   }
  },
  {
   "cell_type": "code",
   "execution_count": 3,
   "outputs": [
    {
     "data": {
      "text/plain": "             cal_date  is_open pretrade_date\ncal_date                                    \n2000-01-04 2000-01-04     True    1999-12-30\n2000-01-05 2000-01-05     True    2000-01-04\n2000-01-06 2000-01-06     True    2000-01-05\n2000-01-07 2000-01-07     True    2000-01-06\n2000-01-10 2000-01-10     True    2000-01-07\n2000-01-11 2000-01-11     True    2000-01-10\n2000-01-12 2000-01-12     True    2000-01-11\n2000-01-13 2000-01-13     True    2000-01-12\n2000-01-14 2000-01-14     True    2000-01-13\n2000-01-17 2000-01-17     True    2000-01-14",
      "text/html": "<div>\n<style scoped>\n    .dataframe tbody tr th:only-of-type {\n        vertical-align: middle;\n    }\n\n    .dataframe tbody tr th {\n        vertical-align: top;\n    }\n\n    .dataframe thead th {\n        text-align: right;\n    }\n</style>\n<table border=\"1\" class=\"dataframe\">\n  <thead>\n    <tr style=\"text-align: right;\">\n      <th></th>\n      <th>cal_date</th>\n      <th>is_open</th>\n      <th>pretrade_date</th>\n    </tr>\n    <tr>\n      <th>cal_date</th>\n      <th></th>\n      <th></th>\n      <th></th>\n    </tr>\n  </thead>\n  <tbody>\n    <tr>\n      <th>2000-01-04</th>\n      <td>2000-01-04</td>\n      <td>True</td>\n      <td>1999-12-30</td>\n    </tr>\n    <tr>\n      <th>2000-01-05</th>\n      <td>2000-01-05</td>\n      <td>True</td>\n      <td>2000-01-04</td>\n    </tr>\n    <tr>\n      <th>2000-01-06</th>\n      <td>2000-01-06</td>\n      <td>True</td>\n      <td>2000-01-05</td>\n    </tr>\n    <tr>\n      <th>2000-01-07</th>\n      <td>2000-01-07</td>\n      <td>True</td>\n      <td>2000-01-06</td>\n    </tr>\n    <tr>\n      <th>2000-01-10</th>\n      <td>2000-01-10</td>\n      <td>True</td>\n      <td>2000-01-07</td>\n    </tr>\n    <tr>\n      <th>2000-01-11</th>\n      <td>2000-01-11</td>\n      <td>True</td>\n      <td>2000-01-10</td>\n    </tr>\n    <tr>\n      <th>2000-01-12</th>\n      <td>2000-01-12</td>\n      <td>True</td>\n      <td>2000-01-11</td>\n    </tr>\n    <tr>\n      <th>2000-01-13</th>\n      <td>2000-01-13</td>\n      <td>True</td>\n      <td>2000-01-12</td>\n    </tr>\n    <tr>\n      <th>2000-01-14</th>\n      <td>2000-01-14</td>\n      <td>True</td>\n      <td>2000-01-13</td>\n    </tr>\n    <tr>\n      <th>2000-01-17</th>\n      <td>2000-01-17</td>\n      <td>True</td>\n      <td>2000-01-14</td>\n    </tr>\n  </tbody>\n</table>\n</div>"
     },
     "metadata": {},
     "output_type": "execute_result",
     "execution_count": 3
    }
   ],
   "source": [
    "df_trade.head(10)\n"
   ],
   "metadata": {
    "collapsed": false,
    "pycharm": {
     "name": "#%%\n",
     "is_executing": false
    }
   }
  },
  {
   "cell_type": "code",
   "execution_count": 5,
   "outputs": [
    {
     "data": {
      "text/plain": "datetime.date(2019, 9, 20)"
     },
     "metadata": {},
     "output_type": "execute_result",
     "execution_count": 5
    }
   ],
   "source": [
    "StockData().trade_calendar.next_n_trade_day(datetime.strptime('2019-12-30', '%Y-%m-%d').date(), 5, date.today())"
   ],
   "metadata": {
    "collapsed": false,
    "pycharm": {
     "name": "#%%\n",
     "is_executing": false
    }
   }
  },
  {
   "cell_type": "code",
   "execution_count": 18,
   "outputs": [
    {
     "data": {
      "text/plain": "         date               time       code     open     high      low  \\\n0  2019-09-19  20190919093500000  sh.600000  12.0000  12.0000  11.9600   \n1  2019-09-19  20190919094000000  sh.600000  11.9700  11.9800  11.9400   \n2  2019-09-19  20190919094500000  sh.600000  11.9800  11.9900  11.9500   \n3  2019-09-19  20190919095000000  sh.600000  11.9600  11.9700  11.9300   \n4  2019-09-19  20190919095500000  sh.600000  11.9300  11.9600  11.9200   \n\n     close   volume         amount adjustflag  \n0  11.9700  1362500  16329865.0000          3  \n1  11.9800   869273  10401526.0000          3  \n2  11.9600   426343   5103490.0000          3  \n3  11.9400   456457   5454719.0000          3  \n4  11.9500   487715   5820830.0000          3  ",
      "text/html": "<div>\n<style scoped>\n    .dataframe tbody tr th:only-of-type {\n        vertical-align: middle;\n    }\n\n    .dataframe tbody tr th {\n        vertical-align: top;\n    }\n\n    .dataframe thead th {\n        text-align: right;\n    }\n</style>\n<table border=\"1\" class=\"dataframe\">\n  <thead>\n    <tr style=\"text-align: right;\">\n      <th></th>\n      <th>date</th>\n      <th>time</th>\n      <th>code</th>\n      <th>open</th>\n      <th>high</th>\n      <th>low</th>\n      <th>close</th>\n      <th>volume</th>\n      <th>amount</th>\n      <th>adjustflag</th>\n    </tr>\n  </thead>\n  <tbody>\n    <tr>\n      <th>0</th>\n      <td>2019-09-19</td>\n      <td>20190919093500000</td>\n      <td>sh.600000</td>\n      <td>12.0000</td>\n      <td>12.0000</td>\n      <td>11.9600</td>\n      <td>11.9700</td>\n      <td>1362500</td>\n      <td>16329865.0000</td>\n      <td>3</td>\n    </tr>\n    <tr>\n      <th>1</th>\n      <td>2019-09-19</td>\n      <td>20190919094000000</td>\n      <td>sh.600000</td>\n      <td>11.9700</td>\n      <td>11.9800</td>\n      <td>11.9400</td>\n      <td>11.9800</td>\n      <td>869273</td>\n      <td>10401526.0000</td>\n      <td>3</td>\n    </tr>\n    <tr>\n      <th>2</th>\n      <td>2019-09-19</td>\n      <td>20190919094500000</td>\n      <td>sh.600000</td>\n      <td>11.9800</td>\n      <td>11.9900</td>\n      <td>11.9500</td>\n      <td>11.9600</td>\n      <td>426343</td>\n      <td>5103490.0000</td>\n      <td>3</td>\n    </tr>\n    <tr>\n      <th>3</th>\n      <td>2019-09-19</td>\n      <td>20190919095000000</td>\n      <td>sh.600000</td>\n      <td>11.9600</td>\n      <td>11.9700</td>\n      <td>11.9300</td>\n      <td>11.9400</td>\n      <td>456457</td>\n      <td>5454719.0000</td>\n      <td>3</td>\n    </tr>\n    <tr>\n      <th>4</th>\n      <td>2019-09-19</td>\n      <td>20190919095500000</td>\n      <td>sh.600000</td>\n      <td>11.9300</td>\n      <td>11.9600</td>\n      <td>11.9200</td>\n      <td>11.9500</td>\n      <td>487715</td>\n      <td>5820830.0000</td>\n      <td>3</td>\n    </tr>\n  </tbody>\n</table>\n</div>"
     },
     "metadata": {},
     "output_type": "execute_result",
     "execution_count": 18
    }
   ],
   "source": [
    "df_5min = bao.query_history_k_data_plus(\n",
    "    code = \"sh.600000\",\n",
    "    fields = \"date,time,code,open,high,low,close,volume,amount,adjustflag\",\n",
    "    start_date='2019-09-19', \n",
    "    end_date='2019-09-20',\n",
    "    frequency=\"5\", \n",
    "    adjustflag=\"3\"\n",
    ").get_data()\n",
    "\n",
    "df_5min.head(5)\n"
   ],
   "metadata": {
    "collapsed": false,
    "pycharm": {
     "name": "#%%\n",
     "is_executing": false
    }
   }
  },
  {
   "cell_type": "code",
   "execution_count": 12,
   "outputs": [
    {
     "data": {
      "text/plain": "date          object\ntime          object\ncode          object\nopen          object\nhigh          object\nlow           object\nclose         object\nvolume        object\namount        object\nadjustflag    object\ndtype: object"
     },
     "metadata": {},
     "output_type": "execute_result",
     "execution_count": 12
    }
   ],
   "source": [
    "df_5min.dtypes"
   ],
   "metadata": {
    "collapsed": false,
    "pycharm": {
     "name": "#%%\n",
     "is_executing": false
    }
   }
  },
  {
   "cell_type": "code",
   "execution_count": 19,
   "outputs": [
    {
     "data": {
      "text/plain": "        date                time       code   open   high    low  close  \\\n0 2019-09-19 2019-09-19 09:35:00  600000.SH  12.00  12.00  11.96  11.97   \n1 2019-09-19 2019-09-19 09:40:00  600000.SH  11.97  11.98  11.94  11.98   \n2 2019-09-19 2019-09-19 09:45:00  600000.SH  11.98  11.99  11.95  11.96   \n3 2019-09-19 2019-09-19 09:50:00  600000.SH  11.96  11.97  11.93  11.94   \n4 2019-09-19 2019-09-19 09:55:00  600000.SH  11.93  11.96  11.92  11.95   \n\n      volume      amount adjustflag  \n0  1362500.0  16329865.0          3  \n1   869273.0  10401526.0          3  \n2   426343.0   5103490.0          3  \n3   456457.0   5454719.0          3  \n4   487715.0   5820830.0          3  ",
      "text/html": "<div>\n<style scoped>\n    .dataframe tbody tr th:only-of-type {\n        vertical-align: middle;\n    }\n\n    .dataframe tbody tr th {\n        vertical-align: top;\n    }\n\n    .dataframe thead th {\n        text-align: right;\n    }\n</style>\n<table border=\"1\" class=\"dataframe\">\n  <thead>\n    <tr style=\"text-align: right;\">\n      <th></th>\n      <th>date</th>\n      <th>time</th>\n      <th>code</th>\n      <th>open</th>\n      <th>high</th>\n      <th>low</th>\n      <th>close</th>\n      <th>volume</th>\n      <th>amount</th>\n      <th>adjustflag</th>\n    </tr>\n  </thead>\n  <tbody>\n    <tr>\n      <th>0</th>\n      <td>2019-09-19</td>\n      <td>2019-09-19 09:35:00</td>\n      <td>600000.SH</td>\n      <td>12.00</td>\n      <td>12.00</td>\n      <td>11.96</td>\n      <td>11.97</td>\n      <td>1362500.0</td>\n      <td>16329865.0</td>\n      <td>3</td>\n    </tr>\n    <tr>\n      <th>1</th>\n      <td>2019-09-19</td>\n      <td>2019-09-19 09:40:00</td>\n      <td>600000.SH</td>\n      <td>11.97</td>\n      <td>11.98</td>\n      <td>11.94</td>\n      <td>11.98</td>\n      <td>869273.0</td>\n      <td>10401526.0</td>\n      <td>3</td>\n    </tr>\n    <tr>\n      <th>2</th>\n      <td>2019-09-19</td>\n      <td>2019-09-19 09:45:00</td>\n      <td>600000.SH</td>\n      <td>11.98</td>\n      <td>11.99</td>\n      <td>11.95</td>\n      <td>11.96</td>\n      <td>426343.0</td>\n      <td>5103490.0</td>\n      <td>3</td>\n    </tr>\n    <tr>\n      <th>3</th>\n      <td>2019-09-19</td>\n      <td>2019-09-19 09:50:00</td>\n      <td>600000.SH</td>\n      <td>11.96</td>\n      <td>11.97</td>\n      <td>11.93</td>\n      <td>11.94</td>\n      <td>456457.0</td>\n      <td>5454719.0</td>\n      <td>3</td>\n    </tr>\n    <tr>\n      <th>4</th>\n      <td>2019-09-19</td>\n      <td>2019-09-19 09:55:00</td>\n      <td>600000.SH</td>\n      <td>11.93</td>\n      <td>11.96</td>\n      <td>11.92</td>\n      <td>11.95</td>\n      <td>487715.0</td>\n      <td>5820830.0</td>\n      <td>3</td>\n    </tr>\n  </tbody>\n</table>\n</div>"
     },
     "metadata": {},
     "output_type": "execute_result",
     "execution_count": 19
    }
   ],
   "source": [
    "df_5min['date'] = pd.to_datetime(df_5min['date'], format = '%Y-%m-%d')\n",
    "df_5min['time'] = df_5min['time'].apply(lambda x: pd.to_datetime(x[:-3], format = '%Y%m%d%H%M%S'))\n",
    "df_5min['open'] = df_5min['open'].astype(np.float64)\n",
    "df_5min['high'] = df_5min['high'].astype(np.float64)\n",
    "df_5min['low'] = df_5min['low'].astype(np.float64)\n",
    "df_5min['close'] = df_5min['close'].astype(np.float64)\n",
    "\n",
    "df_5min['volume'] = df_5min['volume'].astype(np.float64)\n",
    "df_5min['amount'] = df_5min['amount'].astype(np.float64)\n",
    "df_5min['code'] = df_5min['code'].apply(lambda x: ts_code(x))\n",
    "\n",
    "df_5min.head(5)"
   ],
   "metadata": {
    "collapsed": false,
    "pycharm": {
     "name": "#%%\n",
     "is_executing": false
    }
   }
  },
  {
   "cell_type": "code",
   "execution_count": 20,
   "outputs": [
    {
     "data": {
      "text/plain": "date          datetime64[ns]\ntime          datetime64[ns]\ncode                  object\nopen                 float64\nhigh                 float64\nlow                  float64\nclose                float64\nvolume               float64\namount               float64\nadjustflag            object\ndtype: object"
     },
     "metadata": {},
     "output_type": "execute_result",
     "execution_count": 20
    }
   ],
   "source": [
    "df_5min.dtypes\n"
   ],
   "metadata": {
    "collapsed": false,
    "pycharm": {
     "name": "#%%\n",
     "is_executing": false
    }
   }
  },
  {
   "cell_type": "code",
   "execution_count": 25,
   "outputs": [
    {
     "name": "stdout",
     "text": [
      "today is: 2019-09-21\n"
     ],
     "output_type": "stream"
    }
   ],
   "source": [
    "today = date.today()\n",
    "print('today is: %s' % today)"
   ],
   "metadata": {
    "collapsed": false,
    "pycharm": {
     "name": "#%%\n",
     "is_executing": false
    }
   }
  }
 ],
 "metadata": {
  "kernelspec": {
   "display_name": "Python 3",
   "language": "python",
   "name": "python3"
  },
  "language_info": {
   "codemirror_mode": {
    "name": "ipython",
    "version": 2
   },
   "file_extension": ".py",
   "mimetype": "text/x-python",
   "name": "python",
   "nbconvert_exporter": "python",
   "pygments_lexer": "ipython2",
   "version": "2.7.6"
  },
  "pycharm": {
   "stem_cell": {
    "cell_type": "raw",
    "source": [],
    "metadata": {
     "collapsed": false
    }
   }
  }
 },
 "nbformat": 4,
 "nbformat_minor": 0
}