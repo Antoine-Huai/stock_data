{
 "cells": [
  {
   "cell_type": "code",
   "execution_count": 1,
   "metadata": {
    "collapsed": true,
    "pycharm": {
     "is_executing": false
    }
   },
   "outputs": [
    {
     "name": "stdout",
     "text": [
      "login success!\nbaostock login => error_code: 0 error_msg: success\n\n"
     ],
     "output_type": "stream"
    },
    {
     "name": "stderr",
     "text": [
      "/Users/kk/miniconda3/envs/quant/lib/python3.7/site-packages/tushare/util/upass.py:28: FutureWarning:\n\n\n.ix is deprecated. Please use\n.loc for label based indexing or\n.iloc for positional indexing\n\nSee the documentation here:\nhttp://pandas.pydata.org/pandas-docs/stable/user_guide/indexing.html#ix-indexer-is-deprecated\n\n"
     ],
     "output_type": "stream"
    },
    {
     "data": {
      "text/plain": "<sz.stock_data.stock_data.StockData at 0x124d382b0>"
     },
     "metadata": {},
     "output_type": "execute_result",
     "execution_count": 1
    }
   ],
   "source": [
    "import tushare as ts\n",
    "import plotly.graph_objects as go\n",
    "import plotly.io as pio\n",
    "import plotly.express as px\n",
    "import pandas as pd\n",
    "import numpy as np\n",
    "import baostock as bao\n",
    "from baostock.data.resultset import ResultData\n",
    "import baostock.common.contants as bao_consts\n",
    "from pandas import Timestamp\n",
    "from sz.stock_data.toolbox.data_provider import ts_code\n",
    "from datetime import date, datetime, timedelta\n",
    "\n",
    "ts.set_token('f96b1eeee9c8fddd357f2299cdedc1c88b2bb2a30ae1f772cf810dea')\n",
    "ts_api = ts.pro_api()\n",
    "\n",
    "blg = bao.login()\n",
    "print('baostock login => error_code: %s error_msg: %s\\n' %\n",
    "      (blg.error_code, blg.error_msg))\n",
    "\n",
    "from sz.stock_data.stock_data import StockData\n",
    "StockData().setup(data_dir = '/Volumes/USBDATA/stock_data')\n"
   ]
  },
  {
   "cell_type": "code",
   "execution_count": 2,
   "outputs": [],
   "source": [
    "df_industry = bao.query_stock_industry().get_data()"
   ],
   "metadata": {
    "collapsed": false,
    "pycharm": {
     "name": "#%%\n",
     "is_executing": false
    }
   }
  },
  {
   "cell_type": "code",
   "execution_count": 4,
   "outputs": [
    {
     "data": {
      "text/plain": "      updateDate       code code_name industry industryClassification\n0     2019-09-23  sh.600000      浦发银行       银行                 申万一级行业\n1     2019-09-23  sh.600001      邯郸钢铁                          申万一级行业\n2     2019-09-23  sh.600002      齐鲁石化                          申万一级行业\n3     2019-09-23  sh.600003     ST东北高                          申万一级行业\n4     2019-09-23  sh.600004      白云机场     交通运输                 申万一级行业\n...          ...        ...       ...      ...                    ...\n3785  2019-09-23  sz.300786      国林环保     机械设备                 申万一级行业\n3786  2019-09-23  sz.300787      海能实业       电子                 申万一级行业\n3787  2019-09-23  sz.300788      中信出版       传媒                 申万一级行业\n3788  2019-09-23  sz.300789      唐源电气      计算机                 申万一级行业\n3789  2019-09-23  sz.300790      宇瞳光学       电子                 申万一级行业\n\n[3790 rows x 5 columns]",
      "text/html": "<div>\n<style scoped>\n    .dataframe tbody tr th:only-of-type {\n        vertical-align: middle;\n    }\n\n    .dataframe tbody tr th {\n        vertical-align: top;\n    }\n\n    .dataframe thead th {\n        text-align: right;\n    }\n</style>\n<table border=\"1\" class=\"dataframe\">\n  <thead>\n    <tr style=\"text-align: right;\">\n      <th></th>\n      <th>updateDate</th>\n      <th>code</th>\n      <th>code_name</th>\n      <th>industry</th>\n      <th>industryClassification</th>\n    </tr>\n  </thead>\n  <tbody>\n    <tr>\n      <th>0</th>\n      <td>2019-09-23</td>\n      <td>sh.600000</td>\n      <td>浦发银行</td>\n      <td>银行</td>\n      <td>申万一级行业</td>\n    </tr>\n    <tr>\n      <th>1</th>\n      <td>2019-09-23</td>\n      <td>sh.600001</td>\n      <td>邯郸钢铁</td>\n      <td></td>\n      <td>申万一级行业</td>\n    </tr>\n    <tr>\n      <th>2</th>\n      <td>2019-09-23</td>\n      <td>sh.600002</td>\n      <td>齐鲁石化</td>\n      <td></td>\n      <td>申万一级行业</td>\n    </tr>\n    <tr>\n      <th>3</th>\n      <td>2019-09-23</td>\n      <td>sh.600003</td>\n      <td>ST东北高</td>\n      <td></td>\n      <td>申万一级行业</td>\n    </tr>\n    <tr>\n      <th>4</th>\n      <td>2019-09-23</td>\n      <td>sh.600004</td>\n      <td>白云机场</td>\n      <td>交通运输</td>\n      <td>申万一级行业</td>\n    </tr>\n    <tr>\n      <th>5</th>\n      <td>2019-09-23</td>\n      <td>sh.600005</td>\n      <td>武钢股份</td>\n      <td></td>\n      <td>申万一级行业</td>\n    </tr>\n    <tr>\n      <th>6</th>\n      <td>2019-09-23</td>\n      <td>sh.600006</td>\n      <td>东风汽车</td>\n      <td>汽车</td>\n      <td>申万一级行业</td>\n    </tr>\n    <tr>\n      <th>7</th>\n      <td>2019-09-23</td>\n      <td>sh.600007</td>\n      <td>中国国贸</td>\n      <td>房地产</td>\n      <td>申万一级行业</td>\n    </tr>\n    <tr>\n      <th>8</th>\n      <td>2019-09-23</td>\n      <td>sh.600008</td>\n      <td>首创股份</td>\n      <td>公用事业</td>\n      <td>申万一级行业</td>\n    </tr>\n    <tr>\n      <th>9</th>\n      <td>2019-09-23</td>\n      <td>sh.600009</td>\n      <td>上海机场</td>\n      <td>交通运输</td>\n      <td>申万一级行业</td>\n    </tr>\n    <tr>\n      <th>10</th>\n      <td>2019-09-23</td>\n      <td>sh.600010</td>\n      <td>包钢股份</td>\n      <td>钢铁</td>\n      <td>申万一级行业</td>\n    </tr>\n    <tr>\n      <th>11</th>\n      <td>2019-09-23</td>\n      <td>sh.600011</td>\n      <td>华能国际</td>\n      <td>公用事业</td>\n      <td>申万一级行业</td>\n    </tr>\n    <tr>\n      <th>12</th>\n      <td>2019-09-23</td>\n      <td>sh.600012</td>\n      <td>皖通高速</td>\n      <td>交通运输</td>\n      <td>申万一级行业</td>\n    </tr>\n    <tr>\n      <th>13</th>\n      <td>2019-09-23</td>\n      <td>sh.600015</td>\n      <td>华夏银行</td>\n      <td>银行</td>\n      <td>申万一级行业</td>\n    </tr>\n    <tr>\n      <th>14</th>\n      <td>2019-09-23</td>\n      <td>sh.600016</td>\n      <td>民生银行</td>\n      <td>银行</td>\n      <td>申万一级行业</td>\n    </tr>\n    <tr>\n      <th>15</th>\n      <td>2019-09-23</td>\n      <td>sh.600017</td>\n      <td>日照港</td>\n      <td>交通运输</td>\n      <td>申万一级行业</td>\n    </tr>\n    <tr>\n      <th>16</th>\n      <td>2019-09-23</td>\n      <td>sh.600018</td>\n      <td>上港集团</td>\n      <td>交通运输</td>\n      <td>申万一级行业</td>\n    </tr>\n    <tr>\n      <th>17</th>\n      <td>2019-09-23</td>\n      <td>sh.600019</td>\n      <td>宝钢股份</td>\n      <td>钢铁</td>\n      <td>申万一级行业</td>\n    </tr>\n    <tr>\n      <th>18</th>\n      <td>2019-09-23</td>\n      <td>sh.600020</td>\n      <td>中原高速</td>\n      <td>交通运输</td>\n      <td>申万一级行业</td>\n    </tr>\n    <tr>\n      <th>19</th>\n      <td>2019-09-23</td>\n      <td>sh.600021</td>\n      <td>上海电力</td>\n      <td>公用事业</td>\n      <td>申万一级行业</td>\n    </tr>\n    <tr>\n      <th>20</th>\n      <td>2019-09-23</td>\n      <td>sh.600022</td>\n      <td>山东钢铁</td>\n      <td>钢铁</td>\n      <td>申万一级行业</td>\n    </tr>\n    <tr>\n      <th>21</th>\n      <td>2019-09-23</td>\n      <td>sh.600023</td>\n      <td>浙能电力</td>\n      <td>公用事业</td>\n      <td>申万一级行业</td>\n    </tr>\n    <tr>\n      <th>22</th>\n      <td>2019-09-23</td>\n      <td>sh.600025</td>\n      <td>华能水电</td>\n      <td>公用事业</td>\n      <td>申万一级行业</td>\n    </tr>\n    <tr>\n      <th>23</th>\n      <td>2019-09-23</td>\n      <td>sh.600026</td>\n      <td>中远海能</td>\n      <td>交通运输</td>\n      <td>申万一级行业</td>\n    </tr>\n    <tr>\n      <th>24</th>\n      <td>2019-09-23</td>\n      <td>sh.600027</td>\n      <td>华电国际</td>\n      <td>公用事业</td>\n      <td>申万一级行业</td>\n    </tr>\n    <tr>\n      <th>25</th>\n      <td>2019-09-23</td>\n      <td>sh.600028</td>\n      <td>中国石化</td>\n      <td>化工</td>\n      <td>申万一级行业</td>\n    </tr>\n    <tr>\n      <th>26</th>\n      <td>2019-09-23</td>\n      <td>sh.600029</td>\n      <td>南方航空</td>\n      <td>交通运输</td>\n      <td>申万一级行业</td>\n    </tr>\n    <tr>\n      <th>27</th>\n      <td>2019-09-23</td>\n      <td>sh.600030</td>\n      <td>中信证券</td>\n      <td>非银金融</td>\n      <td>申万一级行业</td>\n    </tr>\n    <tr>\n      <th>28</th>\n      <td>2019-09-23</td>\n      <td>sh.600031</td>\n      <td>三一重工</td>\n      <td>机械设备</td>\n      <td>申万一级行业</td>\n    </tr>\n    <tr>\n      <th>29</th>\n      <td>2019-09-23</td>\n      <td>sh.600033</td>\n      <td>福建高速</td>\n      <td>交通运输</td>\n      <td>申万一级行业</td>\n    </tr>\n    <tr>\n      <th>...</th>\n      <td>...</td>\n      <td>...</td>\n      <td>...</td>\n      <td>...</td>\n      <td>...</td>\n    </tr>\n    <tr>\n      <th>3760</th>\n      <td>2019-09-23</td>\n      <td>sz.300758</td>\n      <td>七彩化学</td>\n      <td>化工</td>\n      <td>申万一级行业</td>\n    </tr>\n    <tr>\n      <th>3761</th>\n      <td>2019-09-23</td>\n      <td>sz.300759</td>\n      <td>康龙化成</td>\n      <td>医药生物</td>\n      <td>申万一级行业</td>\n    </tr>\n    <tr>\n      <th>3762</th>\n      <td>2019-09-23</td>\n      <td>sz.300760</td>\n      <td>迈瑞医疗</td>\n      <td>医药生物</td>\n      <td>申万一级行业</td>\n    </tr>\n    <tr>\n      <th>3763</th>\n      <td>2019-09-23</td>\n      <td>sz.300761</td>\n      <td>立华股份</td>\n      <td>农林牧渔</td>\n      <td>申万一级行业</td>\n    </tr>\n    <tr>\n      <th>3764</th>\n      <td>2019-09-23</td>\n      <td>sz.300762</td>\n      <td>上海瀚讯</td>\n      <td>国防军工</td>\n      <td>申万一级行业</td>\n    </tr>\n    <tr>\n      <th>3765</th>\n      <td>2019-09-23</td>\n      <td>sz.300763</td>\n      <td>锦浪科技</td>\n      <td>电气设备</td>\n      <td>申万一级行业</td>\n    </tr>\n    <tr>\n      <th>3766</th>\n      <td>2019-09-23</td>\n      <td>sz.300765</td>\n      <td>新诺威</td>\n      <td>医药生物</td>\n      <td>申万一级行业</td>\n    </tr>\n    <tr>\n      <th>3767</th>\n      <td>2019-09-23</td>\n      <td>sz.300766</td>\n      <td>每日互动</td>\n      <td>计算机</td>\n      <td>申万一级行业</td>\n    </tr>\n    <tr>\n      <th>3768</th>\n      <td>2019-09-23</td>\n      <td>sz.300767</td>\n      <td>震安科技</td>\n      <td>化工</td>\n      <td>申万一级行业</td>\n    </tr>\n    <tr>\n      <th>3769</th>\n      <td>2019-09-23</td>\n      <td>sz.300768</td>\n      <td>迪普科技</td>\n      <td>计算机</td>\n      <td>申万一级行业</td>\n    </tr>\n    <tr>\n      <th>3770</th>\n      <td>2019-09-23</td>\n      <td>sz.300769</td>\n      <td>德方纳米</td>\n      <td>化工</td>\n      <td>申万一级行业</td>\n    </tr>\n    <tr>\n      <th>3771</th>\n      <td>2019-09-23</td>\n      <td>sz.300770</td>\n      <td>新媒股份</td>\n      <td>传媒</td>\n      <td>申万一级行业</td>\n    </tr>\n    <tr>\n      <th>3772</th>\n      <td>2019-09-23</td>\n      <td>sz.300771</td>\n      <td>智莱科技</td>\n      <td>计算机</td>\n      <td>申万一级行业</td>\n    </tr>\n    <tr>\n      <th>3773</th>\n      <td>2019-09-23</td>\n      <td>sz.300772</td>\n      <td>运达股份</td>\n      <td>电气设备</td>\n      <td>申万一级行业</td>\n    </tr>\n    <tr>\n      <th>3774</th>\n      <td>2019-09-23</td>\n      <td>sz.300773</td>\n      <td>拉卡拉</td>\n      <td>计算机</td>\n      <td>申万一级行业</td>\n    </tr>\n    <tr>\n      <th>3775</th>\n      <td>2019-09-23</td>\n      <td>sz.300775</td>\n      <td>三角防务</td>\n      <td>国防军工</td>\n      <td>申万一级行业</td>\n    </tr>\n    <tr>\n      <th>3776</th>\n      <td>2019-09-23</td>\n      <td>sz.300776</td>\n      <td>帝尔激光</td>\n      <td>机械设备</td>\n      <td>申万一级行业</td>\n    </tr>\n    <tr>\n      <th>3777</th>\n      <td>2019-09-23</td>\n      <td>sz.300777</td>\n      <td>中简科技</td>\n      <td>化工</td>\n      <td>申万一级行业</td>\n    </tr>\n    <tr>\n      <th>3778</th>\n      <td>2019-09-23</td>\n      <td>sz.300778</td>\n      <td>新城市</td>\n      <td>建筑装饰</td>\n      <td>申万一级行业</td>\n    </tr>\n    <tr>\n      <th>3779</th>\n      <td>2019-09-23</td>\n      <td>sz.300779</td>\n      <td>惠城环保</td>\n      <td>公用事业</td>\n      <td>申万一级行业</td>\n    </tr>\n    <tr>\n      <th>3780</th>\n      <td>2019-09-23</td>\n      <td>sz.300780</td>\n      <td>德恩精工</td>\n      <td>机械设备</td>\n      <td>申万一级行业</td>\n    </tr>\n    <tr>\n      <th>3781</th>\n      <td>2019-09-23</td>\n      <td>sz.300781</td>\n      <td>因赛集团</td>\n      <td>传媒</td>\n      <td>申万一级行业</td>\n    </tr>\n    <tr>\n      <th>3782</th>\n      <td>2019-09-23</td>\n      <td>sz.300782</td>\n      <td>卓胜微</td>\n      <td>电子</td>\n      <td>申万一级行业</td>\n    </tr>\n    <tr>\n      <th>3783</th>\n      <td>2019-09-23</td>\n      <td>sz.300783</td>\n      <td>三只松鼠</td>\n      <td>食品饮料</td>\n      <td>申万一级行业</td>\n    </tr>\n    <tr>\n      <th>3784</th>\n      <td>2019-09-23</td>\n      <td>sz.300785</td>\n      <td>值得买</td>\n      <td>传媒</td>\n      <td>申万一级行业</td>\n    </tr>\n    <tr>\n      <th>3785</th>\n      <td>2019-09-23</td>\n      <td>sz.300786</td>\n      <td>国林环保</td>\n      <td>机械设备</td>\n      <td>申万一级行业</td>\n    </tr>\n    <tr>\n      <th>3786</th>\n      <td>2019-09-23</td>\n      <td>sz.300787</td>\n      <td>海能实业</td>\n      <td>电子</td>\n      <td>申万一级行业</td>\n    </tr>\n    <tr>\n      <th>3787</th>\n      <td>2019-09-23</td>\n      <td>sz.300788</td>\n      <td>中信出版</td>\n      <td>传媒</td>\n      <td>申万一级行业</td>\n    </tr>\n    <tr>\n      <th>3788</th>\n      <td>2019-09-23</td>\n      <td>sz.300789</td>\n      <td>唐源电气</td>\n      <td>计算机</td>\n      <td>申万一级行业</td>\n    </tr>\n    <tr>\n      <th>3789</th>\n      <td>2019-09-23</td>\n      <td>sz.300790</td>\n      <td>宇瞳光学</td>\n      <td>电子</td>\n      <td>申万一级行业</td>\n    </tr>\n  </tbody>\n</table>\n<p>3790 rows × 5 columns</p>\n</div>"
     },
     "metadata": {},
     "output_type": "execute_result",
     "execution_count": 4
    }
   ],
   "source": [
    "df_industry\n"
   ],
   "metadata": {
    "collapsed": false,
    "pycharm": {
     "name": "#%%\n",
     "is_executing": false
    }
   }
  },
  {
   "cell_type": "code",
   "execution_count": 5,
   "outputs": [],
   "source": [
    "df = ts_api.index_basic(market='MSCI')\n"
   ],
   "metadata": {
    "collapsed": false,
    "pycharm": {
     "name": "#%%\n",
     "is_executing": false
    }
   }
  },
  {
   "cell_type": "code",
   "execution_count": 10,
   "outputs": [
    {
     "data": {
      "text/plain": "Empty DataFrame\nColumns: []\nIndex: []",
      "text/html": "<div>\n<style scoped>\n    .dataframe tbody tr th:only-of-type {\n        vertical-align: middle;\n    }\n\n    .dataframe tbody tr th {\n        vertical-align: top;\n    }\n\n    .dataframe thead th {\n        text-align: right;\n    }\n</style>\n<table border=\"1\" class=\"dataframe\">\n  <thead>\n    <tr style=\"text-align: right;\">\n      <th></th>\n    </tr>\n  </thead>\n  <tbody>\n  </tbody>\n</table>\n</div>"
     },
     "metadata": {},
     "output_type": "execute_result",
     "execution_count": 10
    }
   ],
   "source": [
    "df = bao.query_history_k_data_plus(code = '000009.SH', \n",
    "                                   fields = 'date,code,open,high,low,close,preclose,volume,amount,adjustflag,turn,tradestatus,pctChg,peTTM,psTTM,pcfNcfTTM,pbMRQ,isST',\n",
    "                                   start_date = '2006-01-01',\n",
    "                                   end_date = '2006-01-30').get_data()\n",
    "\n",
    "df.head(5)"
   ],
   "metadata": {
    "collapsed": false,
    "pycharm": {
     "name": "#%%\n",
     "is_executing": false
    }
   }
  }
 ],
 "metadata": {
  "kernelspec": {
   "display_name": "Python 3",
   "language": "python",
   "name": "python3"
  },
  "language_info": {
   "codemirror_mode": {
    "name": "ipython",
    "version": 2
   },
   "file_extension": ".py",
   "mimetype": "text/x-python",
   "name": "python",
   "nbconvert_exporter": "python",
   "pygments_lexer": "ipython2",
   "version": "2.7.6"
  },
  "pycharm": {
   "stem_cell": {
    "cell_type": "raw",
    "source": [],
    "metadata": {
     "collapsed": false
    }
   }
  }
 },
 "nbformat": 4,
 "nbformat_minor": 0
}