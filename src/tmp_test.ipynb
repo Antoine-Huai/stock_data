{
 "cells": [
  {
   "cell_type": "code",
   "execution_count": 1,
   "metadata": {
    "collapsed": true,
    "pycharm": {
     "is_executing": false
    }
   },
   "outputs": [
    {
     "name": "stdout",
     "text": [
      "login success!\nbaostock login => error_code: 0 error_msg: success\n\n"
     ],
     "output_type": "stream"
    },
    {
     "name": "stderr",
     "text": [
      "/Users/kk/miniconda3/envs/quant/lib/python3.7/site-packages/tushare/util/upass.py:28: FutureWarning:\n\n\n.ix is deprecated. Please use\n.loc for label based indexing or\n.iloc for positional indexing\n\nSee the documentation here:\nhttp://pandas.pydata.org/pandas-docs/stable/user_guide/indexing.html#ix-indexer-is-deprecated\n\n"
     ],
     "output_type": "stream"
    },
    {
     "data": {
      "text/plain": "<sz.stock_data.stock_data.StockData at 0x118efb438>"
     },
     "metadata": {},
     "output_type": "execute_result",
     "execution_count": 1
    }
   ],
   "source": [
    "import tushare as ts\n",
    "import plotly.graph_objects as go\n",
    "import plotly.io as pio\n",
    "import plotly.express as px\n",
    "import pandas as pd\n",
    "import numpy as np\n",
    "import baostock as bao\n",
    "from baostock.data.resultset import ResultData\n",
    "import baostock.common.contants as bao_consts\n",
    "from pandas import Timestamp\n",
    "from sz.stock_data.toolbox.data_provider import ts_code\n",
    "from datetime import date, datetime, timedelta\n",
    "\n",
    "ts.set_token('f96b1eeee9c8fddd357f2299cdedc1c88b2bb2a30ae1f772cf810dea')\n",
    "ts_api = ts.pro_api()\n",
    "\n",
    "blg = bao.login()\n",
    "print('baostock login => error_code: %s error_msg: %s\\n' %\n",
    "      (blg.error_code, blg.error_msg))\n",
    "\n",
    "from sz.stock_data.stock_data import StockData\n",
    "StockData().setup(data_dir = '/Volumes/USBDATA/stock_data')\n"
   ]
  },
  {
   "cell_type": "code",
   "execution_count": 2,
   "outputs": [],
   "source": [
    "df = StockData().trade_calendar.dataframe\n",
    "df_trade = df[df['is_open'] == True]"
   ],
   "metadata": {
    "collapsed": false,
    "pycharm": {
     "name": "#%%\n",
     "is_executing": false
    }
   }
  },
  {
   "cell_type": "code",
   "execution_count": 3,
   "outputs": [
    {
     "data": {
      "text/plain": "             cal_date  is_open pretrade_date\ncal_date                                    \n2000-01-04 2000-01-04     True    1999-12-30\n2000-01-05 2000-01-05     True    2000-01-04\n2000-01-06 2000-01-06     True    2000-01-05\n2000-01-07 2000-01-07     True    2000-01-06\n2000-01-10 2000-01-10     True    2000-01-07\n2000-01-11 2000-01-11     True    2000-01-10\n2000-01-12 2000-01-12     True    2000-01-11\n2000-01-13 2000-01-13     True    2000-01-12\n2000-01-14 2000-01-14     True    2000-01-13\n2000-01-17 2000-01-17     True    2000-01-14",
      "text/html": "<div>\n<style scoped>\n    .dataframe tbody tr th:only-of-type {\n        vertical-align: middle;\n    }\n\n    .dataframe tbody tr th {\n        vertical-align: top;\n    }\n\n    .dataframe thead th {\n        text-align: right;\n    }\n</style>\n<table border=\"1\" class=\"dataframe\">\n  <thead>\n    <tr style=\"text-align: right;\">\n      <th></th>\n      <th>cal_date</th>\n      <th>is_open</th>\n      <th>pretrade_date</th>\n    </tr>\n    <tr>\n      <th>cal_date</th>\n      <th></th>\n      <th></th>\n      <th></th>\n    </tr>\n  </thead>\n  <tbody>\n    <tr>\n      <th>2000-01-04</th>\n      <td>2000-01-04</td>\n      <td>True</td>\n      <td>1999-12-30</td>\n    </tr>\n    <tr>\n      <th>2000-01-05</th>\n      <td>2000-01-05</td>\n      <td>True</td>\n      <td>2000-01-04</td>\n    </tr>\n    <tr>\n      <th>2000-01-06</th>\n      <td>2000-01-06</td>\n      <td>True</td>\n      <td>2000-01-05</td>\n    </tr>\n    <tr>\n      <th>2000-01-07</th>\n      <td>2000-01-07</td>\n      <td>True</td>\n      <td>2000-01-06</td>\n    </tr>\n    <tr>\n      <th>2000-01-10</th>\n      <td>2000-01-10</td>\n      <td>True</td>\n      <td>2000-01-07</td>\n    </tr>\n    <tr>\n      <th>2000-01-11</th>\n      <td>2000-01-11</td>\n      <td>True</td>\n      <td>2000-01-10</td>\n    </tr>\n    <tr>\n      <th>2000-01-12</th>\n      <td>2000-01-12</td>\n      <td>True</td>\n      <td>2000-01-11</td>\n    </tr>\n    <tr>\n      <th>2000-01-13</th>\n      <td>2000-01-13</td>\n      <td>True</td>\n      <td>2000-01-12</td>\n    </tr>\n    <tr>\n      <th>2000-01-14</th>\n      <td>2000-01-14</td>\n      <td>True</td>\n      <td>2000-01-13</td>\n    </tr>\n    <tr>\n      <th>2000-01-17</th>\n      <td>2000-01-17</td>\n      <td>True</td>\n      <td>2000-01-14</td>\n    </tr>\n  </tbody>\n</table>\n</div>"
     },
     "metadata": {},
     "output_type": "execute_result",
     "execution_count": 3
    }
   ],
   "source": [
    "df_trade.head(10)\n"
   ],
   "metadata": {
    "collapsed": false,
    "pycharm": {
     "name": "#%%\n",
     "is_executing": false
    }
   }
  },
  {
   "cell_type": "code",
   "execution_count": 5,
   "outputs": [
    {
     "data": {
      "text/plain": "datetime.date(2019, 9, 20)"
     },
     "metadata": {},
     "output_type": "execute_result",
     "execution_count": 5
    }
   ],
   "source": [
    "StockData().trade_calendar.next_n_trade_day(datetime.strptime('2019-12-30', '%Y-%m-%d').date(), 5, date.today())\n"
   ],
   "metadata": {
    "collapsed": false,
    "pycharm": {
     "name": "#%%\n",
     "is_executing": false
    }
   }
  }
 ],
 "metadata": {
  "kernelspec": {
   "display_name": "Python 3",
   "language": "python",
   "name": "python3"
  },
  "language_info": {
   "codemirror_mode": {
    "name": "ipython",
    "version": 2
   },
   "file_extension": ".py",
   "mimetype": "text/x-python",
   "name": "python",
   "nbconvert_exporter": "python",
   "pygments_lexer": "ipython2",
   "version": "2.7.6"
  },
  "pycharm": {
   "stem_cell": {
    "cell_type": "raw",
    "source": [],
    "metadata": {
     "collapsed": false
    }
   }
  }
 },
 "nbformat": 4,
 "nbformat_minor": 0
}