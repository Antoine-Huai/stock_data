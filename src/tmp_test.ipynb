{
 "cells": [
  {
   "cell_type": "code",
   "execution_count": 1,
   "metadata": {
    "collapsed": true,
    "pycharm": {
     "is_executing": false,
     "name": "#%%\n"
    }
   },
   "outputs": [
    {
     "name": "stderr",
     "text": [
      "/Users/kk/miniconda3/envs/quant/lib/python3.7/site-packages/tushare/util/upass.py:28: FutureWarning:\n\n\n.ix is deprecated. Please use\n.loc for label based indexing or\n.iloc for positional indexing\n\nSee the documentation here:\nhttp://pandas.pydata.org/pandas-docs/stable/user_guide/indexing.html#ix-indexer-is-deprecated\n\n"
     ],
     "output_type": "stream"
    },
    {
     "name": "stdout",
     "text": [
      "login success!\nbaostock login => error_code: 0 error_msg: success\n\n"
     ],
     "output_type": "stream"
    }
   ],
   "source": [
    "import tushare as ts\n",
    "import plotly.graph_objects as go\n",
    "import plotly.io as pio\n",
    "import plotly.express as px\n",
    "import pandas as pd\n",
    "import numpy as np\n",
    "import baostock as bao\n",
    "from baostock.data.resultset import ResultData\n",
    "import baostock.common.contants as bao_consts\n",
    "from pandas import Timestamp\n",
    "from sz.stock_data.toolbox.data_provider import ts_code\n",
    "from datetime import date, datetime, timedelta\n",
    "\n",
    "ts.set_token('f96b1eeee9c8fddd357f2299cdedc1c88b2bb2a30ae1f772cf810dea')\n",
    "ts_api = ts.pro_api()\n",
    "\n",
    "blg = bao.login()\n",
    "print('baostock login => error_code: %s error_msg: %s\\n' %\n",
    "      (blg.error_code, blg.error_msg))\n",
    "\n",
    "\n",
    "from sz.stock_data.stock_data import StockData\n",
    "StockData().setup(data_dir = '/Volumes/USBDATA/stock_data')\n",
    "\n",
    "from sz.stock_data.stocks.stock_daily import StockDaily\n",
    "from sz.stock_data.toolbox.helper import need_update_by_trade_date\n",
    "\n",
    " "
   ]
  },
  {
   "cell_type": "code",
   "execution_count": 2,
   "outputs": [
    {
     "name": "stdout",
     "text": [
      "need update: True\n"
     ],
     "output_type": "stream"
    }
   ],
   "source": [
    "stock = StockDaily(StockData().data_dir, stock_code = '300059.SZ').prepare()\n",
    "\n",
    "print(\"need update: %s\" % need_update_by_trade_date(stock.dataframe, 'date'))"
   ],
   "metadata": {
    "collapsed": false,
    "pycharm": {
     "name": "#%%\n",
     "is_executing": false
    }
   }
  },
  {
   "cell_type": "code",
   "execution_count": 2,
   "outputs": [
    {
     "name": "stdout",
     "text": [
      "000001.SZ\n000002.SZ\n000063.SZ\n000069.SZ\n000100.SZ\n000157.SZ\n000166.SZ\n000333.SZ\n000338.SZ\n000402.SZ\n000408.SZ\n000413.SZ\n000415.SZ\n000423.SZ\n000425.SZ\n000538.SZ\n000553.SZ\n000568.SZ\n000596.SZ\n000625.SZ\n000627.SZ\n000629.SZ\n000630.SZ\n000651.SZ\n000656.SZ\n000661.SZ\n000671.SZ\n000703.SZ\n000709.SZ\n000725.SZ\n000728.SZ\n000768.SZ\n000776.SZ\n000783.SZ\n000786.SZ\n000858.SZ\n000876.SZ\n000895.SZ\n000898.SZ\n000938.SZ\n000961.SZ\n000963.SZ\n001979.SZ\n002001.SZ\n002007.SZ\n002008.SZ\n002010.SZ\n002024.SZ\n002027.SZ\n002032.SZ\n002044.SZ\n002050.SZ\n002065.SZ\n002081.SZ\n002120.SZ\n002142.SZ\n002146.SZ\n002153.SZ\n002179.SZ\n002202.SZ\n002230.SZ\n002236.SZ\n002241.SZ\n002252.SZ\n002271.SZ\n002294.SZ\n002304.SZ\n002310.SZ\n002311.SZ\n002352.SZ\n002410.SZ\n002411.SZ\n002415.SZ\n002422.SZ\n002456.SZ\n002460.SZ\n002466.SZ\n002468.SZ\n002475.SZ\n002493.SZ\n002508.SZ\n002555.SZ\n002558.SZ\n002594.SZ\n002601.SZ\n002602.SZ\n002624.SZ\n002625.SZ\n002673.SZ\n002714.SZ\n002736.SZ\n002739.SZ\n002773.SZ\n002925.SZ\n002938.SZ\n002939.SZ\n002945.SZ\n300003.SZ\n300015.SZ\n300017.SZ\n300024.SZ\n300033.SZ\n300059.SZ\n300070.SZ\n300072.SZ\n300122.SZ\n300124.SZ\n300136.SZ\n300142.SZ\n300144.SZ\n300251.SZ\n300296.SZ\n300408.SZ\n300413.SZ\n300433.SZ\n300498.SZ\n600000.SH\n600004.SH\n600009.SH\n600010.SH\n600011.SH\n600015.SH\n600016.SH\n600018.SH\n600019.SH\n600023.SH\n600025.SH\n600027.SH\n600028.SH\n600029.SH\n600030.SH\n600031.SH\n600036.SH\n600038.SH\n600048.SH\n600050.SH\n600061.SH\n600066.SH\n600068.SH\n600085.SH\n600089.SH\n600100.SH\n600104.SH\n600109.SH\n600111.SH\n600115.SH\n600118.SH\n600153.SH\n600170.SH\n600176.SH\n600177.SH\n600188.SH\n600196.SH\n600208.SH\n600219.SH\n600221.SH\n600233.SH\n600271.SH\n600276.SH\n600297.SH\n600299.SH\n600309.SH\n600332.SH\n600339.SH\n600340.SH\n600346.SH\n600352.SH\n600362.SH\n600369.SH\n600372.SH\n600383.SH\n600390.SH\n600398.SH\n600406.SH\n600415.SH\n600436.SH\n600438.SH\n600482.SH\n600487.SH\n600489.SH\n600498.SH\n600516.SH\n600519.SH\n600522.SH\n600535.SH\n600547.SH\n600566.SH\n600570.SH\n600583.SH\n600585.SH\n600588.SH\n600606.SH\n600637.SH\n600660.SH\n600663.SH\n600674.SH\n600688.SH\n600690.SH\n600703.SH\n600704.SH\n600705.SH\n600733.SH\n600741.SH\n600760.SH\n600795.SH\n600809.SH\n600816.SH\n600837.SH\n600867.SH\n600886.SH\n600887.SH\n600893.SH\n600900.SH\n600919.SH\n600926.SH\n600958.SH\n600977.SH\n600998.SH\n600999.SH\n601006.SH\n601009.SH\n601012.SH\n601018.SH\n601021.SH\n601066.SH\n601088.SH\n601108.SH\n601111.SH\n601117.SH\n601138.SH\n601155.SH\n601162.SH\n601166.SH\n601169.SH\n601186.SH\n601198.SH\n601211.SH\n601212.SH\n601216.SH\n601225.SH\n601228.SH\n601229.SH\n601238.SH\n601288.SH\n601298.SH\n601318.SH\n601319.SH\n601328.SH\n601336.SH\n601360.SH\n601377.SH\n601390.SH\n601398.SH\n601555.SH\n601577.SH\n601600.SH\n601601.SH\n601607.SH\n601618.SH\n601628.SH\n601633.SH\n601668.SH\n601669.SH\n601688.SH\n601727.SH\n601766.SH\n601788.SH\n601800.SH\n601808.SH\n601818.SH\n601828.SH\n601838.SH\n601857.SH\n601877.SH\n601878.SH\n601881.SH\n601888.SH\n601898.SH\n601899.SH\n601901.SH\n601919.SH\n601933.SH\n601939.SH\n601985.SH\n601988.SH\n601989.SH\n601992.SH\n601997.SH\n601998.SH\n603019.SH\n603156.SH\n603160.SH\n603259.SH\n603260.SH\n603288.SH\n603799.SH\n603833.SH\n603858.SH\n603986.SH\n603993.SH\n"
     ],
     "output_type": "stream"
    }
   ],
   "source": [
    "for code in StockData().hs300.stock_codes():\n",
    "    print(code)\n"
   ],
   "metadata": {
    "collapsed": false,
    "pycharm": {
     "name": "#%%\n",
     "is_executing": false
    }
   }
  },
  {
   "cell_type": "code",
   "execution_count": 3,
   "outputs": [
    {
     "data": {
      "text/plain": "Empty DataFrame\nColumns: [trade_date, ts_code, rzye, rqye, rzmre, rqyl, rzche, rqchl, rqmcl, rzrqye]\nIndex: []",
      "text/html": "<div>\n<style scoped>\n    .dataframe tbody tr th:only-of-type {\n        vertical-align: middle;\n    }\n\n    .dataframe tbody tr th {\n        vertical-align: top;\n    }\n\n    .dataframe thead th {\n        text-align: right;\n    }\n</style>\n<table border=\"1\" class=\"dataframe\">\n  <thead>\n    <tr style=\"text-align: right;\">\n      <th></th>\n      <th>trade_date</th>\n      <th>ts_code</th>\n      <th>rzye</th>\n      <th>rqye</th>\n      <th>rzmre</th>\n      <th>rqyl</th>\n      <th>rzche</th>\n      <th>rqchl</th>\n      <th>rqmcl</th>\n      <th>rzrqye</th>\n    </tr>\n  </thead>\n  <tbody>\n  </tbody>\n</table>\n</div>"
     },
     "metadata": {},
     "output_type": "execute_result",
     "execution_count": 3
    }
   ],
   "source": [
    "ts_api.margin_detail(\n",
    "    start_date = '20190925',\n",
    "    end_date = '20190925'\n",
    ")"
   ],
   "metadata": {
    "collapsed": false,
    "pycharm": {
     "name": "#%%\n",
     "is_executing": false
    }
   }
  },
  {
   "cell_type": "code",
   "execution_count": 10,
   "outputs": [
    {
     "data": {
      "text/plain": "          date               time       code     open     high      low  \\\n0   2019-09-23  20190923093500000  sh.603259  84.2000  84.3200  83.1100   \n1   2019-09-23  20190923094000000  sh.603259  83.1900  83.7000  82.7800   \n2   2019-09-23  20190923094500000  sh.603259  83.6900  83.7000  82.9900   \n3   2019-09-23  20190923095000000  sh.603259  83.2900  83.5200  82.9000   \n4   2019-09-23  20190923095500000  sh.603259  83.4600  83.4600  83.1300   \n5   2019-09-23  20190923100000000  sh.603259  83.1900  83.2000  82.7600   \n6   2019-09-23  20190923100500000  sh.603259  82.7600  83.1800  82.5900   \n7   2019-09-23  20190923101000000  sh.603259  83.1500  83.1500  82.9000   \n8   2019-09-23  20190923101500000  sh.603259  83.0000  83.1000  82.9200   \n9   2019-09-23  20190923102000000  sh.603259  83.0000  83.1100  83.0000   \n10  2019-09-23  20190923102500000  sh.603259  83.1300  83.1300  82.7500   \n11  2019-09-23  20190923103000000  sh.603259  82.9700  83.1000  82.7800   \n12  2019-09-23  20190923103500000  sh.603259  83.0000  83.2000  83.0000   \n13  2019-09-23  20190923104000000  sh.603259  83.1900  83.8000  83.1600   \n14  2019-09-23  20190923104500000  sh.603259  83.6200  83.6500  83.5000   \n15  2019-09-23  20190923105000000  sh.603259  83.4600  83.7400  83.3100   \n16  2019-09-23  20190923105500000  sh.603259  83.7400  83.7400  83.4000   \n17  2019-09-23  20190923110000000  sh.603259  83.4200  83.8300  83.4200   \n18  2019-09-23  20190923110500000  sh.603259  83.7900  83.7900  83.5400   \n19  2019-09-23  20190923111000000  sh.603259  83.6800  83.7500  83.5600   \n20  2019-09-23  20190923111500000  sh.603259  83.6500  83.6600  83.5900   \n21  2019-09-23  20190923112000000  sh.603259  83.6000  83.7600  83.5900   \n22  2019-09-23  20190923112500000  sh.603259  83.6700  83.7000  83.3900   \n23  2019-09-23  20190923113000000  sh.603259  83.5200  83.6600  83.4800   \n24  2019-09-23  20190923130500000  sh.603259  83.6600  83.6600  83.3200   \n25  2019-09-23  20190923131000000  sh.603259  83.3500  83.5300  83.3200   \n26  2019-09-23  20190923131500000  sh.603259  83.3400  83.4200  83.0500   \n27  2019-09-23  20190923132000000  sh.603259  83.0700  83.4100  83.0400   \n28  2019-09-23  20190923132500000  sh.603259  83.0800  83.1100  82.9000   \n29  2019-09-23  20190923133000000  sh.603259  82.9100  83.0000  82.8300   \n30  2019-09-23  20190923133500000  sh.603259  82.8300  82.8900  82.6500   \n31  2019-09-23  20190923134000000  sh.603259  82.6600  82.9400  82.6500   \n32  2019-09-23  20190923134500000  sh.603259  82.9000  82.9800  82.8000   \n33  2019-09-23  20190923135000000  sh.603259  82.9300  82.9400  82.6600   \n34  2019-09-23  20190923135500000  sh.603259  82.6700  83.0000  82.6600   \n35  2019-09-23  20190923140000000  sh.603259  82.9800  82.9900  82.6300   \n36  2019-09-23  20190923140500000  sh.603259  82.6200  82.7800  82.1200   \n37  2019-09-23  20190923141000000  sh.603259  82.2900  82.5200  82.1700   \n38  2019-09-23  20190923141500000  sh.603259  82.1900  82.5800  82.1700   \n39  2019-09-23  20190923142000000  sh.603259  82.4800  82.5100  82.3000   \n40  2019-09-23  20190923142500000  sh.603259  82.4000  82.6600  82.3200   \n41  2019-09-23  20190923143000000  sh.603259  82.6600  82.8900  82.6600   \n42  2019-09-23  20190923143500000  sh.603259  82.7700  82.9200  82.7600   \n43  2019-09-23  20190923144000000  sh.603259  82.7800  82.8100  82.7600   \n44  2019-09-23  20190923144500000  sh.603259  82.8200  82.8200  82.6300   \n45  2019-09-23  20190923145000000  sh.603259  82.6900  82.8900  82.6000   \n46  2019-09-23  20190923145500000  sh.603259  82.8900  82.9500  82.8400   \n47  2019-09-23  20190923150000000  sh.603259  82.8500  82.8900  82.5000   \n\n      close  volume         amount adjustflag  \n0   83.2000  347600  29048400.0000          3  \n1   83.7000  447799  37224558.0000          3  \n2   83.2700  204880  17077204.0000          3  \n3   83.4600  249745  20759794.0000          3  \n4   83.1900  228270  19008604.0000          3  \n5   82.7600  332124  27566168.0000          3  \n6   83.1500  231369  19179096.0000          3  \n7   83.0200  191105  15866150.0000          3  \n8   83.0300  181362  15054528.0000          3  \n9   83.1000   99100   8229654.0000          3  \n10  82.9000  203821  16909087.0000          3  \n11  82.9800   99460   8252744.0000          3  \n12  83.1900   89037   7398821.0000          3  \n13  83.6000  120600  10081743.0000          3  \n14  83.5000  122500  10241657.0000          3  \n15  83.7400   44695   3728861.0000          3  \n16  83.4200   69760   5825107.0000          3  \n17  83.7900   66200   5536608.0000          3  \n18  83.6800  113640   9506432.0000          3  \n19  83.6500   87140   7292176.0000          3  \n20  83.6000   42045   3516048.0000          3  \n21  83.6700   50400   4216384.0000          3  \n22  83.5200  113115   9453232.0000          3  \n23  83.6600   42466   3548048.0000          3  \n24  83.3500   65800   5489136.0000          3  \n25  83.3200   73200   6102112.0000          3  \n26  83.0700   61460   5118320.0000          3  \n27  83.0800   74534   6196848.0000          3  \n28  82.9000  144066  11957952.0000          3  \n29  82.8300   80900   6706352.0000          3  \n30  82.6500  109079   9028912.0000          3  \n31  82.9000   94420   7809632.0000          3  \n32  82.9300   41900   3474352.0000          3  \n33  82.6600   75140   6220384.0000          3  \n34  82.9600   74408   6164160.0000          3  \n35  82.6300  126752  10486352.0000          3  \n36  82.2800  290800  23985984.0000          3  \n37  82.1700   96900   7980624.0000          3  \n38  82.4800   93671   7717008.0000          3  \n39  82.3800   61825   5097232.0000          3  \n40  82.6600   56234   4638672.0000          3  \n41  82.7700  121380  10049696.0000          3  \n42  82.8000   57383   4751376.0000          3  \n43  82.8000   84597   7003808.0000          3  \n44  82.7000  121960  10085632.0000          3  \n45  82.8900   94830   7852640.0000          3  \n46  82.8500  122020  10115840.0000          3  \n47  82.6000  154340  12765184.0000          3  ",
      "text/html": "<div>\n<style scoped>\n    .dataframe tbody tr th:only-of-type {\n        vertical-align: middle;\n    }\n\n    .dataframe tbody tr th {\n        vertical-align: top;\n    }\n\n    .dataframe thead th {\n        text-align: right;\n    }\n</style>\n<table border=\"1\" class=\"dataframe\">\n  <thead>\n    <tr style=\"text-align: right;\">\n      <th></th>\n      <th>date</th>\n      <th>time</th>\n      <th>code</th>\n      <th>open</th>\n      <th>high</th>\n      <th>low</th>\n      <th>close</th>\n      <th>volume</th>\n      <th>amount</th>\n      <th>adjustflag</th>\n    </tr>\n  </thead>\n  <tbody>\n    <tr>\n      <th>0</th>\n      <td>2019-09-23</td>\n      <td>20190923093500000</td>\n      <td>sh.603259</td>\n      <td>84.2000</td>\n      <td>84.3200</td>\n      <td>83.1100</td>\n      <td>83.2000</td>\n      <td>347600</td>\n      <td>29048400.0000</td>\n      <td>3</td>\n    </tr>\n    <tr>\n      <th>1</th>\n      <td>2019-09-23</td>\n      <td>20190923094000000</td>\n      <td>sh.603259</td>\n      <td>83.1900</td>\n      <td>83.7000</td>\n      <td>82.7800</td>\n      <td>83.7000</td>\n      <td>447799</td>\n      <td>37224558.0000</td>\n      <td>3</td>\n    </tr>\n    <tr>\n      <th>2</th>\n      <td>2019-09-23</td>\n      <td>20190923094500000</td>\n      <td>sh.603259</td>\n      <td>83.6900</td>\n      <td>83.7000</td>\n      <td>82.9900</td>\n      <td>83.2700</td>\n      <td>204880</td>\n      <td>17077204.0000</td>\n      <td>3</td>\n    </tr>\n    <tr>\n      <th>3</th>\n      <td>2019-09-23</td>\n      <td>20190923095000000</td>\n      <td>sh.603259</td>\n      <td>83.2900</td>\n      <td>83.5200</td>\n      <td>82.9000</td>\n      <td>83.4600</td>\n      <td>249745</td>\n      <td>20759794.0000</td>\n      <td>3</td>\n    </tr>\n    <tr>\n      <th>4</th>\n      <td>2019-09-23</td>\n      <td>20190923095500000</td>\n      <td>sh.603259</td>\n      <td>83.4600</td>\n      <td>83.4600</td>\n      <td>83.1300</td>\n      <td>83.1900</td>\n      <td>228270</td>\n      <td>19008604.0000</td>\n      <td>3</td>\n    </tr>\n    <tr>\n      <th>5</th>\n      <td>2019-09-23</td>\n      <td>20190923100000000</td>\n      <td>sh.603259</td>\n      <td>83.1900</td>\n      <td>83.2000</td>\n      <td>82.7600</td>\n      <td>82.7600</td>\n      <td>332124</td>\n      <td>27566168.0000</td>\n      <td>3</td>\n    </tr>\n    <tr>\n      <th>6</th>\n      <td>2019-09-23</td>\n      <td>20190923100500000</td>\n      <td>sh.603259</td>\n      <td>82.7600</td>\n      <td>83.1800</td>\n      <td>82.5900</td>\n      <td>83.1500</td>\n      <td>231369</td>\n      <td>19179096.0000</td>\n      <td>3</td>\n    </tr>\n    <tr>\n      <th>7</th>\n      <td>2019-09-23</td>\n      <td>20190923101000000</td>\n      <td>sh.603259</td>\n      <td>83.1500</td>\n      <td>83.1500</td>\n      <td>82.9000</td>\n      <td>83.0200</td>\n      <td>191105</td>\n      <td>15866150.0000</td>\n      <td>3</td>\n    </tr>\n    <tr>\n      <th>8</th>\n      <td>2019-09-23</td>\n      <td>20190923101500000</td>\n      <td>sh.603259</td>\n      <td>83.0000</td>\n      <td>83.1000</td>\n      <td>82.9200</td>\n      <td>83.0300</td>\n      <td>181362</td>\n      <td>15054528.0000</td>\n      <td>3</td>\n    </tr>\n    <tr>\n      <th>9</th>\n      <td>2019-09-23</td>\n      <td>20190923102000000</td>\n      <td>sh.603259</td>\n      <td>83.0000</td>\n      <td>83.1100</td>\n      <td>83.0000</td>\n      <td>83.1000</td>\n      <td>99100</td>\n      <td>8229654.0000</td>\n      <td>3</td>\n    </tr>\n    <tr>\n      <th>10</th>\n      <td>2019-09-23</td>\n      <td>20190923102500000</td>\n      <td>sh.603259</td>\n      <td>83.1300</td>\n      <td>83.1300</td>\n      <td>82.7500</td>\n      <td>82.9000</td>\n      <td>203821</td>\n      <td>16909087.0000</td>\n      <td>3</td>\n    </tr>\n    <tr>\n      <th>11</th>\n      <td>2019-09-23</td>\n      <td>20190923103000000</td>\n      <td>sh.603259</td>\n      <td>82.9700</td>\n      <td>83.1000</td>\n      <td>82.7800</td>\n      <td>82.9800</td>\n      <td>99460</td>\n      <td>8252744.0000</td>\n      <td>3</td>\n    </tr>\n    <tr>\n      <th>12</th>\n      <td>2019-09-23</td>\n      <td>20190923103500000</td>\n      <td>sh.603259</td>\n      <td>83.0000</td>\n      <td>83.2000</td>\n      <td>83.0000</td>\n      <td>83.1900</td>\n      <td>89037</td>\n      <td>7398821.0000</td>\n      <td>3</td>\n    </tr>\n    <tr>\n      <th>13</th>\n      <td>2019-09-23</td>\n      <td>20190923104000000</td>\n      <td>sh.603259</td>\n      <td>83.1900</td>\n      <td>83.8000</td>\n      <td>83.1600</td>\n      <td>83.6000</td>\n      <td>120600</td>\n      <td>10081743.0000</td>\n      <td>3</td>\n    </tr>\n    <tr>\n      <th>14</th>\n      <td>2019-09-23</td>\n      <td>20190923104500000</td>\n      <td>sh.603259</td>\n      <td>83.6200</td>\n      <td>83.6500</td>\n      <td>83.5000</td>\n      <td>83.5000</td>\n      <td>122500</td>\n      <td>10241657.0000</td>\n      <td>3</td>\n    </tr>\n    <tr>\n      <th>15</th>\n      <td>2019-09-23</td>\n      <td>20190923105000000</td>\n      <td>sh.603259</td>\n      <td>83.4600</td>\n      <td>83.7400</td>\n      <td>83.3100</td>\n      <td>83.7400</td>\n      <td>44695</td>\n      <td>3728861.0000</td>\n      <td>3</td>\n    </tr>\n    <tr>\n      <th>16</th>\n      <td>2019-09-23</td>\n      <td>20190923105500000</td>\n      <td>sh.603259</td>\n      <td>83.7400</td>\n      <td>83.7400</td>\n      <td>83.4000</td>\n      <td>83.4200</td>\n      <td>69760</td>\n      <td>5825107.0000</td>\n      <td>3</td>\n    </tr>\n    <tr>\n      <th>17</th>\n      <td>2019-09-23</td>\n      <td>20190923110000000</td>\n      <td>sh.603259</td>\n      <td>83.4200</td>\n      <td>83.8300</td>\n      <td>83.4200</td>\n      <td>83.7900</td>\n      <td>66200</td>\n      <td>5536608.0000</td>\n      <td>3</td>\n    </tr>\n    <tr>\n      <th>18</th>\n      <td>2019-09-23</td>\n      <td>20190923110500000</td>\n      <td>sh.603259</td>\n      <td>83.7900</td>\n      <td>83.7900</td>\n      <td>83.5400</td>\n      <td>83.6800</td>\n      <td>113640</td>\n      <td>9506432.0000</td>\n      <td>3</td>\n    </tr>\n    <tr>\n      <th>19</th>\n      <td>2019-09-23</td>\n      <td>20190923111000000</td>\n      <td>sh.603259</td>\n      <td>83.6800</td>\n      <td>83.7500</td>\n      <td>83.5600</td>\n      <td>83.6500</td>\n      <td>87140</td>\n      <td>7292176.0000</td>\n      <td>3</td>\n    </tr>\n    <tr>\n      <th>20</th>\n      <td>2019-09-23</td>\n      <td>20190923111500000</td>\n      <td>sh.603259</td>\n      <td>83.6500</td>\n      <td>83.6600</td>\n      <td>83.5900</td>\n      <td>83.6000</td>\n      <td>42045</td>\n      <td>3516048.0000</td>\n      <td>3</td>\n    </tr>\n    <tr>\n      <th>21</th>\n      <td>2019-09-23</td>\n      <td>20190923112000000</td>\n      <td>sh.603259</td>\n      <td>83.6000</td>\n      <td>83.7600</td>\n      <td>83.5900</td>\n      <td>83.6700</td>\n      <td>50400</td>\n      <td>4216384.0000</td>\n      <td>3</td>\n    </tr>\n    <tr>\n      <th>22</th>\n      <td>2019-09-23</td>\n      <td>20190923112500000</td>\n      <td>sh.603259</td>\n      <td>83.6700</td>\n      <td>83.7000</td>\n      <td>83.3900</td>\n      <td>83.5200</td>\n      <td>113115</td>\n      <td>9453232.0000</td>\n      <td>3</td>\n    </tr>\n    <tr>\n      <th>23</th>\n      <td>2019-09-23</td>\n      <td>20190923113000000</td>\n      <td>sh.603259</td>\n      <td>83.5200</td>\n      <td>83.6600</td>\n      <td>83.4800</td>\n      <td>83.6600</td>\n      <td>42466</td>\n      <td>3548048.0000</td>\n      <td>3</td>\n    </tr>\n    <tr>\n      <th>24</th>\n      <td>2019-09-23</td>\n      <td>20190923130500000</td>\n      <td>sh.603259</td>\n      <td>83.6600</td>\n      <td>83.6600</td>\n      <td>83.3200</td>\n      <td>83.3500</td>\n      <td>65800</td>\n      <td>5489136.0000</td>\n      <td>3</td>\n    </tr>\n    <tr>\n      <th>25</th>\n      <td>2019-09-23</td>\n      <td>20190923131000000</td>\n      <td>sh.603259</td>\n      <td>83.3500</td>\n      <td>83.5300</td>\n      <td>83.3200</td>\n      <td>83.3200</td>\n      <td>73200</td>\n      <td>6102112.0000</td>\n      <td>3</td>\n    </tr>\n    <tr>\n      <th>26</th>\n      <td>2019-09-23</td>\n      <td>20190923131500000</td>\n      <td>sh.603259</td>\n      <td>83.3400</td>\n      <td>83.4200</td>\n      <td>83.0500</td>\n      <td>83.0700</td>\n      <td>61460</td>\n      <td>5118320.0000</td>\n      <td>3</td>\n    </tr>\n    <tr>\n      <th>27</th>\n      <td>2019-09-23</td>\n      <td>20190923132000000</td>\n      <td>sh.603259</td>\n      <td>83.0700</td>\n      <td>83.4100</td>\n      <td>83.0400</td>\n      <td>83.0800</td>\n      <td>74534</td>\n      <td>6196848.0000</td>\n      <td>3</td>\n    </tr>\n    <tr>\n      <th>28</th>\n      <td>2019-09-23</td>\n      <td>20190923132500000</td>\n      <td>sh.603259</td>\n      <td>83.0800</td>\n      <td>83.1100</td>\n      <td>82.9000</td>\n      <td>82.9000</td>\n      <td>144066</td>\n      <td>11957952.0000</td>\n      <td>3</td>\n    </tr>\n    <tr>\n      <th>29</th>\n      <td>2019-09-23</td>\n      <td>20190923133000000</td>\n      <td>sh.603259</td>\n      <td>82.9100</td>\n      <td>83.0000</td>\n      <td>82.8300</td>\n      <td>82.8300</td>\n      <td>80900</td>\n      <td>6706352.0000</td>\n      <td>3</td>\n    </tr>\n    <tr>\n      <th>30</th>\n      <td>2019-09-23</td>\n      <td>20190923133500000</td>\n      <td>sh.603259</td>\n      <td>82.8300</td>\n      <td>82.8900</td>\n      <td>82.6500</td>\n      <td>82.6500</td>\n      <td>109079</td>\n      <td>9028912.0000</td>\n      <td>3</td>\n    </tr>\n    <tr>\n      <th>31</th>\n      <td>2019-09-23</td>\n      <td>20190923134000000</td>\n      <td>sh.603259</td>\n      <td>82.6600</td>\n      <td>82.9400</td>\n      <td>82.6500</td>\n      <td>82.9000</td>\n      <td>94420</td>\n      <td>7809632.0000</td>\n      <td>3</td>\n    </tr>\n    <tr>\n      <th>32</th>\n      <td>2019-09-23</td>\n      <td>20190923134500000</td>\n      <td>sh.603259</td>\n      <td>82.9000</td>\n      <td>82.9800</td>\n      <td>82.8000</td>\n      <td>82.9300</td>\n      <td>41900</td>\n      <td>3474352.0000</td>\n      <td>3</td>\n    </tr>\n    <tr>\n      <th>33</th>\n      <td>2019-09-23</td>\n      <td>20190923135000000</td>\n      <td>sh.603259</td>\n      <td>82.9300</td>\n      <td>82.9400</td>\n      <td>82.6600</td>\n      <td>82.6600</td>\n      <td>75140</td>\n      <td>6220384.0000</td>\n      <td>3</td>\n    </tr>\n    <tr>\n      <th>34</th>\n      <td>2019-09-23</td>\n      <td>20190923135500000</td>\n      <td>sh.603259</td>\n      <td>82.6700</td>\n      <td>83.0000</td>\n      <td>82.6600</td>\n      <td>82.9600</td>\n      <td>74408</td>\n      <td>6164160.0000</td>\n      <td>3</td>\n    </tr>\n    <tr>\n      <th>35</th>\n      <td>2019-09-23</td>\n      <td>20190923140000000</td>\n      <td>sh.603259</td>\n      <td>82.9800</td>\n      <td>82.9900</td>\n      <td>82.6300</td>\n      <td>82.6300</td>\n      <td>126752</td>\n      <td>10486352.0000</td>\n      <td>3</td>\n    </tr>\n    <tr>\n      <th>36</th>\n      <td>2019-09-23</td>\n      <td>20190923140500000</td>\n      <td>sh.603259</td>\n      <td>82.6200</td>\n      <td>82.7800</td>\n      <td>82.1200</td>\n      <td>82.2800</td>\n      <td>290800</td>\n      <td>23985984.0000</td>\n      <td>3</td>\n    </tr>\n    <tr>\n      <th>37</th>\n      <td>2019-09-23</td>\n      <td>20190923141000000</td>\n      <td>sh.603259</td>\n      <td>82.2900</td>\n      <td>82.5200</td>\n      <td>82.1700</td>\n      <td>82.1700</td>\n      <td>96900</td>\n      <td>7980624.0000</td>\n      <td>3</td>\n    </tr>\n    <tr>\n      <th>38</th>\n      <td>2019-09-23</td>\n      <td>20190923141500000</td>\n      <td>sh.603259</td>\n      <td>82.1900</td>\n      <td>82.5800</td>\n      <td>82.1700</td>\n      <td>82.4800</td>\n      <td>93671</td>\n      <td>7717008.0000</td>\n      <td>3</td>\n    </tr>\n    <tr>\n      <th>39</th>\n      <td>2019-09-23</td>\n      <td>20190923142000000</td>\n      <td>sh.603259</td>\n      <td>82.4800</td>\n      <td>82.5100</td>\n      <td>82.3000</td>\n      <td>82.3800</td>\n      <td>61825</td>\n      <td>5097232.0000</td>\n      <td>3</td>\n    </tr>\n    <tr>\n      <th>40</th>\n      <td>2019-09-23</td>\n      <td>20190923142500000</td>\n      <td>sh.603259</td>\n      <td>82.4000</td>\n      <td>82.6600</td>\n      <td>82.3200</td>\n      <td>82.6600</td>\n      <td>56234</td>\n      <td>4638672.0000</td>\n      <td>3</td>\n    </tr>\n    <tr>\n      <th>41</th>\n      <td>2019-09-23</td>\n      <td>20190923143000000</td>\n      <td>sh.603259</td>\n      <td>82.6600</td>\n      <td>82.8900</td>\n      <td>82.6600</td>\n      <td>82.7700</td>\n      <td>121380</td>\n      <td>10049696.0000</td>\n      <td>3</td>\n    </tr>\n    <tr>\n      <th>42</th>\n      <td>2019-09-23</td>\n      <td>20190923143500000</td>\n      <td>sh.603259</td>\n      <td>82.7700</td>\n      <td>82.9200</td>\n      <td>82.7600</td>\n      <td>82.8000</td>\n      <td>57383</td>\n      <td>4751376.0000</td>\n      <td>3</td>\n    </tr>\n    <tr>\n      <th>43</th>\n      <td>2019-09-23</td>\n      <td>20190923144000000</td>\n      <td>sh.603259</td>\n      <td>82.7800</td>\n      <td>82.8100</td>\n      <td>82.7600</td>\n      <td>82.8000</td>\n      <td>84597</td>\n      <td>7003808.0000</td>\n      <td>3</td>\n    </tr>\n    <tr>\n      <th>44</th>\n      <td>2019-09-23</td>\n      <td>20190923144500000</td>\n      <td>sh.603259</td>\n      <td>82.8200</td>\n      <td>82.8200</td>\n      <td>82.6300</td>\n      <td>82.7000</td>\n      <td>121960</td>\n      <td>10085632.0000</td>\n      <td>3</td>\n    </tr>\n    <tr>\n      <th>45</th>\n      <td>2019-09-23</td>\n      <td>20190923145000000</td>\n      <td>sh.603259</td>\n      <td>82.6900</td>\n      <td>82.8900</td>\n      <td>82.6000</td>\n      <td>82.8900</td>\n      <td>94830</td>\n      <td>7852640.0000</td>\n      <td>3</td>\n    </tr>\n    <tr>\n      <th>46</th>\n      <td>2019-09-23</td>\n      <td>20190923145500000</td>\n      <td>sh.603259</td>\n      <td>82.8900</td>\n      <td>82.9500</td>\n      <td>82.8400</td>\n      <td>82.8500</td>\n      <td>122020</td>\n      <td>10115840.0000</td>\n      <td>3</td>\n    </tr>\n    <tr>\n      <th>47</th>\n      <td>2019-09-23</td>\n      <td>20190923150000000</td>\n      <td>sh.603259</td>\n      <td>82.8500</td>\n      <td>82.8900</td>\n      <td>82.5000</td>\n      <td>82.6000</td>\n      <td>154340</td>\n      <td>12765184.0000</td>\n      <td>3</td>\n    </tr>\n  </tbody>\n</table>\n</div>"
     },
     "metadata": {},
     "output_type": "execute_result",
     "execution_count": 10
    }
   ],
   "source": [
    "bao.query_history_k_data_plus(\n",
    "    code = '603259.SH',\n",
    "    fields = 'date,time,code,open,high,low,close,volume,amount,adjustflag',\n",
    "    start_date = '2019-09-23',\n",
    "    end_date = '2019-09-23',\n",
    "    frequency = '5'\n",
    ").get_data()"
   ],
   "metadata": {
    "collapsed": false,
    "pycharm": {
     "name": "#%%\n",
     "is_executing": false
    }
   }
  },
  {
   "cell_type": "code",
   "execution_count": 11,
   "outputs": [
    {
     "data": {
      "text/plain": "Timestamp('2005-09-01 00:00:00')"
     },
     "metadata": {},
     "output_type": "execute_result",
     "execution_count": 11
    }
   ],
   "source": [
    "a = '200509'\n",
    "pd.to_datetime(a, format = '%Y%m')"
   ],
   "metadata": {
    "collapsed": false,
    "pycharm": {
     "name": "#%%\n",
     "is_executing": false
    }
   }
  }
 ],
 "metadata": {
  "kernelspec": {
   "display_name": "Python 3",
   "language": "python",
   "name": "python3"
  },
  "language_info": {
   "codemirror_mode": {
    "name": "ipython",
    "version": 2
   },
   "file_extension": ".py",
   "mimetype": "text/x-python",
   "name": "python",
   "nbconvert_exporter": "python",
   "pygments_lexer": "ipython2",
   "version": "2.7.6"
  },
  "pycharm": {
   "stem_cell": {
    "cell_type": "raw",
    "source": [],
    "metadata": {
     "collapsed": false
    }
   }
  }
 },
 "nbformat": 4,
 "nbformat_minor": 0
}