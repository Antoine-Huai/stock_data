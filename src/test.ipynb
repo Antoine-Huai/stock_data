{
 "cells": [
  {
   "cell_type": "code",
   "execution_count": 1,
   "metadata": {
    "collapsed": true,
    "pycharm": {
     "is_executing": false
    }
   },
   "outputs": [
    {
     "name": "stdout",
     "text": [
      "login success!\nbaostock login => error_code: 0 error_msg: success\n\n"
     ],
     "output_type": "stream"
    },
    {
     "name": "stderr",
     "text": [
      "/Users/kk/miniconda3/envs/quant/lib/python3.7/site-packages/tushare/util/upass.py:28: FutureWarning:\n\n\n.ix is deprecated. Please use\n.loc for label based indexing or\n.iloc for positional indexing\n\nSee the documentation here:\nhttp://pandas.pydata.org/pandas-docs/stable/user_guide/indexing.html#ix-indexer-is-deprecated\n\n"
     ],
     "output_type": "stream"
    }
   ],
   "source": [
    "import tushare as ts\n",
    "import plotly.graph_objects as go\n",
    "import plotly.io as pio\n",
    "import plotly.express as px\n",
    "import pandas as pd\n",
    "import numpy as np\n",
    "import baostock as bao\n",
    "from baostock.data.resultset import ResultData\n",
    "import baostock.common.contants as bao_consts\n",
    "from pandas import Timestamp\n",
    "\n",
    "ts.set_token('f96b1eeee9c8fddd357f2299cdedc1c88b2bb2a30ae1f772cf810dea')\n",
    "ts_api = ts.pro_api()\n",
    "\n",
    "blg = bao.login()\n",
    "print('baostock login => error_code: %s error_msg: %s\\n' %\n",
    "      (blg.error_code, blg.error_msg))\n"
   ]
  },
  {
   "cell_type": "code",
   "execution_count": 2,
   "outputs": [],
   "source": [
    "df_trade_cal: pd.DataFrame = ts_api.trade_cal(\n",
    "    exchange = 'SSE',\n",
    "    start_date = '20190101',\n",
    "    end_date = '20190201',\n",
    "    fields = ','.join(['cal_date', 'is_open', 'pretrade_date'])\n",
    ")\n"
   ],
   "metadata": {
    "collapsed": false,
    "pycharm": {
     "name": "#%%\n",
     "is_executing": false
    }
   }
  },
  {
   "cell_type": "code",
   "execution_count": 3,
   "outputs": [],
   "source": [
    "df_trade_cal['cal_date'] = pd.to_datetime(df_trade_cal['cal_date'], format = '%Y%m%d')\n",
    "df_trade_cal['pretrade_date'] = pd.to_datetime(df_trade_cal['pretrade_date'], format = '%Y%m%d')\n",
    "df_trade_cal['is_open'] = df_trade_cal['is_open'].apply(lambda x: str(x) == '1')\n"
   ],
   "metadata": {
    "collapsed": false,
    "pycharm": {
     "name": "#%%\n",
     "is_executing": false
    }
   }
  },
  {
   "cell_type": "code",
   "execution_count": 16,
   "outputs": [
    {
     "data": {
      "text/plain": "             cal_date  is_open pretrade_date\ncal_date                                    \n2019-01-01 2019-01-01    False    2018-12-28\n2019-01-02 2019-01-02     True    2018-12-28\n2019-01-03 2019-01-03     True    2019-01-02\n2019-01-04 2019-01-04     True    2019-01-03\n2019-01-05 2019-01-05    False    2019-01-04\n2019-01-06 2019-01-06    False    2019-01-04\n2019-01-07 2019-01-07     True    2019-01-04\n2019-01-08 2019-01-08     True    2019-01-07\n2019-01-09 2019-01-09     True    2019-01-08\n2019-01-10 2019-01-10     True    2019-01-09\n2019-01-11 2019-01-11     True    2019-01-10\n2019-01-12 2019-01-12    False    2019-01-11\n2019-01-13 2019-01-13    False    2019-01-11\n2019-01-14 2019-01-14     True    2019-01-11\n2019-01-15 2019-01-15     True    2019-01-14\n2019-01-16 2019-01-16     True    2019-01-15\n2019-01-17 2019-01-17     True    2019-01-16\n2019-01-18 2019-01-18     True    2019-01-17\n2019-01-19 2019-01-19    False    2019-01-18\n2019-01-20 2019-01-20    False    2019-01-18\n2019-01-21 2019-01-21     True    2019-01-18\n2019-01-22 2019-01-22     True    2019-01-21\n2019-01-23 2019-01-23     True    2019-01-22\n2019-01-24 2019-01-24     True    2019-01-23\n2019-01-25 2019-01-25     True    2019-01-24\n2019-01-26 2019-01-26    False    2019-01-25\n2019-01-27 2019-01-27    False    2019-01-25\n2019-01-28 2019-01-28     True    2019-01-25\n2019-01-29 2019-01-29     True    2019-01-28\n2019-01-30 2019-01-30     True    2019-01-29\n2019-01-31 2019-01-31     True    2019-01-30\n2019-02-01 2019-02-01     True    2019-01-31",
      "text/html": "<div>\n<style scoped>\n    .dataframe tbody tr th:only-of-type {\n        vertical-align: middle;\n    }\n\n    .dataframe tbody tr th {\n        vertical-align: top;\n    }\n\n    .dataframe thead th {\n        text-align: right;\n    }\n</style>\n<table border=\"1\" class=\"dataframe\">\n  <thead>\n    <tr style=\"text-align: right;\">\n      <th></th>\n      <th>cal_date</th>\n      <th>is_open</th>\n      <th>pretrade_date</th>\n    </tr>\n    <tr>\n      <th>cal_date</th>\n      <th></th>\n      <th></th>\n      <th></th>\n    </tr>\n  </thead>\n  <tbody>\n    <tr>\n      <th>2019-01-01</th>\n      <td>2019-01-01</td>\n      <td>False</td>\n      <td>2018-12-28</td>\n    </tr>\n    <tr>\n      <th>2019-01-02</th>\n      <td>2019-01-02</td>\n      <td>True</td>\n      <td>2018-12-28</td>\n    </tr>\n    <tr>\n      <th>2019-01-03</th>\n      <td>2019-01-03</td>\n      <td>True</td>\n      <td>2019-01-02</td>\n    </tr>\n    <tr>\n      <th>2019-01-04</th>\n      <td>2019-01-04</td>\n      <td>True</td>\n      <td>2019-01-03</td>\n    </tr>\n    <tr>\n      <th>2019-01-05</th>\n      <td>2019-01-05</td>\n      <td>False</td>\n      <td>2019-01-04</td>\n    </tr>\n    <tr>\n      <th>2019-01-06</th>\n      <td>2019-01-06</td>\n      <td>False</td>\n      <td>2019-01-04</td>\n    </tr>\n    <tr>\n      <th>2019-01-07</th>\n      <td>2019-01-07</td>\n      <td>True</td>\n      <td>2019-01-04</td>\n    </tr>\n    <tr>\n      <th>2019-01-08</th>\n      <td>2019-01-08</td>\n      <td>True</td>\n      <td>2019-01-07</td>\n    </tr>\n    <tr>\n      <th>2019-01-09</th>\n      <td>2019-01-09</td>\n      <td>True</td>\n      <td>2019-01-08</td>\n    </tr>\n    <tr>\n      <th>2019-01-10</th>\n      <td>2019-01-10</td>\n      <td>True</td>\n      <td>2019-01-09</td>\n    </tr>\n    <tr>\n      <th>2019-01-11</th>\n      <td>2019-01-11</td>\n      <td>True</td>\n      <td>2019-01-10</td>\n    </tr>\n    <tr>\n      <th>2019-01-12</th>\n      <td>2019-01-12</td>\n      <td>False</td>\n      <td>2019-01-11</td>\n    </tr>\n    <tr>\n      <th>2019-01-13</th>\n      <td>2019-01-13</td>\n      <td>False</td>\n      <td>2019-01-11</td>\n    </tr>\n    <tr>\n      <th>2019-01-14</th>\n      <td>2019-01-14</td>\n      <td>True</td>\n      <td>2019-01-11</td>\n    </tr>\n    <tr>\n      <th>2019-01-15</th>\n      <td>2019-01-15</td>\n      <td>True</td>\n      <td>2019-01-14</td>\n    </tr>\n    <tr>\n      <th>2019-01-16</th>\n      <td>2019-01-16</td>\n      <td>True</td>\n      <td>2019-01-15</td>\n    </tr>\n    <tr>\n      <th>2019-01-17</th>\n      <td>2019-01-17</td>\n      <td>True</td>\n      <td>2019-01-16</td>\n    </tr>\n    <tr>\n      <th>2019-01-18</th>\n      <td>2019-01-18</td>\n      <td>True</td>\n      <td>2019-01-17</td>\n    </tr>\n    <tr>\n      <th>2019-01-19</th>\n      <td>2019-01-19</td>\n      <td>False</td>\n      <td>2019-01-18</td>\n    </tr>\n    <tr>\n      <th>2019-01-20</th>\n      <td>2019-01-20</td>\n      <td>False</td>\n      <td>2019-01-18</td>\n    </tr>\n    <tr>\n      <th>2019-01-21</th>\n      <td>2019-01-21</td>\n      <td>True</td>\n      <td>2019-01-18</td>\n    </tr>\n    <tr>\n      <th>2019-01-22</th>\n      <td>2019-01-22</td>\n      <td>True</td>\n      <td>2019-01-21</td>\n    </tr>\n    <tr>\n      <th>2019-01-23</th>\n      <td>2019-01-23</td>\n      <td>True</td>\n      <td>2019-01-22</td>\n    </tr>\n    <tr>\n      <th>2019-01-24</th>\n      <td>2019-01-24</td>\n      <td>True</td>\n      <td>2019-01-23</td>\n    </tr>\n    <tr>\n      <th>2019-01-25</th>\n      <td>2019-01-25</td>\n      <td>True</td>\n      <td>2019-01-24</td>\n    </tr>\n    <tr>\n      <th>2019-01-26</th>\n      <td>2019-01-26</td>\n      <td>False</td>\n      <td>2019-01-25</td>\n    </tr>\n    <tr>\n      <th>2019-01-27</th>\n      <td>2019-01-27</td>\n      <td>False</td>\n      <td>2019-01-25</td>\n    </tr>\n    <tr>\n      <th>2019-01-28</th>\n      <td>2019-01-28</td>\n      <td>True</td>\n      <td>2019-01-25</td>\n    </tr>\n    <tr>\n      <th>2019-01-29</th>\n      <td>2019-01-29</td>\n      <td>True</td>\n      <td>2019-01-28</td>\n    </tr>\n    <tr>\n      <th>2019-01-30</th>\n      <td>2019-01-30</td>\n      <td>True</td>\n      <td>2019-01-29</td>\n    </tr>\n    <tr>\n      <th>2019-01-31</th>\n      <td>2019-01-31</td>\n      <td>True</td>\n      <td>2019-01-30</td>\n    </tr>\n    <tr>\n      <th>2019-02-01</th>\n      <td>2019-02-01</td>\n      <td>True</td>\n      <td>2019-01-31</td>\n    </tr>\n  </tbody>\n</table>\n</div>"
     },
     "metadata": {},
     "output_type": "execute_result",
     "execution_count": 16
    }
   ],
   "source": [
    "df_trade_cal.set_index(keys = 'cal_date', drop = False, inplace = True)\n",
    "df_trade_cal\n"
   ],
   "metadata": {
    "collapsed": false,
    "pycharm": {
     "name": "#%%\n",
     "is_executing": false
    }
   }
  },
  {
   "cell_type": "code",
   "execution_count": 15,
   "outputs": [
    {
     "data": {
      "text/plain": "cal_date         datetime64[ns]\nis_open                    bool\npretrade_date    datetime64[ns]\ndtype: object"
     },
     "metadata": {},
     "output_type": "execute_result",
     "execution_count": 15
    }
   ],
   "source": [
    "df_trade_cal.dtypes"
   ],
   "metadata": {
    "collapsed": false,
    "pycharm": {
     "name": "#%%\n",
     "is_executing": false
    }
   }
  },
  {
   "cell_type": "code",
   "execution_count": 17,
   "outputs": [
    {
     "data": {
      "text/plain": "cal_date\n2019-01-01   2019-01-01\n2019-01-02   2019-01-02\n2019-01-03   2019-01-03\n2019-01-04   2019-01-04\n2019-01-05   2019-01-05\n2019-01-06   2019-01-06\n2019-01-07   2019-01-07\n2019-01-08   2019-01-08\n2019-01-09   2019-01-09\n2019-01-10   2019-01-10\n2019-01-11   2019-01-11\n2019-01-12   2019-01-12\n2019-01-13   2019-01-13\n2019-01-14   2019-01-14\n2019-01-15   2019-01-15\n2019-01-16   2019-01-16\n2019-01-17   2019-01-17\n2019-01-18   2019-01-18\n2019-01-19   2019-01-19\n2019-01-20   2019-01-20\n2019-01-21   2019-01-21\n2019-01-22   2019-01-22\n2019-01-23   2019-01-23\n2019-01-24   2019-01-24\n2019-01-25   2019-01-25\n2019-01-26   2019-01-26\n2019-01-27   2019-01-27\n2019-01-28   2019-01-28\n2019-01-29   2019-01-29\n2019-01-30   2019-01-30\n2019-01-31   2019-01-31\n2019-02-01   2019-02-01\nName: cal_date, dtype: datetime64[ns]"
     },
     "metadata": {},
     "output_type": "execute_result",
     "execution_count": 17
    }
   ],
   "source": [
    "df_trade_cal['cal_date']"
   ],
   "metadata": {
    "collapsed": false,
    "pycharm": {
     "name": "#%%\n",
     "is_executing": false
    }
   }
  },
  {
   "cell_type": "code",
   "execution_count": 34,
   "outputs": [
    {
     "data": {
      "text/plain": "             cal_date  is_open pretrade_date\ncal_date                                    \n2019-01-02 2019-01-02     True    2018-12-28",
      "text/html": "<div>\n<style scoped>\n    .dataframe tbody tr th:only-of-type {\n        vertical-align: middle;\n    }\n\n    .dataframe tbody tr th {\n        vertical-align: top;\n    }\n\n    .dataframe thead th {\n        text-align: right;\n    }\n</style>\n<table border=\"1\" class=\"dataframe\">\n  <thead>\n    <tr style=\"text-align: right;\">\n      <th></th>\n      <th>cal_date</th>\n      <th>is_open</th>\n      <th>pretrade_date</th>\n    </tr>\n    <tr>\n      <th>cal_date</th>\n      <th></th>\n      <th></th>\n      <th></th>\n    </tr>\n  </thead>\n  <tbody>\n    <tr>\n      <th>2019-01-02</th>\n      <td>2019-01-02</td>\n      <td>True</td>\n      <td>2018-12-28</td>\n    </tr>\n  </tbody>\n</table>\n</div>"
     },
     "metadata": {},
     "output_type": "execute_result",
     "execution_count": 34
    }
   ],
   "source": [
    "df_trade_cal.loc['2019-01-02':'2019-01-02']\n"
   ],
   "metadata": {
    "collapsed": false,
    "pycharm": {
     "name": "#%%\n",
     "is_executing": false
    }
   }
  },
  {
   "cell_type": "code",
   "execution_count": 36,
   "outputs": [
    {
     "data": {
      "text/plain": "2"
     },
     "metadata": {},
     "output_type": "execute_result",
     "execution_count": 36
    }
   ],
   "source": [
    "df_trade_cal.columns.get_loc('pretrade_date')"
   ],
   "metadata": {
    "collapsed": false,
    "pycharm": {
     "name": "#%%\n",
     "is_executing": false
    }
   }
  },
  {
   "cell_type": "code",
   "execution_count": 10,
   "outputs": [],
   "source": [
    "cal_date_list = df_trade_cal['cal_date']"
   ],
   "metadata": {
    "collapsed": false,
    "pycharm": {
     "name": "#%%\n",
     "is_executing": false
    }
   }
  },
  {
   "cell_type": "code",
   "execution_count": 8,
   "outputs": [],
   "source": [
    "day = pd.to_datetime('20190101', format='%Y%m%d')\n",
    "day"
   ],
   "metadata": {
    "collapsed": false,
    "pycharm": {
     "name": "#%%\n",
     "is_executing": false
    }
   }
  },
  {
   "cell_type": "code",
   "execution_count": 14,
   "outputs": [
    {
     "data": {
      "text/plain": "True"
     },
     "metadata": {},
     "output_type": "execute_result",
     "execution_count": 14
    }
   ],
   "source": [
    "day in cal_date_list.tolist()"
   ],
   "metadata": {
    "collapsed": false,
    "pycharm": {
     "name": "#%%\n",
     "is_executing": false
    }
   }
  },
  {
   "cell_type": "code",
   "execution_count": 31,
   "outputs": [
    {
     "data": {
      "text/plain": "'01'"
     },
     "metadata": {},
     "output_type": "execute_result",
     "execution_count": 31
    }
   ],
   "source": [
    "a='2019-01-02'\n",
    "a[5:7]\n"
   ],
   "metadata": {
    "collapsed": false,
    "pycharm": {
     "name": "#%%\n",
     "is_executing": false
    }
   }
  },
  {
   "cell_type": "code",
   "execution_count": 40,
   "outputs": [],
   "source": [
    "df = pd.read_csv(\n",
    "    filepath_or_buffer = '/Volumes/USBDATA/stock_data/trade_calendar/trade_calendar.csv',\n",
    "    dtype = {'is_open': np.bool},\n",
    "    parse_dates = ['cal_date', 'pretrade_date']\n",
    ").set_index(keys = 'cal_date', drop = False)"
   ],
   "metadata": {
    "collapsed": false,
    "pycharm": {
     "name": "#%%\n",
     "is_executing": false
    }
   }
  },
  {
   "cell_type": "code",
   "execution_count": 48,
   "outputs": [],
   "source": [
    "df_empty = pd.DataFrame()\n"
   ],
   "metadata": {
    "collapsed": false,
    "pycharm": {
     "name": "#%%\n",
     "is_executing": false
    }
   }
  },
  {
   "cell_type": "code",
   "execution_count": 49,
   "outputs": [],
   "source": [
    "df_merge = pd.concat([df_empty, df])"
   ],
   "metadata": {
    "collapsed": false,
    "pycharm": {
     "name": "#%%\n",
     "is_executing": false
    }
   }
  },
  {
   "cell_type": "code",
   "execution_count": 60,
   "outputs": [
    {
     "data": {
      "text/plain": "True"
     },
     "metadata": {},
     "output_type": "execute_result",
     "execution_count": 60
    }
   ],
   "source": [
    "a:pd.DataFrame = df_merge['2001-01-18':'2001-01-18']\n",
    "a.empty"
   ],
   "metadata": {
    "collapsed": false,
    "pycharm": {
     "name": "#%%\n",
     "is_executing": false
    }
   }
  }
 ],
 "metadata": {
  "kernelspec": {
   "display_name": "Python 3",
   "language": "python",
   "name": "python3"
  },
  "language_info": {
   "codemirror_mode": {
    "name": "ipython",
    "version": 2
   },
   "file_extension": ".py",
   "mimetype": "text/x-python",
   "name": "python",
   "nbconvert_exporter": "python",
   "pygments_lexer": "ipython2",
   "version": "2.7.6"
  },
  "pycharm": {
   "stem_cell": {
    "cell_type": "raw",
    "source": [],
    "metadata": {
     "collapsed": false
    }
   }
  }
 },
 "nbformat": 4,
 "nbformat_minor": 0
}